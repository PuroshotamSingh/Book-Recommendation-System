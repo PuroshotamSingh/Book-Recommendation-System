{
  "nbformat": 4,
  "nbformat_minor": 0,
  "metadata": {
    "colab": {
      "name": "Book_Recommendation_System_Puroshotam_Kumar_Singh_Capstone_Project_4.ipynb",
      "provenance": [],
      "mount_file_id": "12BRHWaYBbX1XkY0fb9Iq0sxLNz4cyiJN",
      "authorship_tag": "ABX9TyNsK8bso9yOcGRC65I/Gi7t",
      "include_colab_link": true
    },
    "kernelspec": {
      "name": "python3",
      "display_name": "Python 3"
    },
    "language_info": {
      "name": "python"
    }
  },
  "cells": [
    {
      "cell_type": "markdown",
      "metadata": {
        "id": "view-in-github",
        "colab_type": "text"
      },
      "source": [
        "<a href=\"https://colab.research.google.com/github/PuroshotamSingh/Book-Recommendation-System/blob/main/Book_Recommendation_System_Puroshotam_Kumar_Singh_Capstone_Project_4.ipynb\" target=\"_parent\"><img src=\"https://colab.research.google.com/assets/colab-badge.svg\" alt=\"Open In Colab\"/></a>"
      ]
    },
    {
      "cell_type": "markdown",
      "metadata": {
        "id": "jzUgIJN9bTuU"
      },
      "source": [
        "# **Introduction**"
      ]
    },
    {
      "cell_type": "markdown",
      "metadata": {
        "id": "lkQzVeKQbYac"
      },
      "source": [
        "During the last few decades, with the rise of Youtube, Amazon, Netflix, and many other such\n",
        "web services, recommender systems have taken more and more place in our lives. From\n",
        "e-commerce (suggest to buyers articles that could interest them) to online advertisement\n",
        "(suggest to users the right contents, matching their preferences), recommender systems are\n",
        "today unavoidable in our daily online journeys.\n",
        "<br>\n",
        "In a very general way, recommender systems are algorithms aimed at suggesting relevant\n",
        "items to users (items being movies to watch, text to read, products to buy, or anything else\n",
        "depending on industries).<br>\n",
        "Recommender systems are really critical in some industries as they can generate a huge\n",
        "amount of income when they are efficient or also be a way to stand out significantly from\n",
        "competitors. **The main objective is to create a book recommendation system for users.**"
      ]
    },
    {
      "cell_type": "markdown",
      "metadata": {
        "id": "KLEOz6yKbxgf"
      },
      "source": [
        "# **Dataset information**"
      ]
    },
    {
      "cell_type": "markdown",
      "metadata": {
        "id": "ijX_x449b59S"
      },
      "source": [
        "The Book-Crossing dataset comprises 3 files.<br>\n",
        "● **Users** :<br>\n",
        "Contains the users. Note that user IDs (User-ID) have been anonymized and map to\n",
        "integers. Demographic data is provided (Location, Age) if available. Otherwise, these\n",
        "fields contain NULL values.<br>\n",
        "● **Books** : <br>\n",
        "Books are identified by their respective ISBN. Invalid ISBNs have already been removed\n",
        "from the dataset. Moreover, some content-based information is given (Book-Title,\n",
        "Book-Author, Year-Of-Publication, Publisher), obtained from Amazon Web\n",
        "Services. Note that in the case of several authors, only the first is provided. URLs linking\n",
        "to cover images are also given, appearing in three different flavors (Image-URL-S,\n",
        "Image-URL-M, Image-URL-L), i.e., small, medium, large. These URLs point to the\n",
        "Amazon website.<br>\n",
        "● **Ratings** :<br> \n",
        "Contains the book rating information. Ratings (Book-Rating) are either explicit,\n",
        "expressed on a scale from 1-10 (higher values denoting higher appreciation), or implicit,\n",
        "expressed by 0."
      ]
    },
    {
      "cell_type": "markdown",
      "metadata": {
        "id": "ch1aRABzcTNJ"
      },
      "source": [
        "# **Importing libraries**"
      ]
    },
    {
      "cell_type": "code",
      "metadata": {
        "id": "89kS38w-aTaR"
      },
      "source": [
        "# Importing libraries\n",
        "\n",
        "import pandas as pd\n",
        "import sys\n",
        "import numpy as np\n",
        "import matplotlib.pyplot as plt\n",
        "import seaborn as sns\n",
        "import random\n",
        "\n",
        "# To supress the warning messages\n",
        "\n",
        "import warnings\n",
        "warnings.filterwarnings('ignore')\n"
      ],
      "execution_count": 1,
      "outputs": []
    },
    {
      "cell_type": "markdown",
      "metadata": {
        "id": "MEmq_R7_c-n4"
      },
      "source": [
        "# **Dataset initialization**"
      ]
    },
    {
      "cell_type": "markdown",
      "metadata": {
        "id": "8HlXRMUedEhV"
      },
      "source": [
        "### **Loading Users data.**"
      ]
    },
    {
      "cell_type": "code",
      "metadata": {
        "id": "U3YfYCBLcgzb"
      },
      "source": [
        "# Loading Users data and creating dataframe\n",
        "\n",
        "users = pd.read_csv('/content/drive/MyDrive/Copy of Users.csv')"
      ],
      "execution_count": 2,
      "outputs": []
    },
    {
      "cell_type": "code",
      "metadata": {
        "colab": {
          "base_uri": "https://localhost:8080/",
          "height": 363
        },
        "id": "oDs4bXDRdanZ",
        "outputId": "99e5f2a8-d8d6-4237-85a0-72c2ce600d85"
      },
      "source": [
        "# Printing first 10 rows of users dataframe\n",
        "\n",
        "users.head(10)"
      ],
      "execution_count": 3,
      "outputs": [
        {
          "output_type": "execute_result",
          "data": {
            "text/html": [
              "<div>\n",
              "<style scoped>\n",
              "    .dataframe tbody tr th:only-of-type {\n",
              "        vertical-align: middle;\n",
              "    }\n",
              "\n",
              "    .dataframe tbody tr th {\n",
              "        vertical-align: top;\n",
              "    }\n",
              "\n",
              "    .dataframe thead th {\n",
              "        text-align: right;\n",
              "    }\n",
              "</style>\n",
              "<table border=\"1\" class=\"dataframe\">\n",
              "  <thead>\n",
              "    <tr style=\"text-align: right;\">\n",
              "      <th></th>\n",
              "      <th>User-ID</th>\n",
              "      <th>Location</th>\n",
              "      <th>Age</th>\n",
              "    </tr>\n",
              "  </thead>\n",
              "  <tbody>\n",
              "    <tr>\n",
              "      <th>0</th>\n",
              "      <td>1</td>\n",
              "      <td>nyc, new york, usa</td>\n",
              "      <td>NaN</td>\n",
              "    </tr>\n",
              "    <tr>\n",
              "      <th>1</th>\n",
              "      <td>2</td>\n",
              "      <td>stockton, california, usa</td>\n",
              "      <td>18.0</td>\n",
              "    </tr>\n",
              "    <tr>\n",
              "      <th>2</th>\n",
              "      <td>3</td>\n",
              "      <td>moscow, yukon territory, russia</td>\n",
              "      <td>NaN</td>\n",
              "    </tr>\n",
              "    <tr>\n",
              "      <th>3</th>\n",
              "      <td>4</td>\n",
              "      <td>porto, v.n.gaia, portugal</td>\n",
              "      <td>17.0</td>\n",
              "    </tr>\n",
              "    <tr>\n",
              "      <th>4</th>\n",
              "      <td>5</td>\n",
              "      <td>farnborough, hants, united kingdom</td>\n",
              "      <td>NaN</td>\n",
              "    </tr>\n",
              "    <tr>\n",
              "      <th>5</th>\n",
              "      <td>6</td>\n",
              "      <td>santa monica, california, usa</td>\n",
              "      <td>61.0</td>\n",
              "    </tr>\n",
              "    <tr>\n",
              "      <th>6</th>\n",
              "      <td>7</td>\n",
              "      <td>washington, dc, usa</td>\n",
              "      <td>NaN</td>\n",
              "    </tr>\n",
              "    <tr>\n",
              "      <th>7</th>\n",
              "      <td>8</td>\n",
              "      <td>timmins, ontario, canada</td>\n",
              "      <td>NaN</td>\n",
              "    </tr>\n",
              "    <tr>\n",
              "      <th>8</th>\n",
              "      <td>9</td>\n",
              "      <td>germantown, tennessee, usa</td>\n",
              "      <td>NaN</td>\n",
              "    </tr>\n",
              "    <tr>\n",
              "      <th>9</th>\n",
              "      <td>10</td>\n",
              "      <td>albacete, wisconsin, spain</td>\n",
              "      <td>26.0</td>\n",
              "    </tr>\n",
              "  </tbody>\n",
              "</table>\n",
              "</div>"
            ],
            "text/plain": [
              "   User-ID                            Location   Age\n",
              "0        1                  nyc, new york, usa   NaN\n",
              "1        2           stockton, california, usa  18.0\n",
              "2        3     moscow, yukon territory, russia   NaN\n",
              "3        4           porto, v.n.gaia, portugal  17.0\n",
              "4        5  farnborough, hants, united kingdom   NaN\n",
              "5        6       santa monica, california, usa  61.0\n",
              "6        7                 washington, dc, usa   NaN\n",
              "7        8            timmins, ontario, canada   NaN\n",
              "8        9          germantown, tennessee, usa   NaN\n",
              "9       10          albacete, wisconsin, spain  26.0"
            ]
          },
          "metadata": {},
          "execution_count": 3
        }
      ]
    },
    {
      "cell_type": "code",
      "metadata": {
        "colab": {
          "base_uri": "https://localhost:8080/"
        },
        "id": "FPQWGNX0f7Cw",
        "outputId": "6ded0af4-2571-4bf6-d695-8a76bf62c212"
      },
      "source": [
        "# Shape of dataset\n",
        "\n",
        "users.shape"
      ],
      "execution_count": 4,
      "outputs": [
        {
          "output_type": "execute_result",
          "data": {
            "text/plain": [
              "(278858, 3)"
            ]
          },
          "metadata": {},
          "execution_count": 4
        }
      ]
    },
    {
      "cell_type": "markdown",
      "metadata": {
        "id": "J_9yWMqVf_NA"
      },
      "source": [
        "* **Number of instances: 278858**\n",
        "* **Number of attributes: 3**"
      ]
    },
    {
      "cell_type": "code",
      "metadata": {
        "colab": {
          "base_uri": "https://localhost:8080/"
        },
        "id": "FxbGkj06etmt",
        "outputId": "94502e1c-626f-425a-9ff5-0f90ecc80481"
      },
      "source": [
        "# Columns of users data\n",
        "\n",
        "users.columns"
      ],
      "execution_count": 5,
      "outputs": [
        {
          "output_type": "execute_result",
          "data": {
            "text/plain": [
              "Index(['User-ID', 'Location', 'Age'], dtype='object')"
            ]
          },
          "metadata": {},
          "execution_count": 5
        }
      ]
    },
    {
      "cell_type": "markdown",
      "metadata": {
        "id": "p6UU2lANdlNZ"
      },
      "source": [
        "* **In our users dataset, there are three features; User_ID, Location and Age.**"
      ]
    },
    {
      "cell_type": "markdown",
      "metadata": {
        "id": "FlE_HFMed6Oz"
      },
      "source": [
        "### **Loading Books data.**"
      ]
    },
    {
      "cell_type": "code",
      "metadata": {
        "id": "f3mwAfmVdjLJ"
      },
      "source": [
        "# Loading Books data\n",
        "\n",
        "books = pd.read_csv('/content/drive/MyDrive/Copy of Books.csv')"
      ],
      "execution_count": 6,
      "outputs": []
    },
    {
      "cell_type": "code",
      "metadata": {
        "colab": {
          "base_uri": "https://localhost:8080/",
          "height": 285
        },
        "id": "kAc2ovnZeJEy",
        "outputId": "b8866d4e-3686-46bf-f4ab-2e816be1467b"
      },
      "source": [
        "# Let's see first 3 rows of books dataset\n",
        "\n",
        "books.head(3)"
      ],
      "execution_count": 7,
      "outputs": [
        {
          "output_type": "execute_result",
          "data": {
            "text/html": [
              "<div>\n",
              "<style scoped>\n",
              "    .dataframe tbody tr th:only-of-type {\n",
              "        vertical-align: middle;\n",
              "    }\n",
              "\n",
              "    .dataframe tbody tr th {\n",
              "        vertical-align: top;\n",
              "    }\n",
              "\n",
              "    .dataframe thead th {\n",
              "        text-align: right;\n",
              "    }\n",
              "</style>\n",
              "<table border=\"1\" class=\"dataframe\">\n",
              "  <thead>\n",
              "    <tr style=\"text-align: right;\">\n",
              "      <th></th>\n",
              "      <th>ISBN</th>\n",
              "      <th>Book-Title</th>\n",
              "      <th>Book-Author</th>\n",
              "      <th>Year-Of-Publication</th>\n",
              "      <th>Publisher</th>\n",
              "      <th>Image-URL-S</th>\n",
              "      <th>Image-URL-M</th>\n",
              "      <th>Image-URL-L</th>\n",
              "    </tr>\n",
              "  </thead>\n",
              "  <tbody>\n",
              "    <tr>\n",
              "      <th>0</th>\n",
              "      <td>0195153448</td>\n",
              "      <td>Classical Mythology</td>\n",
              "      <td>Mark P. O. Morford</td>\n",
              "      <td>2002</td>\n",
              "      <td>Oxford University Press</td>\n",
              "      <td>http://images.amazon.com/images/P/0195153448.0...</td>\n",
              "      <td>http://images.amazon.com/images/P/0195153448.0...</td>\n",
              "      <td>http://images.amazon.com/images/P/0195153448.0...</td>\n",
              "    </tr>\n",
              "    <tr>\n",
              "      <th>1</th>\n",
              "      <td>0002005018</td>\n",
              "      <td>Clara Callan</td>\n",
              "      <td>Richard Bruce Wright</td>\n",
              "      <td>2001</td>\n",
              "      <td>HarperFlamingo Canada</td>\n",
              "      <td>http://images.amazon.com/images/P/0002005018.0...</td>\n",
              "      <td>http://images.amazon.com/images/P/0002005018.0...</td>\n",
              "      <td>http://images.amazon.com/images/P/0002005018.0...</td>\n",
              "    </tr>\n",
              "    <tr>\n",
              "      <th>2</th>\n",
              "      <td>0060973129</td>\n",
              "      <td>Decision in Normandy</td>\n",
              "      <td>Carlo D'Este</td>\n",
              "      <td>1991</td>\n",
              "      <td>HarperPerennial</td>\n",
              "      <td>http://images.amazon.com/images/P/0060973129.0...</td>\n",
              "      <td>http://images.amazon.com/images/P/0060973129.0...</td>\n",
              "      <td>http://images.amazon.com/images/P/0060973129.0...</td>\n",
              "    </tr>\n",
              "  </tbody>\n",
              "</table>\n",
              "</div>"
            ],
            "text/plain": [
              "         ISBN  ...                                        Image-URL-L\n",
              "0  0195153448  ...  http://images.amazon.com/images/P/0195153448.0...\n",
              "1  0002005018  ...  http://images.amazon.com/images/P/0002005018.0...\n",
              "2  0060973129  ...  http://images.amazon.com/images/P/0060973129.0...\n",
              "\n",
              "[3 rows x 8 columns]"
            ]
          },
          "metadata": {},
          "execution_count": 7
        }
      ]
    },
    {
      "cell_type": "code",
      "metadata": {
        "colab": {
          "base_uri": "https://localhost:8080/"
        },
        "id": "lVD0JtP8gJFK",
        "outputId": "4f44d4bf-0166-44ce-b080-74694d92fdd3"
      },
      "source": [
        "# Shape of dataset\n",
        "\n",
        "books.shape"
      ],
      "execution_count": 8,
      "outputs": [
        {
          "output_type": "execute_result",
          "data": {
            "text/plain": [
              "(271360, 8)"
            ]
          },
          "metadata": {},
          "execution_count": 8
        }
      ]
    },
    {
      "cell_type": "markdown",
      "metadata": {
        "id": "msnawmAZgONO"
      },
      "source": [
        "* **Number of instances: 271360**\n",
        "* **Number of attributes: 8**"
      ]
    },
    {
      "cell_type": "code",
      "metadata": {
        "colab": {
          "base_uri": "https://localhost:8080/"
        },
        "id": "86G73tWYgWyF",
        "outputId": "9f3f47f9-e133-4df9-9379-ebd012c092ab"
      },
      "source": [
        "# Columns of books data\n",
        "\n",
        "books.columns"
      ],
      "execution_count": 9,
      "outputs": [
        {
          "output_type": "execute_result",
          "data": {
            "text/plain": [
              "Index(['ISBN', 'Book-Title', 'Book-Author', 'Year-Of-Publication', 'Publisher',\n",
              "       'Image-URL-S', 'Image-URL-M', 'Image-URL-L'],\n",
              "      dtype='object')"
            ]
          },
          "metadata": {},
          "execution_count": 9
        }
      ]
    },
    {
      "cell_type": "markdown",
      "metadata": {
        "id": "wM6eUYTTefWC"
      },
      "source": [
        "* **In our books dataset, there are 8 features; 'ISBN', 'Book-Title', 'Book-Author', 'Year-Of-Publication', 'Publisher', 'Image-URL-S', 'Image-URL-M', 'Image-URL-L'.**"
      ]
    },
    {
      "cell_type": "markdown",
      "metadata": {
        "id": "BTxUZrBWgqji"
      },
      "source": [
        "### **Loading Ratings data.**"
      ]
    },
    {
      "cell_type": "code",
      "metadata": {
        "id": "5k9woKx6eYFn"
      },
      "source": [
        "# Ratings data\n",
        "\n",
        "ratings = pd.read_csv('/content/drive/MyDrive/Copy of Ratings.csv')"
      ],
      "execution_count": 10,
      "outputs": []
    },
    {
      "cell_type": "code",
      "metadata": {
        "colab": {
          "base_uri": "https://localhost:8080/",
          "height": 206
        },
        "id": "Wz0XJ5Fkg8Ll",
        "outputId": "589e9f1f-1087-4a29-84c6-8ccf1a9bd3a8"
      },
      "source": [
        "# Let's see first 5 rows of ratings dataset\n",
        "\n",
        "ratings.head()"
      ],
      "execution_count": 11,
      "outputs": [
        {
          "output_type": "execute_result",
          "data": {
            "text/html": [
              "<div>\n",
              "<style scoped>\n",
              "    .dataframe tbody tr th:only-of-type {\n",
              "        vertical-align: middle;\n",
              "    }\n",
              "\n",
              "    .dataframe tbody tr th {\n",
              "        vertical-align: top;\n",
              "    }\n",
              "\n",
              "    .dataframe thead th {\n",
              "        text-align: right;\n",
              "    }\n",
              "</style>\n",
              "<table border=\"1\" class=\"dataframe\">\n",
              "  <thead>\n",
              "    <tr style=\"text-align: right;\">\n",
              "      <th></th>\n",
              "      <th>User-ID</th>\n",
              "      <th>ISBN</th>\n",
              "      <th>Book-Rating</th>\n",
              "    </tr>\n",
              "  </thead>\n",
              "  <tbody>\n",
              "    <tr>\n",
              "      <th>0</th>\n",
              "      <td>276725</td>\n",
              "      <td>034545104X</td>\n",
              "      <td>0</td>\n",
              "    </tr>\n",
              "    <tr>\n",
              "      <th>1</th>\n",
              "      <td>276726</td>\n",
              "      <td>0155061224</td>\n",
              "      <td>5</td>\n",
              "    </tr>\n",
              "    <tr>\n",
              "      <th>2</th>\n",
              "      <td>276727</td>\n",
              "      <td>0446520802</td>\n",
              "      <td>0</td>\n",
              "    </tr>\n",
              "    <tr>\n",
              "      <th>3</th>\n",
              "      <td>276729</td>\n",
              "      <td>052165615X</td>\n",
              "      <td>3</td>\n",
              "    </tr>\n",
              "    <tr>\n",
              "      <th>4</th>\n",
              "      <td>276729</td>\n",
              "      <td>0521795028</td>\n",
              "      <td>6</td>\n",
              "    </tr>\n",
              "  </tbody>\n",
              "</table>\n",
              "</div>"
            ],
            "text/plain": [
              "   User-ID        ISBN  Book-Rating\n",
              "0   276725  034545104X            0\n",
              "1   276726  0155061224            5\n",
              "2   276727  0446520802            0\n",
              "3   276729  052165615X            3\n",
              "4   276729  0521795028            6"
            ]
          },
          "metadata": {},
          "execution_count": 11
        }
      ]
    },
    {
      "cell_type": "code",
      "metadata": {
        "colab": {
          "base_uri": "https://localhost:8080/"
        },
        "id": "7LHWwkM4hF04",
        "outputId": "cc534b8b-81d5-43f4-a025-febc9fde09ab"
      },
      "source": [
        "# Shape of dataset\n",
        "\n",
        "ratings.shape"
      ],
      "execution_count": 12,
      "outputs": [
        {
          "output_type": "execute_result",
          "data": {
            "text/plain": [
              "(1149780, 3)"
            ]
          },
          "metadata": {},
          "execution_count": 12
        }
      ]
    },
    {
      "cell_type": "markdown",
      "metadata": {
        "id": "DLkidSMMhPqY"
      },
      "source": [
        "* **Number of instances: 1149780**\n",
        "* **Number of attributes: 3**"
      ]
    },
    {
      "cell_type": "code",
      "metadata": {
        "colab": {
          "base_uri": "https://localhost:8080/"
        },
        "id": "vNAD9R1ChNGL",
        "outputId": "54bf3f38-d499-49af-e089-6747d1e7b748"
      },
      "source": [
        "# Columns of ratings data\n",
        "\n",
        "ratings.columns"
      ],
      "execution_count": 13,
      "outputs": [
        {
          "output_type": "execute_result",
          "data": {
            "text/plain": [
              "Index(['User-ID', 'ISBN', 'Book-Rating'], dtype='object')"
            ]
          },
          "metadata": {},
          "execution_count": 13
        }
      ]
    },
    {
      "cell_type": "markdown",
      "metadata": {
        "id": "0nX8wStwhf-O"
      },
      "source": [
        "* **In our ratings dataset, there are three features; User_ID, ISBN and Book_Rating.**"
      ]
    },
    {
      "cell_type": "markdown",
      "metadata": {
        "id": "P92LQ31LjVsG"
      },
      "source": [
        "# **EDA on Users dataset**"
      ]
    },
    {
      "cell_type": "markdown",
      "metadata": {
        "id": "b1OPKfeCmFkT"
      },
      "source": [
        "### **Let's check for null values.**"
      ]
    },
    {
      "cell_type": "code",
      "metadata": {
        "colab": {
          "base_uri": "https://localhost:8080/"
        },
        "id": "7JTpj_SLhbHH",
        "outputId": "a09ef4ee-5f8c-4640-e300-76ae05a036d5"
      },
      "source": [
        "# Checking for total null values in each column\n",
        "\n",
        "users.isnull().sum()"
      ],
      "execution_count": 14,
      "outputs": [
        {
          "output_type": "execute_result",
          "data": {
            "text/plain": [
              "User-ID          0\n",
              "Location         0\n",
              "Age         110762\n",
              "dtype: int64"
            ]
          },
          "metadata": {},
          "execution_count": 14
        }
      ]
    },
    {
      "cell_type": "code",
      "metadata": {
        "colab": {
          "base_uri": "https://localhost:8080/"
        },
        "id": "cjKIA4kFmw_6",
        "outputId": "8d95c8f7-e0a4-441b-d98c-dc09eb43693e"
      },
      "source": [
        "# Percentage of null values in each column\n",
        "\n",
        "print(100*(users.isnull().sum()/len(users.index)).sort_values(ascending=False))"
      ],
      "execution_count": 15,
      "outputs": [
        {
          "output_type": "stream",
          "name": "stdout",
          "text": [
            "Age         39.719857\n",
            "Location     0.000000\n",
            "User-ID      0.000000\n",
            "dtype: float64\n"
          ]
        }
      ]
    },
    {
      "cell_type": "markdown",
      "metadata": {
        "id": "iVkh4s9DnPWA"
      },
      "source": [
        "* **Age column have around 40% null values.**"
      ]
    },
    {
      "cell_type": "markdown",
      "metadata": {
        "id": "YtzhDO_ujC1T"
      },
      "source": [
        "**Let's check the distribution of Age column.**"
      ]
    },
    {
      "cell_type": "code",
      "metadata": {
        "id": "QSgDv46bnNwN",
        "colab": {
          "base_uri": "https://localhost:8080/",
          "height": 310
        },
        "outputId": "55287360-2a93-4854-9c5d-94cff649a8dc"
      },
      "source": [
        "# Histplot showing distribution of age\n",
        "\n",
        "users.Age.hist(bins=[0, 10, 20, 30, 40, 50, 100])\n",
        "plt.title('Age Distribution\\n')\n",
        "plt.xlabel('Age')\n",
        "plt.ylabel('Count')\n",
        "plt.show()"
      ],
      "execution_count": 16,
      "outputs": [
        {
          "output_type": "display_data",
          "data": {
            "image/png": "[encoded data removed]",
            "text/plain": [
              "<Figure size 432x288 with 1 Axes>"
            ]
          },
          "metadata": {
            "needs_background": "light"
          }
        }
      ]
    },
    {
      "cell_type": "markdown",
      "metadata": {
        "id": "bcHjJlSWlHRn"
      },
      "source": [
        "**The most active users fall in the range of 20-30s.**"
      ]
    },
    {
      "cell_type": "markdown",
      "metadata": {
        "id": "lozkdDuGm9rp"
      },
      "source": [
        "### **Let's check for outliers in Age column.**"
      ]
    },
    {
      "cell_type": "code",
      "metadata": {
        "id": "t5TSTWEDjReT",
        "colab": {
          "base_uri": "https://localhost:8080/",
          "height": 339
        },
        "outputId": "f2c68990-c2ef-409f-988a-e6e085c3ec04"
      },
      "source": [
        "# Plotting boxplot for age column\n",
        "\n",
        "plt.figure(figsize=(8,5))\n",
        "sns.boxplot(y='Age', data=users)\n",
        "plt.title('Boxplot of Age column')"
      ],
      "execution_count": 17,
      "outputs": [
        {
          "output_type": "execute_result",
          "data": {
            "text/plain": [
              "Text(0.5, 1.0, 'Boxplot of Age column')"
            ]
          },
          "metadata": {},
          "execution_count": 17
        },
        {
          "output_type": "display_data",
          "data": {
            "image/png": "[encoded data removed]",
            "text/plain": [
              "<Figure size 576x360 with 1 Axes>"
            ]
          },
          "metadata": {
            "needs_background": "light"
          }
        }
      ]
    },
    {
      "cell_type": "code",
      "metadata": {
        "colab": {
          "base_uri": "https://localhost:8080/"
        },
        "id": "xS2DAoBaniul",
        "outputId": "ba179342-286d-47c2-dc85-cf2a4e6b4a0c"
      },
      "source": [
        "# Descriptive stats of Age column\n",
        "\n",
        "users.Age.describe()"
      ],
      "execution_count": 18,
      "outputs": [
        {
          "output_type": "execute_result",
          "data": {
            "text/plain": [
              "count    168096.000000\n",
              "mean         34.751434\n",
              "std          14.428097\n",
              "min           0.000000\n",
              "25%          24.000000\n",
              "50%          32.000000\n",
              "75%          44.000000\n",
              "max         244.000000\n",
              "Name: Age, dtype: float64"
            ]
          },
          "metadata": {},
          "execution_count": 18
        }
      ]
    },
    {
      "cell_type": "markdown",
      "metadata": {
        "id": "943uil8VoNTG"
      },
      "source": [
        "* **From boxplot as well as descriptive stats, it is clear that maximum value of age is 244.**\n",
        "* **So, there are outliers in Age column.**"
      ]
    },
    {
      "cell_type": "markdown",
      "metadata": {
        "id": "9WBfJ5ysqMrT"
      },
      "source": [
        "### **Let's clean Age column**"
      ]
    },
    {
      "cell_type": "code",
      "metadata": {
        "colab": {
          "base_uri": "https://localhost:8080/",
          "height": 367
        },
        "id": "_Ll19cX0t0J3",
        "outputId": "27e25a0c-d94f-47e6-f7f0-102fd9d5a6ec"
      },
      "source": [
        "# Displot of Age column\n",
        "\n",
        "plt.figure(figsize=(8,5))\n",
        "sns.distplot(users.Age)\n",
        "plt.title('Age Distribution Plot')"
      ],
      "execution_count": 19,
      "outputs": [
        {
          "output_type": "execute_result",
          "data": {
            "text/plain": [
              "Text(0.5, 1.0, 'Age Distribution Plot')"
            ]
          },
          "metadata": {},
          "execution_count": 19
        },
        {
          "output_type": "display_data",
          "data": {
            "image/png": "[encoded data removed]",
            "text/plain": [
              "<Figure size 576x360 with 1 Axes>"
            ]
          },
          "metadata": {
            "needs_background": "light"
          }
        }
      ]
    },
    {
      "cell_type": "markdown",
      "metadata": {
        "id": "MMS07PLJtl1l"
      },
      "source": [
        "* **Age below 5 and above 100 do not make much sense for our book rating case.**\n",
        "* **So, we can replace these by NaNs.**"
      ]
    },
    {
      "cell_type": "code",
      "metadata": {
        "id": "S6YWdTFDoK4u"
      },
      "source": [
        "# Replacing outlier data with NaN\n",
        "\n",
        "users.loc[(users.Age > 100) | (users.Age < 5), 'Age'] = np.nan"
      ],
      "execution_count": 20,
      "outputs": []
    },
    {
      "cell_type": "markdown",
      "metadata": {
        "id": "87lWB13auMyo"
      },
      "source": [
        "**Now let's again check for null values**"
      ]
    },
    {
      "cell_type": "code",
      "metadata": {
        "colab": {
          "base_uri": "https://localhost:8080/"
        },
        "id": "caK7FZUquJw9",
        "outputId": "e13a7e25-1352-4b4a-e566-d1e130589c65"
      },
      "source": [
        "# Total no. of null values in users data\n",
        "\n",
        "users.isna().sum()"
      ],
      "execution_count": 21,
      "outputs": [
        {
          "output_type": "execute_result",
          "data": {
            "text/plain": [
              "User-ID          0\n",
              "Location         0\n",
              "Age         112010\n",
              "dtype: int64"
            ]
          },
          "metadata": {},
          "execution_count": 21
        }
      ]
    },
    {
      "cell_type": "markdown",
      "metadata": {
        "id": "tojHsvFyuq3Q"
      },
      "source": [
        "**Replacing NaN values with mean**"
      ]
    },
    {
      "cell_type": "code",
      "metadata": {
        "id": "mqouLMjsucit"
      },
      "source": [
        "# Replacing Nan values with mean\n",
        "\n",
        "users.Age = users.Age.fillna(users.Age.mean())"
      ],
      "execution_count": 22,
      "outputs": []
    },
    {
      "cell_type": "code",
      "metadata": {
        "colab": {
          "base_uri": "https://localhost:8080/"
        },
        "id": "HuaD3bi4u5yN",
        "outputId": "5f7231a8-5fe4-4dc2-cd04-3f6d72b4131f"
      },
      "source": [
        "# Let's see total no of null values again\n",
        "\n",
        "users.isna().sum()"
      ],
      "execution_count": 23,
      "outputs": [
        {
          "output_type": "execute_result",
          "data": {
            "text/plain": [
              "User-ID     0\n",
              "Location    0\n",
              "Age         0\n",
              "dtype: int64"
            ]
          },
          "metadata": {},
          "execution_count": 23
        }
      ]
    },
    {
      "cell_type": "markdown",
      "metadata": {
        "id": "5k2dhvgovIUM"
      },
      "source": [
        "**Great! We have impute all null values.**"
      ]
    },
    {
      "cell_type": "markdown",
      "metadata": {
        "id": "QbiRPWwOwAFC"
      },
      "source": [
        "**After cleaning let's see the distribution of Age column again**"
      ]
    },
    {
      "cell_type": "code",
      "metadata": {
        "colab": {
          "base_uri": "https://localhost:8080/",
          "height": 367
        },
        "id": "5mPVUYmVvDc-",
        "outputId": "92b47410-ce15-4049-a82f-6837b9d3afd3"
      },
      "source": [
        "# Distplot to see distribution of Age after cleaning\n",
        "\n",
        "plt.figure(figsize=(8,5))\n",
        "sns.distplot(users.Age)\n",
        "plt.title('Age Distribution Plot')"
      ],
      "execution_count": 24,
      "outputs": [
        {
          "output_type": "execute_result",
          "data": {
            "text/plain": [
              "Text(0.5, 1.0, 'Age Distribution Plot')"
            ]
          },
          "metadata": {},
          "execution_count": 24
        },
        {
          "output_type": "display_data",
          "data": {
            "image/png": "[encoded data removed]",
            "text/plain": [
              "<Figure size 576x360 with 1 Axes>"
            ]
          },
          "metadata": {
            "needs_background": "light"
          }
        }
      ]
    },
    {
      "cell_type": "markdown",
      "metadata": {
        "id": "cxuHR65fwHxW"
      },
      "source": [
        "**Nice! We have treated outliers and also imputed null values.**"
      ]
    },
    {
      "cell_type": "markdown",
      "metadata": {
        "id": "7hcayI0GwhlJ"
      },
      "source": [
        "### **Location column**"
      ]
    },
    {
      "cell_type": "markdown",
      "metadata": {
        "id": "n2PwMi-EwqT1"
      },
      "source": [
        "* **Let's see unique values in location column.**"
      ]
    },
    {
      "cell_type": "code",
      "metadata": {
        "colab": {
          "base_uri": "https://localhost:8080/"
        },
        "id": "FWdr-9Mgv8sp",
        "outputId": "4b978451-34bf-4cfe-8bce-bfd765af6051"
      },
      "source": [
        "# Printing unique values of location column\n",
        "\n",
        "users.Location.unique()"
      ],
      "execution_count": 25,
      "outputs": [
        {
          "output_type": "execute_result",
          "data": {
            "text/plain": [
              "array(['nyc, new york, usa', 'stockton, california, usa',\n",
              "       'moscow, yukon territory, russia', ...,\n",
              "       'sergnano, lombardia, italy', 'stranraer, n/a, united kingdom',\n",
              "       'tacoma, washington, united kingdom'], dtype=object)"
            ]
          },
          "metadata": {},
          "execution_count": 25
        }
      ]
    },
    {
      "cell_type": "markdown",
      "metadata": {
        "id": "bTxJC2cjyAyI"
      },
      "source": [
        "* **Location column contains some special characters.**\n",
        "* **Let's clean this column and also create a new column 'Country'.**"
      ]
    },
    {
      "cell_type": "code",
      "metadata": {
        "id": "nNWQ1Vffw-29"
      },
      "source": [
        "# Creating column Country\n",
        "\n",
        "for i in users:\n",
        "    users['Country']=users.Location.str.extract(r'\\,+\\s?(\\w*\\s?\\w*)\\\"*$')   "
      ],
      "execution_count": 26,
      "outputs": []
    },
    {
      "cell_type": "markdown",
      "metadata": {
        "id": "N46PUtyr0TLz"
      },
      "source": [
        "**Drop location column from dataset.**"
      ]
    },
    {
      "cell_type": "code",
      "metadata": {
        "id": "fDVM14vyyu5M"
      },
      "source": [
        "# dropping location column\n",
        "\n",
        "users.drop('Location',axis=1,inplace=True)"
      ],
      "execution_count": 27,
      "outputs": []
    },
    {
      "cell_type": "code",
      "metadata": {
        "id": "Nnjuc4IR0Ykz"
      },
      "source": [
        "# Converting location column into string datatype\n",
        "\n",
        "users['Country']=users['Country'].astype('str')"
      ],
      "execution_count": 28,
      "outputs": []
    },
    {
      "cell_type": "code",
      "metadata": {
        "colab": {
          "base_uri": "https://localhost:8080/"
        },
        "id": "fvBuaDRITDi7",
        "outputId": "0b20255d-ce92-484b-96ed-31b47cceacfa"
      },
      "source": [
        "# Extracting elements of Country column\n",
        "\n",
        "a=list(users.Country.unique())\n",
        "a=set(a)\n",
        "a=list(a)\n",
        "a = [x for x in a if x is not None]\n",
        "a.sort()\n",
        "print(a)"
      ],
      "execution_count": 29,
      "outputs": [
        {
          "output_type": "stream",
          "name": "stdout",
          "text": [
            "['', '01776', '02458', '19104', '23232', '30064', '85021', '87510', '_ brasil', 'a', 'aaa', 'adsgfdr', 'afghanistan', 'ahrensburg', 'alachua', 'albania', 'alderney', 'algeria', 'algérie', 'allen', 'ama lurra', 'america', 'american samoa', 'andorra', 'angola', 'antarctica', 'aotearoa', 'argentina', 'armenia', 'aroostook', 'aruba', 'asturies', 'auckland', 'austbritania', 'australia', 'australii', 'austria', 'autralia', 'az', 'azerbaijan', 'bademn würtemberg', 'bahamas', 'bahrain', 'baltimore', 'bangladesh', 'barbados', 'basilicata', 'basque country', 'bavaria', 'baxter', 'bbbzzzzz', 'belarus', 'belgi', 'belgique', 'belgium', 'belize', 'bell', 'benin', 'berguedà', 'bermuda', 'bernalillo', 'bfe', 'bhutan', 'bih', 'bkk', 'bladen', 'bolivia', 'bosnia', 'botswana', 'brasil', 'brazil', 'brunei', 'brunei darussalam', 'bucks', 'bulgaria', 'buncombe', 'burkina faso', 'burkinafasu', 'burlington', 'burma', 'butler', 'c', 'cadd0', 'calabria', 'california', 'cambodia', 'camden', 'cameroon', 'can', 'canada', 'canada eh', 'cananda', 'canda', 'cape may', 'cape town', 'cape verde', 'caribbean sea', 'carter', 'cass', 'catalonia', 'catalunya', 'catalunya spain', 'cayman islands', 'chad', 'channel islands', 'cherokee', 'chian', 'chile', 'china', 'china öð¹ú', 'chinaöð¹ú', 'clackamas', 'clinton', 'cn', 'cnina', 'collin', 'colombia', 'comoros', 'congo', 'cook', 'copenhagen', 'costa rica', 'country', 'courtenay', 'croatia', 'csa', 'cuba', 'cyprus', 'czech republic', 'côte d', 'dauphin', 'davidson', 'de', 'dekalb', 'denmark', 'der', 'deutsches reich', 'deutschland', 'dfg', 'distrito federal', 'diy', 'djibouti', 'dominica', 'dominican republic', 'doodedoo', 'dublin', 'east africa', 'ecuador', 'effingham', 'egypt', 'el salvador', 'england', 'england uk', 'english', 'equatorial geuinea', 'eritrea', 'españa', 'essex', 'estonia', 'ethiopia', 'europa', 'europe', 'euskadi', 'euskal herria', 'evil empire', 'fairyland', 'faroe islands', 'ferrara', 'fifi', 'fiji', 'finland', 'fontana', 'fort bend', 'fortaleza', 'framingham', 'france', 'fred', 'frome', 'fulton', 'gabon', 'galiza', 'galiza neghra', 'gb', 'geermany', 'georgia', 'germany', 'germay', 'ghana', 'goteborg', 'granville', 'greece', 'grenada', 'guam', 'guatemala', 'guernsey', 'guinea', 'guyana', 'haiti', 'hamilton', 'hampden', 'harvatija', 'heaven', 'hennipen', 'henry', 'hernando', 'hidalgo', 'hillsborough', 'holland', 'holy see', 'honduras', 'hong kong', 'hongkong', 'hornyonic', 'houston', 'hungary', 'iceland', 'id', 'il canada', 'in', 'india', 'indiai', 'indonesia', 'input error', 'iran', 'iraq', 'ireland', 'israel', 'isreal', 'italia', 'italien', 'italy', 'itlay', 'jackson', 'jamaica', 'japan', 'jersey', 'johnson', 'jordan', 'k1c7b1', 'kazakhstan', 'kenya', 'kern', 'kiribati', 'korea', 'kosovo', 'ksa', 'kuwait', 'kyrgyzstan', 'kz', 'l', 'la argentina', 'la belgique', 'la france', 'la suisse', 'la svizzera', 'lake', 'lane', 'laos', 'latvia', 'lazio', 'le canada', 'le madagascar', 'lebanon', 'lecce', 'lee', 'lesotho', 'liaoning', 'liberia', 'libya', 'lithuania', 'liushi', 'livingston', 'lj', 'lkjlj', 'lleida', 'lombardia', 'london', 'lornsenland', 'luxembourg', 'macau', 'macedonia', 'madagascar', 'madrid', 'maine', 'malawi', 'malaysia', 'malaysian', 'maldives', 'mali', 'malta', 'maracopa', 'maricopa', 'maroc', 'marrion', 'marshall islands', 'mauritania', 'mauritius', 'mexico', 'micronesia', 'milano', 'minnehaha', 'missouri', 'moldova', 'monaco', 'mongolia', 'monroe', 'monterrey', 'mordor', 'morgan', 'morocco', 'mozambique', 'moçambique', 'my', 'myanmar', 'mérida', 'méxico', 'namibia', 'nan', 'nederlands', 'nepal', 'netherlands', 'netherlands antilles', 'neverland', 'new london', 'new zealand', 'newzealand', 'nh', 'nicaragua', 'niger', 'nigeria', 'nl', 'no more', 'none', 'north carolina', 'north korea', 'northern ireland', 'norway', 'nowhere', 'nrw', 'nyc', 'nyhamnsläge', 'nz', 'oakland', 'ohio', 'oman', 'onondaga nation', 'orange co', 'orense', 'osceola', 'ouranos', 'pa', 'pakistan', 'palau', 'palestine', 'palm beach', 'panama', 'paraguay', 'pasco', 'pender', 'peru', 'perãº', 'petrolwar nation', 'phila', 'philippine', 'philippines', 'philippinies', 'phillipines', 'phils', 'phippines', 'pinallas', 'pippo', 'pistlavakia', 'poland', 'polk', 'polska', 'portugal', 'pr', 'prc', 'prince william', 'pueblo', 'puerto rico', 'qatar', 'queensland', 'queenspark', 'quit', 'rapides', 'rice', 'richmond country', 'rmi', 'roma', 'romania', 'rosario', 'rosello', 'rsa', 'russia', 'russian federation', 'rutherford', 'rwanda', 'saint loius', 'saint lucia', 'saint luica', 'samoa', 'san bernardino', 'san franicsco', 'san marino', 'san mateo', 'santa barbara', 'sardegna', 'sardinia', 'saudi arabia', 'saudia arabia', 'scotland', 'senegal', 'serbia', 'shelby', 'sicilia', 'sierra leone', 'singapore', 'slo', 'slovak republik', 'slovakia', 'slovenia', 'smith', 'solano', 'solomon islands', 'somalia', 'somewherein space', 'south africa', 'south korea', 'space', 'spain', 'spotsylvania', 'sri lanka', 'srilanka', 'strongbadia', 'sudan', 'suisse', 'suriname', 'swaziland', 'swazilandia', 'sweden', 'switzerland', 'syria', 'taiwan', 'tajikistan', 'tanzania', 'tdzimi', 'texas', 'thailand', 'thailoand', 'the', 'the gambia', 'the netherlands', 'the philippines', 'thing', 'tobago', 'togo', 'tonga', 'toscana', 'travelling', 'trinidad', 'tunisia', 'turkei', 'turkey', 'turkmenistan', 'tyrtyrt', 'türkiye', 'u', 'u k', 'ua', 'uae', 'uganda', 'uk', 'ukrain', 'ukraine', 'unit', 'unite states', 'united kindgdom', 'united kindgonm', 'united kingdom', 'united sates', 'united staes', 'united state', 'united statea', 'united stated', 'united states', 'universe', 'unknown', 'urugua', 'uruguay', 'us', 'usa', 'ussurfing', 'ust', 'uusa', 'uyo', 'uzbekistan', 'valtesse', 'van wert', 'vanuatu', 'vatican city', 'venezuela', 'ventura', 'ventura county', 'vicenza', 'victoria', 'vietnam', 'vorce', 'wales', 'washtenaw', 'west yorkshire', 'whatcom', 'windham', 'wonderful usa', 'wood', 'worcester', 'x', 'xinyu', 'xxxxxx', 'yakima', 'yanhill', 'yemen', 'ysa', 'yugoslavia', 'yunling', 'z', 'zambia', 'zhengjiang', 'zimbabwe', 'öð¹ú']\n"
          ]
        }
      ]
    },
    {
      "cell_type": "markdown",
      "metadata": {
        "id": "CCK2dUuaTOGU"
      },
      "source": [
        "* **Here, we can see that some data has misspellings. So, let's correct them.**"
      ]
    },
    {
      "cell_type": "code",
      "metadata": {
        "id": "gRBT9j4wTMmd"
      },
      "source": [
        "# Replacing incorrect words with correct one\n",
        "\n",
        "users['Country'].replace(['','01776','02458','19104','23232','30064','85021','87510','alachua','america','austria','autralia','cananda','geermany','italia','united kindgonm','united sates','united staes','united state','united states','us'],\n",
        "                           ['other','usa','usa','usa','usa','usa','usa','usa','usa','usa','australia','australia','canada','germany','italy','united kingdom','usa','usa','usa','usa','usa'],inplace=True)"
      ],
      "execution_count": 30,
      "outputs": []
    },
    {
      "cell_type": "code",
      "metadata": {
        "colab": {
          "base_uri": "https://localhost:8080/",
          "height": 334
        },
        "id": "JDa7WjmWTkcf",
        "outputId": "e39bf1db-8975-47c3-8506-aa321baa56fd"
      },
      "source": [
        "# Barplot to show count of users as per country\n",
        "\n",
        "plt.figure(figsize=(15,7))\n",
        "sns.countplot(y='Country',data=users,order=pd.value_counts(users['Country']).iloc[:10].index)\n",
        "plt.title('Count of users Country wise')"
      ],
      "execution_count": 31,
      "outputs": [
        {
          "output_type": "execute_result",
          "data": {
            "text/plain": [
              "Text(0.5, 1.0, 'Count of users Country wise')"
            ]
          },
          "metadata": {},
          "execution_count": 31
        },
        {
          "output_type": "display_data",
          "data": {
            "image/png": "[encoded data removed]",
            "text/plain": [
              "<Figure size 1080x504 with 1 Axes>"
            ]
          },
          "metadata": {
            "needs_background": "light"
          }
        }
      ]
    },
    {
      "cell_type": "markdown",
      "metadata": {
        "id": "AkATswxUUSvm"
      },
      "source": [
        "* **Most number of users are from USA followed by Canada and United Kingdom.**"
      ]
    },
    {
      "cell_type": "code",
      "metadata": {
        "colab": {
          "base_uri": "https://localhost:8080/"
        },
        "id": "8OHCaSM2UjR7",
        "outputId": "fbab9ba0-ed4a-415f-cf83-5894d5849ddb"
      },
      "source": [
        "# Checking no. of null values in Users dataset.\n",
        "\n",
        "users.isna().sum()"
      ],
      "execution_count": 32,
      "outputs": [
        {
          "output_type": "execute_result",
          "data": {
            "text/plain": [
              "User-ID    0\n",
              "Age        0\n",
              "Country    0\n",
              "dtype: int64"
            ]
          },
          "metadata": {},
          "execution_count": 32
        }
      ]
    },
    {
      "cell_type": "markdown",
      "metadata": {
        "id": "rY2CGDXZU7jk"
      },
      "source": [
        "**Great! We have done EDA as well as cleaning of Users dataset.**"
      ]
    },
    {
      "cell_type": "markdown",
      "metadata": {
        "id": "Z-y7ikovVOWC"
      },
      "source": [
        "# **EDA on Books dataset**"
      ]
    },
    {
      "cell_type": "markdown",
      "metadata": {
        "id": "ovnm6qusYyRA"
      },
      "source": [
        "**Let's have a look at books dataset again.**"
      ]
    },
    {
      "cell_type": "code",
      "metadata": {
        "colab": {
          "base_uri": "https://localhost:8080/",
          "height": 285
        },
        "id": "JupKmiHlU3rm",
        "outputId": "adb51359-41e9-4709-e64e-f1e2e263cd8d"
      },
      "source": [
        "# Printing top 3 rows of books dataset.\n",
        "\n",
        "books.head(3)"
      ],
      "execution_count": 33,
      "outputs": [
        {
          "output_type": "execute_result",
          "data": {
            "text/html": [
              "<div>\n",
              "<style scoped>\n",
              "    .dataframe tbody tr th:only-of-type {\n",
              "        vertical-align: middle;\n",
              "    }\n",
              "\n",
              "    .dataframe tbody tr th {\n",
              "        vertical-align: top;\n",
              "    }\n",
              "\n",
              "    .dataframe thead th {\n",
              "        text-align: right;\n",
              "    }\n",
              "</style>\n",
              "<table border=\"1\" class=\"dataframe\">\n",
              "  <thead>\n",
              "    <tr style=\"text-align: right;\">\n",
              "      <th></th>\n",
              "      <th>ISBN</th>\n",
              "      <th>Book-Title</th>\n",
              "      <th>Book-Author</th>\n",
              "      <th>Year-Of-Publication</th>\n",
              "      <th>Publisher</th>\n",
              "      <th>Image-URL-S</th>\n",
              "      <th>Image-URL-M</th>\n",
              "      <th>Image-URL-L</th>\n",
              "    </tr>\n",
              "  </thead>\n",
              "  <tbody>\n",
              "    <tr>\n",
              "      <th>0</th>\n",
              "      <td>0195153448</td>\n",
              "      <td>Classical Mythology</td>\n",
              "      <td>Mark P. O. Morford</td>\n",
              "      <td>2002</td>\n",
              "      <td>Oxford University Press</td>\n",
              "      <td>http://images.amazon.com/images/P/0195153448.0...</td>\n",
              "      <td>http://images.amazon.com/images/P/0195153448.0...</td>\n",
              "      <td>http://images.amazon.com/images/P/0195153448.0...</td>\n",
              "    </tr>\n",
              "    <tr>\n",
              "      <th>1</th>\n",
              "      <td>0002005018</td>\n",
              "      <td>Clara Callan</td>\n",
              "      <td>Richard Bruce Wright</td>\n",
              "      <td>2001</td>\n",
              "      <td>HarperFlamingo Canada</td>\n",
              "      <td>http://images.amazon.com/images/P/0002005018.0...</td>\n",
              "      <td>http://images.amazon.com/images/P/0002005018.0...</td>\n",
              "      <td>http://images.amazon.com/images/P/0002005018.0...</td>\n",
              "    </tr>\n",
              "    <tr>\n",
              "      <th>2</th>\n",
              "      <td>0060973129</td>\n",
              "      <td>Decision in Normandy</td>\n",
              "      <td>Carlo D'Este</td>\n",
              "      <td>1991</td>\n",
              "      <td>HarperPerennial</td>\n",
              "      <td>http://images.amazon.com/images/P/0060973129.0...</td>\n",
              "      <td>http://images.amazon.com/images/P/0060973129.0...</td>\n",
              "      <td>http://images.amazon.com/images/P/0060973129.0...</td>\n",
              "    </tr>\n",
              "  </tbody>\n",
              "</table>\n",
              "</div>"
            ],
            "text/plain": [
              "         ISBN  ...                                        Image-URL-L\n",
              "0  0195153448  ...  http://images.amazon.com/images/P/0195153448.0...\n",
              "1  0002005018  ...  http://images.amazon.com/images/P/0002005018.0...\n",
              "2  0060973129  ...  http://images.amazon.com/images/P/0060973129.0...\n",
              "\n",
              "[3 rows x 8 columns]"
            ]
          },
          "metadata": {},
          "execution_count": 33
        }
      ]
    },
    {
      "cell_type": "markdown",
      "metadata": {
        "id": "IkP3_BzSZdWU"
      },
      "source": [
        "* **Last three columns contain image URLs which will not be required for analysis.**\n",
        "\n",
        "* **So, let's drop these columns.**"
      ]
    },
    {
      "cell_type": "code",
      "metadata": {
        "id": "oNd5M7MiZ2Pn"
      },
      "source": [
        "# Dropping last three columns\n",
        "\n",
        "books.drop(list(books.columns)[-3:], axis=1, inplace=True)"
      ],
      "execution_count": 34,
      "outputs": []
    },
    {
      "cell_type": "code",
      "metadata": {
        "colab": {
          "base_uri": "https://localhost:8080/",
          "height": 327
        },
        "id": "UnkY1PRyaW8Y",
        "outputId": "1bac0e87-fe0a-45bd-bb91-c61b4d8ef838"
      },
      "source": [
        "books.head()"
      ],
      "execution_count": 35,
      "outputs": [
        {
          "output_type": "execute_result",
          "data": {
            "text/html": [
              "<div>\n",
              "<style scoped>\n",
              "    .dataframe tbody tr th:only-of-type {\n",
              "        vertical-align: middle;\n",
              "    }\n",
              "\n",
              "    .dataframe tbody tr th {\n",
              "        vertical-align: top;\n",
              "    }\n",
              "\n",
              "    .dataframe thead th {\n",
              "        text-align: right;\n",
              "    }\n",
              "</style>\n",
              "<table border=\"1\" class=\"dataframe\">\n",
              "  <thead>\n",
              "    <tr style=\"text-align: right;\">\n",
              "      <th></th>\n",
              "      <th>ISBN</th>\n",
              "      <th>Book-Title</th>\n",
              "      <th>Book-Author</th>\n",
              "      <th>Year-Of-Publication</th>\n",
              "      <th>Publisher</th>\n",
              "    </tr>\n",
              "  </thead>\n",
              "  <tbody>\n",
              "    <tr>\n",
              "      <th>0</th>\n",
              "      <td>0195153448</td>\n",
              "      <td>Classical Mythology</td>\n",
              "      <td>Mark P. O. Morford</td>\n",
              "      <td>2002</td>\n",
              "      <td>Oxford University Press</td>\n",
              "    </tr>\n",
              "    <tr>\n",
              "      <th>1</th>\n",
              "      <td>0002005018</td>\n",
              "      <td>Clara Callan</td>\n",
              "      <td>Richard Bruce Wright</td>\n",
              "      <td>2001</td>\n",
              "      <td>HarperFlamingo Canada</td>\n",
              "    </tr>\n",
              "    <tr>\n",
              "      <th>2</th>\n",
              "      <td>0060973129</td>\n",
              "      <td>Decision in Normandy</td>\n",
              "      <td>Carlo D'Este</td>\n",
              "      <td>1991</td>\n",
              "      <td>HarperPerennial</td>\n",
              "    </tr>\n",
              "    <tr>\n",
              "      <th>3</th>\n",
              "      <td>0374157065</td>\n",
              "      <td>Flu: The Story of the Great Influenza Pandemic...</td>\n",
              "      <td>Gina Bari Kolata</td>\n",
              "      <td>1999</td>\n",
              "      <td>Farrar Straus Giroux</td>\n",
              "    </tr>\n",
              "    <tr>\n",
              "      <th>4</th>\n",
              "      <td>0393045218</td>\n",
              "      <td>The Mummies of Urumchi</td>\n",
              "      <td>E. J. W. Barber</td>\n",
              "      <td>1999</td>\n",
              "      <td>W. W. Norton &amp;amp; Company</td>\n",
              "    </tr>\n",
              "  </tbody>\n",
              "</table>\n",
              "</div>"
            ],
            "text/plain": [
              "         ISBN  ...                   Publisher\n",
              "0  0195153448  ...     Oxford University Press\n",
              "1  0002005018  ...       HarperFlamingo Canada\n",
              "2  0060973129  ...             HarperPerennial\n",
              "3  0374157065  ...        Farrar Straus Giroux\n",
              "4  0393045218  ...  W. W. Norton &amp; Company\n",
              "\n",
              "[5 rows x 5 columns]"
            ]
          },
          "metadata": {},
          "execution_count": 35
        }
      ]
    },
    {
      "cell_type": "markdown",
      "metadata": {
        "id": "3BsTViLx6_Fj"
      },
      "source": [
        "### **Let's find top 10 authors who have written the maximum number of books.**"
      ]
    },
    {
      "cell_type": "code",
      "metadata": {
        "id": "27WKXYdfaY8p",
        "colab": {
          "base_uri": "https://localhost:8080/",
          "height": 491
        },
        "outputId": "ebfba4b7-0828-4909-aff0-391f72997298"
      },
      "source": [
        "# Barplot to show top 10 authors\n",
        "\n",
        "plt.figure(figsize=(12,7))\n",
        "chart = sns.countplot(x='Book-Author',data=books,order=pd.value_counts(books['Book-Author']).iloc[:10].index)\n",
        "chart.set_xticklabels(chart.get_xticklabels(), rotation=45)\n",
        "plt.title('Top 10 Authors')"
      ],
      "execution_count": 36,
      "outputs": [
        {
          "output_type": "execute_result",
          "data": {
            "text/plain": [
              "Text(0.5, 1.0, 'Top 10 Authors')"
            ]
          },
          "metadata": {},
          "execution_count": 36
        },
        {
          "output_type": "display_data",
          "data": {
            "image/png": "[encoded data removed]",
            "text/plain": [
              "<Figure size 864x504 with 1 Axes>"
            ]
          },
          "metadata": {
            "needs_background": "light"
          }
        }
      ]
    },
    {
      "cell_type": "markdown",
      "metadata": {
        "id": "GTcQ0-2f7zLs"
      },
      "source": [
        "* **Agatha Christie had written maximum number of books followed by William Shakespeare and Stephen King.**"
      ]
    },
    {
      "cell_type": "markdown",
      "metadata": {
        "id": "h1ibzMZ-8KVU"
      },
      "source": [
        "### **Let's find top 10 publishers who have published maximum number of books.**"
      ]
    },
    {
      "cell_type": "code",
      "metadata": {
        "colab": {
          "base_uri": "https://localhost:8080/",
          "height": 500
        },
        "id": "Wfjqdu9X7h4u",
        "outputId": "6be9650a-7578-4a99-ee72-35ed2fd06a42"
      },
      "source": [
        "# Barplot to show top 10 publishers.\n",
        "\n",
        "plt.figure(figsize=(12,7))\n",
        "chart = sns.countplot(x='Publisher',data=books,order=pd.value_counts(books['Publisher']).iloc[:10].index)\n",
        "chart.set_xticklabels(chart.get_xticklabels(), rotation=45)\n",
        "plt.title('Top 10 Publishers')"
      ],
      "execution_count": 37,
      "outputs": [
        {
          "output_type": "execute_result",
          "data": {
            "text/plain": [
              "Text(0.5, 1.0, 'Top 10 Publishers')"
            ]
          },
          "metadata": {},
          "execution_count": 37
        },
        {
          "output_type": "display_data",
          "data": {
            "image/png": "[encoded data removed]",
            "text/plain": [
              "<Figure size 864x504 with 1 Axes>"
            ]
          },
          "metadata": {
            "needs_background": "light"
          }
        }
      ]
    },
    {
      "cell_type": "markdown",
      "metadata": {
        "id": "fU0D7_myAMSM"
      },
      "source": [
        "* **Harleyquin had published maximum number of books followed by Silhouette.**"
      ]
    },
    {
      "cell_type": "markdown",
      "metadata": {
        "id": "iEK3-lGbCBm3"
      },
      "source": [
        "### **Year-of-Publication column**"
      ]
    },
    {
      "cell_type": "code",
      "metadata": {
        "colab": {
          "base_uri": "https://localhost:8080/"
        },
        "id": "iLVEkjVr8sDo",
        "outputId": "9dcc198e-e185-4379-83ab-d804ca3906de"
      },
      "source": [
        "# Printing unique values of location column\n",
        "\n",
        "books['Year-Of-Publication'].unique()"
      ],
      "execution_count": 38,
      "outputs": [
        {
          "output_type": "execute_result",
          "data": {
            "text/plain": [
              "array([2002, 2001, 1991, 1999, 2000, 1993, 1996, 1988, 2004, 1998, 1994,\n",
              "       2003, 1997, 1983, 1979, 1995, 1982, 1985, 1992, 1986, 1978, 1980,\n",
              "       1952, 1987, 1990, 1981, 1989, 1984, 0, 1968, 1961, 1958, 1974,\n",
              "       1976, 1971, 1977, 1975, 1965, 1941, 1970, 1962, 1973, 1972, 1960,\n",
              "       1966, 1920, 1956, 1959, 1953, 1951, 1942, 1963, 1964, 1969, 1954,\n",
              "       1950, 1967, 2005, 1957, 1940, 1937, 1955, 1946, 1936, 1930, 2011,\n",
              "       1925, 1948, 1943, 1947, 1945, 1923, 2020, 1939, 1926, 1938, 2030,\n",
              "       1911, 1904, 1949, 1932, 1928, 1929, 1927, 1931, 1914, 2050, 1934,\n",
              "       1910, 1933, 1902, 1924, 1921, 1900, 2038, 2026, 1944, 1917, 1901,\n",
              "       2010, 1908, 1906, 1935, 1806, 2021, '2000', '1995', '1999', '2004',\n",
              "       '2003', '1990', '1994', '1986', '1989', '2002', '1981', '1993',\n",
              "       '1983', '1982', '1976', '1991', '1977', '1998', '1992', '1996',\n",
              "       '0', '1997', '2001', '1974', '1968', '1987', '1984', '1988',\n",
              "       '1963', '1956', '1970', '1985', '1978', '1973', '1980', '1979',\n",
              "       '1975', '1969', '1961', '1965', '1939', '1958', '1950', '1953',\n",
              "       '1966', '1971', '1959', '1972', '1955', '1957', '1945', '1960',\n",
              "       '1967', '1932', '1924', '1964', '2012', '1911', '1927', '1948',\n",
              "       '1962', '2006', '1952', '1940', '1951', '1931', '1954', '2005',\n",
              "       '1930', '1941', '1944', 'DK Publishing Inc', '1943', '1938',\n",
              "       '1900', '1942', '1923', '1920', '1933', 'Gallimard', '1909',\n",
              "       '1946', '2008', '1378', '2030', '1936', '1947', '2011', '2020',\n",
              "       '1919', '1949', '1922', '1897', '2024', '1376', '1926', '2037'],\n",
              "      dtype=object)"
            ]
          },
          "metadata": {},
          "execution_count": 38
        }
      ]
    },
    {
      "cell_type": "markdown",
      "metadata": {
        "id": "awM0SIF-CMEL"
      },
      "source": [
        "**Points to note:**\n",
        "> * **Year-of-Publication column contains some name of publishers.**\n",
        "> * **Also, some values are int and some values are string.**\n",
        "\n"
      ]
    },
    {
      "cell_type": "markdown",
      "metadata": {
        "id": "eXooBvN3DJNc"
      },
      "source": [
        "**So, let's convert all of them into string datatype**"
      ]
    },
    {
      "cell_type": "code",
      "metadata": {
        "id": "Z82Ds730Bjvy"
      },
      "source": [
        "# Converting all values into string\n",
        "\n",
        "books['Year-Of-Publication']=books['Year-Of-Publication'].astype('str')"
      ],
      "execution_count": 39,
      "outputs": []
    },
    {
      "cell_type": "markdown",
      "metadata": {
        "id": "c9aXxo4MDmhw"
      },
      "source": [
        "### **Now let's explore and clean Year-of-Publication column**"
      ]
    },
    {
      "cell_type": "code",
      "metadata": {
        "colab": {
          "base_uri": "https://localhost:8080/",
          "height": 375
        },
        "id": "FjB9K_SJDXua",
        "outputId": "81d47cd2-11ed-4cec-e216-cf1b434e4263"
      },
      "source": [
        "# Investigating the rows having 'DK Publishing Inc' as Year-of-Publication\n",
        "\n",
        "books.loc[books['Year-Of-Publication'] == 'DK Publishing Inc',:]"
      ],
      "execution_count": 40,
      "outputs": [
        {
          "output_type": "execute_result",
          "data": {
            "text/html": [
              "<div>\n",
              "<style scoped>\n",
              "    .dataframe tbody tr th:only-of-type {\n",
              "        vertical-align: middle;\n",
              "    }\n",
              "\n",
              "    .dataframe tbody tr th {\n",
              "        vertical-align: top;\n",
              "    }\n",
              "\n",
              "    .dataframe thead th {\n",
              "        text-align: right;\n",
              "    }\n",
              "</style>\n",
              "<table border=\"1\" class=\"dataframe\">\n",
              "  <thead>\n",
              "    <tr style=\"text-align: right;\">\n",
              "      <th></th>\n",
              "      <th>ISBN</th>\n",
              "      <th>Book-Title</th>\n",
              "      <th>Book-Author</th>\n",
              "      <th>Year-Of-Publication</th>\n",
              "      <th>Publisher</th>\n",
              "    </tr>\n",
              "  </thead>\n",
              "  <tbody>\n",
              "    <tr>\n",
              "      <th>209538</th>\n",
              "      <td>078946697X</td>\n",
              "      <td>DK Readers: Creating the X-Men, How It All Beg...</td>\n",
              "      <td>2000</td>\n",
              "      <td>DK Publishing Inc</td>\n",
              "      <td>http://images.amazon.com/images/P/078946697X.0...</td>\n",
              "    </tr>\n",
              "    <tr>\n",
              "      <th>221678</th>\n",
              "      <td>0789466953</td>\n",
              "      <td>DK Readers: Creating the X-Men, How Comic Book...</td>\n",
              "      <td>2000</td>\n",
              "      <td>DK Publishing Inc</td>\n",
              "      <td>http://images.amazon.com/images/P/0789466953.0...</td>\n",
              "    </tr>\n",
              "  </tbody>\n",
              "</table>\n",
              "</div>"
            ],
            "text/plain": [
              "              ISBN  ...                                          Publisher\n",
              "209538  078946697X  ...  http://images.amazon.com/images/P/078946697X.0...\n",
              "221678  0789466953  ...  http://images.amazon.com/images/P/0789466953.0...\n",
              "\n",
              "[2 rows x 5 columns]"
            ]
          },
          "metadata": {},
          "execution_count": 40
        }
      ]
    },
    {
      "cell_type": "markdown",
      "metadata": {
        "id": "oxdNt8rPpnhy"
      },
      "source": [
        "* **It looks like Publisher names 'DK Publishing Inc' and 'Gallimard' have been incorrectly loaded as Year-Of-Publication in dataset due to some errors in csv file.**"
      ]
    },
    {
      "cell_type": "code",
      "metadata": {
        "id": "PutDWAYaDfvL"
      },
      "source": [
        "# Book Author is incorrectly loaded with Book Title, so let's correct them\n",
        "\n",
        "#ISBN '0789466953'\n",
        "books.loc[books.ISBN == '0789466953','Year-Of-Publication'] = 2000\n",
        "books.loc[books.ISBN == '0789466953','Book-Author'] = \"James Buckley\"\n",
        "books.loc[books.ISBN == '0789466953','Publisher'] = \"DK Publishing Inc\"\n",
        "books.loc[books.ISBN == '0789466953','Book-Title'] = \"DK Readers: Creating the X-Men, How Comic Books Come to Life (Level 4: Proficient Readers)\"\n",
        "\n",
        "#ISBN '078946697X'\n",
        "books.loc[books.ISBN == '078946697X','Year-Of-Publication'] = 2000\n",
        "books.loc[books.ISBN == '078946697X','Book-Author'] = \"Michael Teitelbaum\"\n",
        "books.loc[books.ISBN == '078946697X','Publisher'] = \"DK Publishing Inc\"\n",
        "books.loc[books.ISBN == '078946697X','Book-Title'] = \"DK Readers: Creating the X-Men, How It All Began (Level 4: Proficient Readers)\""
      ],
      "execution_count": 41,
      "outputs": []
    },
    {
      "cell_type": "code",
      "metadata": {
        "colab": {
          "base_uri": "https://localhost:8080/",
          "height": 199
        },
        "id": "yulvPvz_rX3c",
        "outputId": "5a2fb978-2e81-4810-8e92-0397626deeb8"
      },
      "source": [
        "# Let's check the corrections\n",
        "\n",
        "books.loc[(books.ISBN == '0789466953') | (books.ISBN == '078946697X'),:]"
      ],
      "execution_count": 42,
      "outputs": [
        {
          "output_type": "execute_result",
          "data": {
            "text/html": [
              "<div>\n",
              "<style scoped>\n",
              "    .dataframe tbody tr th:only-of-type {\n",
              "        vertical-align: middle;\n",
              "    }\n",
              "\n",
              "    .dataframe tbody tr th {\n",
              "        vertical-align: top;\n",
              "    }\n",
              "\n",
              "    .dataframe thead th {\n",
              "        text-align: right;\n",
              "    }\n",
              "</style>\n",
              "<table border=\"1\" class=\"dataframe\">\n",
              "  <thead>\n",
              "    <tr style=\"text-align: right;\">\n",
              "      <th></th>\n",
              "      <th>ISBN</th>\n",
              "      <th>Book-Title</th>\n",
              "      <th>Book-Author</th>\n",
              "      <th>Year-Of-Publication</th>\n",
              "      <th>Publisher</th>\n",
              "    </tr>\n",
              "  </thead>\n",
              "  <tbody>\n",
              "    <tr>\n",
              "      <th>209538</th>\n",
              "      <td>078946697X</td>\n",
              "      <td>DK Readers: Creating the X-Men, How It All Beg...</td>\n",
              "      <td>Michael Teitelbaum</td>\n",
              "      <td>2000</td>\n",
              "      <td>DK Publishing Inc</td>\n",
              "    </tr>\n",
              "    <tr>\n",
              "      <th>221678</th>\n",
              "      <td>0789466953</td>\n",
              "      <td>DK Readers: Creating the X-Men, How Comic Book...</td>\n",
              "      <td>James Buckley</td>\n",
              "      <td>2000</td>\n",
              "      <td>DK Publishing Inc</td>\n",
              "    </tr>\n",
              "  </tbody>\n",
              "</table>\n",
              "</div>"
            ],
            "text/plain": [
              "              ISBN  ...          Publisher\n",
              "209538  078946697X  ...  DK Publishing Inc\n",
              "221678  0789466953  ...  DK Publishing Inc\n",
              "\n",
              "[2 rows x 5 columns]"
            ]
          },
          "metadata": {},
          "execution_count": 42
        }
      ]
    },
    {
      "cell_type": "code",
      "metadata": {
        "colab": {
          "base_uri": "https://localhost:8080/",
          "height": 170
        },
        "id": "J5XyzpQTrnh6",
        "outputId": "296e08f0-ff88-44c3-b689-7fb280137ca3"
      },
      "source": [
        "# Investigating the rows having 'Gallimard' as Year-of-Publication\n",
        "\n",
        "books.loc[books['Year-Of-Publication'] == 'Gallimard',:]"
      ],
      "execution_count": 43,
      "outputs": [
        {
          "output_type": "execute_result",
          "data": {
            "text/html": [
              "<div>\n",
              "<style scoped>\n",
              "    .dataframe tbody tr th:only-of-type {\n",
              "        vertical-align: middle;\n",
              "    }\n",
              "\n",
              "    .dataframe tbody tr th {\n",
              "        vertical-align: top;\n",
              "    }\n",
              "\n",
              "    .dataframe thead th {\n",
              "        text-align: right;\n",
              "    }\n",
              "</style>\n",
              "<table border=\"1\" class=\"dataframe\">\n",
              "  <thead>\n",
              "    <tr style=\"text-align: right;\">\n",
              "      <th></th>\n",
              "      <th>ISBN</th>\n",
              "      <th>Book-Title</th>\n",
              "      <th>Book-Author</th>\n",
              "      <th>Year-Of-Publication</th>\n",
              "      <th>Publisher</th>\n",
              "    </tr>\n",
              "  </thead>\n",
              "  <tbody>\n",
              "    <tr>\n",
              "      <th>220731</th>\n",
              "      <td>2070426769</td>\n",
              "      <td>Peuple du ciel, suivi de 'Les Bergers\\\";Jean-M...</td>\n",
              "      <td>2003</td>\n",
              "      <td>Gallimard</td>\n",
              "      <td>http://images.amazon.com/images/P/2070426769.0...</td>\n",
              "    </tr>\n",
              "  </tbody>\n",
              "</table>\n",
              "</div>"
            ],
            "text/plain": [
              "              ISBN  ...                                          Publisher\n",
              "220731  2070426769  ...  http://images.amazon.com/images/P/2070426769.0...\n",
              "\n",
              "[1 rows x 5 columns]"
            ]
          },
          "metadata": {},
          "execution_count": 43
        }
      ]
    },
    {
      "cell_type": "code",
      "metadata": {
        "id": "VxLJqYuwsIQU"
      },
      "source": [
        "# Making required corrections as above, keeping other fields intact\n",
        "\n",
        "books.loc[books.ISBN == '2070426769','Year-Of-Publication'] = 2003\n",
        "books.loc[books.ISBN == '2070426769','Book-Author'] = \"Jean-Marie Gustave Le ClÃ?Â©zio\"\n",
        "books.loc[books.ISBN == '2070426769','Publisher'] = \"Gallimard\"\n",
        "books.loc[books.ISBN == '2070426769','Book-Title'] = \"Peuple du ciel, suivi de 'Les Bergers\""
      ],
      "execution_count": 44,
      "outputs": []
    },
    {
      "cell_type": "code",
      "metadata": {
        "colab": {
          "base_uri": "https://localhost:8080/",
          "height": 115
        },
        "id": "8SnlhCSNsfti",
        "outputId": "cedbd7b0-2692-4156-a9cd-23b154668f61"
      },
      "source": [
        "# Let's check the corrections\n",
        "\n",
        "books.loc[books.ISBN == '2070426769',:]"
      ],
      "execution_count": 45,
      "outputs": [
        {
          "output_type": "execute_result",
          "data": {
            "text/html": [
              "<div>\n",
              "<style scoped>\n",
              "    .dataframe tbody tr th:only-of-type {\n",
              "        vertical-align: middle;\n",
              "    }\n",
              "\n",
              "    .dataframe tbody tr th {\n",
              "        vertical-align: top;\n",
              "    }\n",
              "\n",
              "    .dataframe thead th {\n",
              "        text-align: right;\n",
              "    }\n",
              "</style>\n",
              "<table border=\"1\" class=\"dataframe\">\n",
              "  <thead>\n",
              "    <tr style=\"text-align: right;\">\n",
              "      <th></th>\n",
              "      <th>ISBN</th>\n",
              "      <th>Book-Title</th>\n",
              "      <th>Book-Author</th>\n",
              "      <th>Year-Of-Publication</th>\n",
              "      <th>Publisher</th>\n",
              "    </tr>\n",
              "  </thead>\n",
              "  <tbody>\n",
              "    <tr>\n",
              "      <th>220731</th>\n",
              "      <td>2070426769</td>\n",
              "      <td>Peuple du ciel, suivi de 'Les Bergers</td>\n",
              "      <td>Jean-Marie Gustave Le ClÃ?Â©zio</td>\n",
              "      <td>2003</td>\n",
              "      <td>Gallimard</td>\n",
              "    </tr>\n",
              "  </tbody>\n",
              "</table>\n",
              "</div>"
            ],
            "text/plain": [
              "              ISBN  ...  Publisher\n",
              "220731  2070426769  ...  Gallimard\n",
              "\n",
              "[1 rows x 5 columns]"
            ]
          },
          "metadata": {},
          "execution_count": 45
        }
      ]
    },
    {
      "cell_type": "markdown",
      "metadata": {
        "id": "rfASYjgmsmpr"
      },
      "source": [
        "**We have successfully managed to correct mistakes in Year-of-Publication column.**"
      ]
    },
    {
      "cell_type": "markdown",
      "metadata": {
        "id": "nhJSlM2-tD-J"
      },
      "source": [
        "**Now let's convert all values of Year-of-Publication into integers.**"
      ]
    },
    {
      "cell_type": "code",
      "metadata": {
        "colab": {
          "base_uri": "https://localhost:8080/"
        },
        "id": "zX0qrnr3skgt",
        "outputId": "43bb22ed-46f5-4d92-bb0b-4bc0387642de"
      },
      "source": [
        "# Converting each values from string to integers\n",
        "\n",
        "books['Year-Of-Publication']=pd.to_numeric(books['Year-Of-Publication'], errors='coerce')\n",
        "\n",
        "print(sorted(books['Year-Of-Publication'].unique()))"
      ],
      "execution_count": 46,
      "outputs": [
        {
          "output_type": "stream",
          "name": "stdout",
          "text": [
            "[0, 1376, 1378, 1806, 1897, 1900, 1901, 1902, 1904, 1906, 1908, 1909, 1910, 1911, 1914, 1917, 1919, 1920, 1921, 1922, 1923, 1924, 1925, 1926, 1927, 1928, 1929, 1930, 1931, 1932, 1933, 1934, 1935, 1936, 1937, 1938, 1939, 1940, 1941, 1942, 1943, 1944, 1945, 1946, 1947, 1948, 1949, 1950, 1951, 1952, 1953, 1954, 1955, 1956, 1957, 1958, 1959, 1960, 1961, 1962, 1963, 1964, 1965, 1966, 1967, 1968, 1969, 1970, 1971, 1972, 1973, 1974, 1975, 1976, 1977, 1978, 1979, 1980, 1981, 1982, 1983, 1984, 1985, 1986, 1987, 1988, 1989, 1990, 1991, 1992, 1993, 1994, 1995, 1996, 1997, 1998, 1999, 2000, 2001, 2002, 2003, 2004, 2005, 2006, 2008, 2010, 2011, 2012, 2020, 2021, 2024, 2026, 2030, 2037, 2038, 2050]\n"
          ]
        }
      ]
    },
    {
      "cell_type": "markdown",
      "metadata": {
        "id": "E_LIqA7pvWbV"
      },
      "source": [
        "**Points to note:**\n",
        "\n",
        "* **The value 0 for Year-of-Publication doesn't make any sense.**\n",
        "* **Years after 2006 are invalid as this dataset was published in 2004.**\n",
        "* **So, we are setting invalid years as NaN.**\n",
        "* **Also, considering extreme value as 2006 just to keeping some margin in case dataset was updated thereafter.**"
      ]
    },
    {
      "cell_type": "code",
      "metadata": {
        "id": "Z8sQC24JuhMu"
      },
      "source": [
        "# Setting invalid years as NaN\n",
        "\n",
        "books.loc[(books['Year-Of-Publication'] > 2006) | (books['Year-Of-Publication'] == 0),'Year-Of-Publication'] = np.NAN"
      ],
      "execution_count": 47,
      "outputs": []
    },
    {
      "cell_type": "code",
      "metadata": {
        "id": "vV9Jcr0ux5VY"
      },
      "source": [
        "# Replacing NaNs with mean value of Year-Of-Publication\n",
        "\n",
        "books['Year-Of-Publication'].fillna(round(books['Year-Of-Publication'].mean()), inplace=True)"
      ],
      "execution_count": 48,
      "outputs": []
    },
    {
      "cell_type": "code",
      "metadata": {
        "colab": {
          "base_uri": "https://localhost:8080/"
        },
        "id": "TpYF97UTyBIL",
        "outputId": "60aee48f-2ca2-4f6b-8476-d54db7c084bb"
      },
      "source": [
        "# Let's check the no. of null values in Books data\n",
        "\n",
        "books.isnull().sum()"
      ],
      "execution_count": 49,
      "outputs": [
        {
          "output_type": "execute_result",
          "data": {
            "text/plain": [
              "ISBN                   0\n",
              "Book-Title             0\n",
              "Book-Author            1\n",
              "Year-Of-Publication    0\n",
              "Publisher              2\n",
              "dtype: int64"
            ]
          },
          "metadata": {},
          "execution_count": 49
        }
      ]
    },
    {
      "cell_type": "markdown",
      "metadata": {
        "id": "Bzf3E9-80lQm"
      },
      "source": [
        "* **Null values in Book-Author and Publisher columns. So, let's impute them.**\n",
        "\n"
      ]
    },
    {
      "cell_type": "markdown",
      "metadata": {
        "id": "sBRIVTYx3WTo"
      },
      "source": [
        "### **Publisher column**"
      ]
    },
    {
      "cell_type": "code",
      "metadata": {
        "colab": {
          "base_uri": "https://localhost:8080/",
          "height": 112
        },
        "id": "LJuipJBl0WYM",
        "outputId": "2f1a89c4-a75d-4085-9b9f-cb12dc03f752"
      },
      "source": [
        "# Exploring 'publisher' column\n",
        "\n",
        "books.loc[books.Publisher.isnull(),:]"
      ],
      "execution_count": 50,
      "outputs": [
        {
          "output_type": "execute_result",
          "data": {
            "text/html": [
              "<div>\n",
              "<style scoped>\n",
              "    .dataframe tbody tr th:only-of-type {\n",
              "        vertical-align: middle;\n",
              "    }\n",
              "\n",
              "    .dataframe tbody tr th {\n",
              "        vertical-align: top;\n",
              "    }\n",
              "\n",
              "    .dataframe thead th {\n",
              "        text-align: right;\n",
              "    }\n",
              "</style>\n",
              "<table border=\"1\" class=\"dataframe\">\n",
              "  <thead>\n",
              "    <tr style=\"text-align: right;\">\n",
              "      <th></th>\n",
              "      <th>ISBN</th>\n",
              "      <th>Book-Title</th>\n",
              "      <th>Book-Author</th>\n",
              "      <th>Year-Of-Publication</th>\n",
              "      <th>Publisher</th>\n",
              "    </tr>\n",
              "  </thead>\n",
              "  <tbody>\n",
              "    <tr>\n",
              "      <th>128890</th>\n",
              "      <td>193169656X</td>\n",
              "      <td>Tyrant Moon</td>\n",
              "      <td>Elaine Corvidae</td>\n",
              "      <td>2002.0</td>\n",
              "      <td>NaN</td>\n",
              "    </tr>\n",
              "    <tr>\n",
              "      <th>129037</th>\n",
              "      <td>1931696993</td>\n",
              "      <td>Finders Keepers</td>\n",
              "      <td>Linnea Sinclair</td>\n",
              "      <td>2001.0</td>\n",
              "      <td>NaN</td>\n",
              "    </tr>\n",
              "  </tbody>\n",
              "</table>\n",
              "</div>"
            ],
            "text/plain": [
              "              ISBN       Book-Title  ... Year-Of-Publication  Publisher\n",
              "128890  193169656X      Tyrant Moon  ...              2002.0        NaN\n",
              "129037  1931696993  Finders Keepers  ...              2001.0        NaN\n",
              "\n",
              "[2 rows x 5 columns]"
            ]
          },
          "metadata": {},
          "execution_count": 50
        }
      ]
    },
    {
      "cell_type": "code",
      "metadata": {
        "id": "VWpzeuvo3dFS"
      },
      "source": [
        "# Filling NaN of Publisher with others\n",
        "\n",
        "books.Publisher.fillna('other',inplace=True)"
      ],
      "execution_count": 51,
      "outputs": []
    },
    {
      "cell_type": "markdown",
      "metadata": {
        "id": "mXV3hrX43jl2"
      },
      "source": [
        "### **Book-Author column**"
      ]
    },
    {
      "cell_type": "code",
      "metadata": {
        "colab": {
          "base_uri": "https://localhost:8080/",
          "height": 133
        },
        "id": "yw1M9lv43h-R",
        "outputId": "25bb92db-f165-47eb-ab61-99e1b5e2c58e"
      },
      "source": [
        "# Exploring 'Book-Author' column\n",
        "\n",
        "books.loc[books['Book-Author'].isnull(),:]"
      ],
      "execution_count": 52,
      "outputs": [
        {
          "output_type": "execute_result",
          "data": {
            "text/html": [
              "<div>\n",
              "<style scoped>\n",
              "    .dataframe tbody tr th:only-of-type {\n",
              "        vertical-align: middle;\n",
              "    }\n",
              "\n",
              "    .dataframe tbody tr th {\n",
              "        vertical-align: top;\n",
              "    }\n",
              "\n",
              "    .dataframe thead th {\n",
              "        text-align: right;\n",
              "    }\n",
              "</style>\n",
              "<table border=\"1\" class=\"dataframe\">\n",
              "  <thead>\n",
              "    <tr style=\"text-align: right;\">\n",
              "      <th></th>\n",
              "      <th>ISBN</th>\n",
              "      <th>Book-Title</th>\n",
              "      <th>Book-Author</th>\n",
              "      <th>Year-Of-Publication</th>\n",
              "      <th>Publisher</th>\n",
              "    </tr>\n",
              "  </thead>\n",
              "  <tbody>\n",
              "    <tr>\n",
              "      <th>187689</th>\n",
              "      <td>9627982032</td>\n",
              "      <td>The Credit Suisse Guide to Managing Your Perso...</td>\n",
              "      <td>NaN</td>\n",
              "      <td>1995.0</td>\n",
              "      <td>Edinburgh Financial Publishing</td>\n",
              "    </tr>\n",
              "  </tbody>\n",
              "</table>\n",
              "</div>"
            ],
            "text/plain": [
              "              ISBN  ...                       Publisher\n",
              "187689  9627982032  ...  Edinburgh Financial Publishing\n",
              "\n",
              "[1 rows x 5 columns]"
            ]
          },
          "metadata": {},
          "execution_count": 52
        }
      ]
    },
    {
      "cell_type": "code",
      "metadata": {
        "id": "m0-wRXCR3pXT"
      },
      "source": [
        "# Filling Nan of Book-Author with others\n",
        "\n",
        "books['Book-Author'].fillna('other',inplace=True)"
      ],
      "execution_count": 53,
      "outputs": []
    },
    {
      "cell_type": "code",
      "metadata": {
        "colab": {
          "base_uri": "https://localhost:8080/"
        },
        "id": "5vOflFP93sgM",
        "outputId": "491b3648-929a-4640-91d2-91a32392dd29"
      },
      "source": [
        "# Let's check for null values again\n",
        "\n",
        "books.isna().sum()"
      ],
      "execution_count": 54,
      "outputs": [
        {
          "output_type": "execute_result",
          "data": {
            "text/plain": [
              "ISBN                   0\n",
              "Book-Title             0\n",
              "Book-Author            0\n",
              "Year-Of-Publication    0\n",
              "Publisher              0\n",
              "dtype: int64"
            ]
          },
          "metadata": {},
          "execution_count": 54
        }
      ]
    },
    {
      "cell_type": "markdown",
      "metadata": {
        "id": "aGuPdjKK32sH"
      },
      "source": [
        "* **Great! We imputed all null values and our Books dataset is clean now.**"
      ]
    },
    {
      "cell_type": "markdown",
      "metadata": {
        "id": "JeTKLpjD4Dbw"
      },
      "source": [
        "# **EDA on Ratings dataset**"
      ]
    },
    {
      "cell_type": "markdown",
      "metadata": {
        "id": "xz64WARm4zjX"
      },
      "source": [
        "### **Ratings dataset should have books only which exist in our books dataset, unless new books are added to books dataset.**"
      ]
    },
    {
      "cell_type": "code",
      "metadata": {
        "colab": {
          "base_uri": "https://localhost:8080/"
        },
        "id": "ojkh53QB31hQ",
        "outputId": "cb1b9d52-6300-487f-a280-1ae122ff1db1"
      },
      "source": [
        "# Extracting ratings of only available books in books dataset\n",
        "\n",
        "ratings_new = ratings[ratings.ISBN.isin(books.ISBN)]\n",
        "ratings.shape,ratings_new.shape"
      ],
      "execution_count": 55,
      "outputs": [
        {
          "output_type": "execute_result",
          "data": {
            "text/plain": [
              "((1149780, 3), (1031136, 3))"
            ]
          },
          "metadata": {},
          "execution_count": 55
        }
      ]
    },
    {
      "cell_type": "markdown",
      "metadata": {
        "id": "V0Lar2m05b3y"
      },
      "source": [
        "* **It is clear that many rows having book ISBN not part of books dataset, got dropped off.**"
      ]
    },
    {
      "cell_type": "markdown",
      "metadata": {
        "id": "bv52JGBsBXZx"
      },
      "source": [
        "### **Ratings dataset should have ratings from users which exist in users dataset.**"
      ]
    },
    {
      "cell_type": "code",
      "metadata": {
        "id": "EZqiV7ox5V9D",
        "colab": {
          "base_uri": "https://localhost:8080/"
        },
        "outputId": "ad1747bd-ec7c-4c72-cccc-d97b45e75d40"
      },
      "source": [
        "# Checking if ratings from users are eual to no. of users or not\n",
        "\n",
        "print(\"Shape of dataset before dropping\",ratings_new.shape)\n",
        "ratings_new = ratings_new[ratings_new['User-ID'].isin(users['User-ID'])]\n",
        "print(\"shape of dataset after dropping\",ratings_new.shape)"
      ],
      "execution_count": 56,
      "outputs": [
        {
          "output_type": "stream",
          "name": "stdout",
          "text": [
            "Shape of dataset before dropping (1031136, 3)\n",
            "shape of dataset after dropping (1031136, 3)\n"
          ]
        }
      ]
    },
    {
      "cell_type": "markdown",
      "metadata": {
        "id": "ySh030NlB27C"
      },
      "source": [
        "* **No new user was there in ratings dataset.**"
      ]
    },
    {
      "cell_type": "markdown",
      "metadata": {
        "id": "A30U2O7pC249"
      },
      "source": [
        "### **Let's see the distribution of ratings**"
      ]
    },
    {
      "cell_type": "code",
      "metadata": {
        "colab": {
          "base_uri": "https://localhost:8080/",
          "height": 544
        },
        "id": "fwvPvHhCByxY",
        "outputId": "87a308d5-e07d-406e-b612-ae95f576f947"
      },
      "source": [
        "# Distribution plot of ratings\n",
        "\n",
        "plt.figure(figsize=(10,8))\n",
        "plt.rc(\"font\", size=15)\n",
        "ratings_new['Book-Rating'].value_counts(sort=False).plot(kind='bar')\n",
        "plt.title('Rating Distribution\\n')\n",
        "plt.xlabel('Rating')\n",
        "plt.ylabel('Count')\n",
        "plt.show()"
      ],
      "execution_count": 57,
      "outputs": [
        {
          "output_type": "display_data",
          "data": {
            "image/png": "[encoded data removed]",
            "text/plain": [
              "<Figure size 720x576 with 1 Axes>"
            ]
          },
          "metadata": {
            "needs_background": "light"
          }
        }
      ]
    },
    {
      "cell_type": "markdown",
      "metadata": {
        "id": "gwqtMRL4DVac"
      },
      "source": [
        "* **The ratings are very unevenly distributed, and the vast majority of ratings are 0.**\n",
        "* **As quoted in the description of the dataset - BX-Book-Ratings contains the book rating information. Ratings are either explicit, expressed on a scale from 1-10 higher values denoting higher appreciation, or implicit, expressed by 0.**\n",
        "* **Hence segragating implicit and explict ratings datasets.**"
      ]
    },
    {
      "cell_type": "code",
      "metadata": {
        "id": "FLf_cXLzDHD2"
      },
      "source": [
        "# Segragating implicit and explict ratings datasets\n",
        "\n",
        "ratings_explicit = ratings_new[ratings_new['Book-Rating'] != 0]\n",
        "ratings_implicit = ratings_new[ratings_new['Book-Rating'] == 0]"
      ],
      "execution_count": 58,
      "outputs": []
    },
    {
      "cell_type": "code",
      "metadata": {
        "colab": {
          "base_uri": "https://localhost:8080/",
          "height": 507
        },
        "id": "j4uCXgvaEi0o",
        "outputId": "1fb2f055-bd2a-458b-a1b3-81833f554f59"
      },
      "source": [
        "# Distribution of explicit ratings\n",
        "\n",
        "plt.style.use('fivethirtyeight')\n",
        "plt.figure(figsize=(10, 8))\n",
        "sns.countplot(data=ratings_explicit , x='Book-Rating', palette='rocket_r')"
      ],
      "execution_count": 59,
      "outputs": [
        {
          "output_type": "execute_result",
          "data": {
            "text/plain": [
              "<matplotlib.axes._subplots.AxesSubplot at 0x7f39497a35d0>"
            ]
          },
          "metadata": {},
          "execution_count": 59
        },
        {
          "output_type": "display_data",
          "data": {
            "image/png": "[encoded data removed]",
            "text/plain": [
              "<Figure size 720x576 with 1 Axes>"
            ]
          },
          "metadata": {}
        }
      ]
    },
    {
      "cell_type": "markdown",
      "metadata": {
        "id": "8-zXo6m6FSz_"
      },
      "source": [
        "* **Generally users rate higher ratings and rating 8 has been rated highest number of times.**"
      ]
    },
    {
      "cell_type": "markdown",
      "metadata": {
        "id": "uV_w4AMjGR0N"
      },
      "source": [
        "### **Let's find the top 5 books which are rated by most number of users.**"
      ]
    },
    {
      "cell_type": "code",
      "metadata": {
        "colab": {
          "base_uri": "https://localhost:8080/",
          "height": 238
        },
        "id": "bLOmFr32E7Bo",
        "outputId": "62fc38bc-8ba5-48a0-84fe-ac9823472af5"
      },
      "source": [
        "# Top 5 most rated books\n",
        "\n",
        "rating_count = pd.DataFrame(ratings_explicit.groupby('ISBN')['Book-Rating'].count())\n",
        "rating_count.sort_values('Book-Rating', ascending=False).head()"
      ],
      "execution_count": 60,
      "outputs": [
        {
          "output_type": "execute_result",
          "data": {
            "text/html": [
              "<div>\n",
              "<style scoped>\n",
              "    .dataframe tbody tr th:only-of-type {\n",
              "        vertical-align: middle;\n",
              "    }\n",
              "\n",
              "    .dataframe tbody tr th {\n",
              "        vertical-align: top;\n",
              "    }\n",
              "\n",
              "    .dataframe thead th {\n",
              "        text-align: right;\n",
              "    }\n",
              "</style>\n",
              "<table border=\"1\" class=\"dataframe\">\n",
              "  <thead>\n",
              "    <tr style=\"text-align: right;\">\n",
              "      <th></th>\n",
              "      <th>Book-Rating</th>\n",
              "    </tr>\n",
              "    <tr>\n",
              "      <th>ISBN</th>\n",
              "      <th></th>\n",
              "    </tr>\n",
              "  </thead>\n",
              "  <tbody>\n",
              "    <tr>\n",
              "      <th>0316666343</th>\n",
              "      <td>707</td>\n",
              "    </tr>\n",
              "    <tr>\n",
              "      <th>0971880107</th>\n",
              "      <td>581</td>\n",
              "    </tr>\n",
              "    <tr>\n",
              "      <th>0385504209</th>\n",
              "      <td>487</td>\n",
              "    </tr>\n",
              "    <tr>\n",
              "      <th>0312195516</th>\n",
              "      <td>383</td>\n",
              "    </tr>\n",
              "    <tr>\n",
              "      <th>0060928336</th>\n",
              "      <td>320</td>\n",
              "    </tr>\n",
              "  </tbody>\n",
              "</table>\n",
              "</div>"
            ],
            "text/plain": [
              "            Book-Rating\n",
              "ISBN                   \n",
              "0316666343          707\n",
              "0971880107          581\n",
              "0385504209          487\n",
              "0312195516          383\n",
              "0060928336          320"
            ]
          },
          "metadata": {},
          "execution_count": 60
        }
      ]
    },
    {
      "cell_type": "markdown",
      "metadata": {
        "id": "UqspnoWBQ3NY"
      },
      "source": [
        "* **The book with ISBN '0316666343' received the most rating counts.**"
      ]
    },
    {
      "cell_type": "markdown",
      "metadata": {
        "id": "6nnITwHVQ8II"
      },
      "source": [
        "### **Let’s find out what book it is, and what books are in the top 5.**"
      ]
    },
    {
      "cell_type": "code",
      "metadata": {
        "colab": {
          "base_uri": "https://localhost:8080/",
          "height": 293
        },
        "id": "rpXKWBvULBT6",
        "outputId": "63e1843d-72e9-46da-8dcf-31dd79d93a0e"
      },
      "source": [
        "# Names of top rated books\n",
        "\n",
        "most_rated_books = pd.DataFrame(['0316666343', '0971880107', '0385504209', '0312195516', '0060928336'], index=np.arange(5), columns = ['ISBN'])\n",
        "most_rated_books_summary = pd.merge(most_rated_books, books, on='ISBN')\n",
        "most_rated_books_summary"
      ],
      "execution_count": 61,
      "outputs": [
        {
          "output_type": "execute_result",
          "data": {
            "text/html": [
              "<div>\n",
              "<style scoped>\n",
              "    .dataframe tbody tr th:only-of-type {\n",
              "        vertical-align: middle;\n",
              "    }\n",
              "\n",
              "    .dataframe tbody tr th {\n",
              "        vertical-align: top;\n",
              "    }\n",
              "\n",
              "    .dataframe thead th {\n",
              "        text-align: right;\n",
              "    }\n",
              "</style>\n",
              "<table border=\"1\" class=\"dataframe\">\n",
              "  <thead>\n",
              "    <tr style=\"text-align: right;\">\n",
              "      <th></th>\n",
              "      <th>ISBN</th>\n",
              "      <th>Book-Title</th>\n",
              "      <th>Book-Author</th>\n",
              "      <th>Year-Of-Publication</th>\n",
              "      <th>Publisher</th>\n",
              "    </tr>\n",
              "  </thead>\n",
              "  <tbody>\n",
              "    <tr>\n",
              "      <th>0</th>\n",
              "      <td>0316666343</td>\n",
              "      <td>The Lovely Bones: A Novel</td>\n",
              "      <td>Alice Sebold</td>\n",
              "      <td>2002.0</td>\n",
              "      <td>Little, Brown</td>\n",
              "    </tr>\n",
              "    <tr>\n",
              "      <th>1</th>\n",
              "      <td>0971880107</td>\n",
              "      <td>Wild Animus</td>\n",
              "      <td>Rich Shapero</td>\n",
              "      <td>2004.0</td>\n",
              "      <td>Too Far</td>\n",
              "    </tr>\n",
              "    <tr>\n",
              "      <th>2</th>\n",
              "      <td>0385504209</td>\n",
              "      <td>The Da Vinci Code</td>\n",
              "      <td>Dan Brown</td>\n",
              "      <td>2003.0</td>\n",
              "      <td>Doubleday</td>\n",
              "    </tr>\n",
              "    <tr>\n",
              "      <th>3</th>\n",
              "      <td>0312195516</td>\n",
              "      <td>The Red Tent (Bestselling Backlist)</td>\n",
              "      <td>Anita Diamant</td>\n",
              "      <td>1998.0</td>\n",
              "      <td>Picador USA</td>\n",
              "    </tr>\n",
              "    <tr>\n",
              "      <th>4</th>\n",
              "      <td>0060928336</td>\n",
              "      <td>Divine Secrets of the Ya-Ya Sisterhood: A Novel</td>\n",
              "      <td>Rebecca Wells</td>\n",
              "      <td>1997.0</td>\n",
              "      <td>Perennial</td>\n",
              "    </tr>\n",
              "  </tbody>\n",
              "</table>\n",
              "</div>"
            ],
            "text/plain": [
              "         ISBN  ...      Publisher\n",
              "0  0316666343  ...  Little, Brown\n",
              "1  0971880107  ...        Too Far\n",
              "2  0385504209  ...      Doubleday\n",
              "3  0312195516  ...    Picador USA\n",
              "4  0060928336  ...      Perennial\n",
              "\n",
              "[5 rows x 5 columns]"
            ]
          },
          "metadata": {},
          "execution_count": 61
        }
      ]
    },
    {
      "cell_type": "markdown",
      "metadata": {
        "id": "CK7VhEEcU5DM"
      },
      "source": [
        "**Points to note:**\n",
        "* **The title of most rated book is Alice Sebold’s “The Lovely Bones:A Novel”.** \n",
        "* **All 5 most rated books are Novels.** \n",
        "* **So it is conclusive that novels are popular and likely receive more ratings.**"
      ]
    },
    {
      "cell_type": "code",
      "metadata": {
        "id": "WAv2r0JbUZBx"
      },
      "source": [
        "# Creating column Rating average \n",
        "\n",
        "ratings_explicit['Avg_Rating']=ratings_explicit.groupby('ISBN')['Book-Rating'].transform('mean')\n"
      ],
      "execution_count": 62,
      "outputs": []
    },
    {
      "cell_type": "code",
      "metadata": {
        "colab": {
          "base_uri": "https://localhost:8080/",
          "height": 206
        },
        "id": "MCEqoUTNYWnF",
        "outputId": "48dae75a-5227-4cf6-a0c5-6c14e34bff53"
      },
      "source": [
        "# Creating column Rating sum\n",
        "\n",
        "ratings_explicit['Total_No_Of_Users_Rated']=ratings_explicit.groupby('ISBN')['Book-Rating'].transform('count')\n",
        "ratings_explicit.head()"
      ],
      "execution_count": 63,
      "outputs": [
        {
          "output_type": "execute_result",
          "data": {
            "text/html": [
              "<div>\n",
              "<style scoped>\n",
              "    .dataframe tbody tr th:only-of-type {\n",
              "        vertical-align: middle;\n",
              "    }\n",
              "\n",
              "    .dataframe tbody tr th {\n",
              "        vertical-align: top;\n",
              "    }\n",
              "\n",
              "    .dataframe thead th {\n",
              "        text-align: right;\n",
              "    }\n",
              "</style>\n",
              "<table border=\"1\" class=\"dataframe\">\n",
              "  <thead>\n",
              "    <tr style=\"text-align: right;\">\n",
              "      <th></th>\n",
              "      <th>User-ID</th>\n",
              "      <th>ISBN</th>\n",
              "      <th>Book-Rating</th>\n",
              "      <th>Avg_Rating</th>\n",
              "      <th>Total_No_Of_Users_Rated</th>\n",
              "    </tr>\n",
              "  </thead>\n",
              "  <tbody>\n",
              "    <tr>\n",
              "      <th>1</th>\n",
              "      <td>276726</td>\n",
              "      <td>0155061224</td>\n",
              "      <td>5</td>\n",
              "      <td>5.000000</td>\n",
              "      <td>1</td>\n",
              "    </tr>\n",
              "    <tr>\n",
              "      <th>3</th>\n",
              "      <td>276729</td>\n",
              "      <td>052165615X</td>\n",
              "      <td>3</td>\n",
              "      <td>3.000000</td>\n",
              "      <td>1</td>\n",
              "    </tr>\n",
              "    <tr>\n",
              "      <th>4</th>\n",
              "      <td>276729</td>\n",
              "      <td>0521795028</td>\n",
              "      <td>6</td>\n",
              "      <td>6.000000</td>\n",
              "      <td>1</td>\n",
              "    </tr>\n",
              "    <tr>\n",
              "      <th>8</th>\n",
              "      <td>276744</td>\n",
              "      <td>038550120X</td>\n",
              "      <td>7</td>\n",
              "      <td>7.580247</td>\n",
              "      <td>81</td>\n",
              "    </tr>\n",
              "    <tr>\n",
              "      <th>16</th>\n",
              "      <td>276747</td>\n",
              "      <td>0060517794</td>\n",
              "      <td>9</td>\n",
              "      <td>8.000000</td>\n",
              "      <td>30</td>\n",
              "    </tr>\n",
              "  </tbody>\n",
              "</table>\n",
              "</div>"
            ],
            "text/plain": [
              "    User-ID        ISBN  Book-Rating  Avg_Rating  Total_No_Of_Users_Rated\n",
              "1    276726  0155061224            5    5.000000                        1\n",
              "3    276729  052165615X            3    3.000000                        1\n",
              "4    276729  0521795028            6    6.000000                        1\n",
              "8    276744  038550120X            7    7.580247                       81\n",
              "16   276747  0060517794            9    8.000000                       30"
            ]
          },
          "metadata": {},
          "execution_count": 63
        }
      ]
    },
    {
      "cell_type": "markdown",
      "metadata": {
        "id": "CLCKycowYnOo"
      },
      "source": [
        "# **Merge all Datasets**"
      ]
    },
    {
      "cell_type": "code",
      "metadata": {
        "id": "DGjnmxpCYcEK"
      },
      "source": [
        "# Merging all three datsets together\n",
        "\n",
        "Final_Dataset=users.copy()\n",
        "Final_Dataset=pd.merge(Final_Dataset,ratings_explicit,on='User-ID')\n",
        "Final_Dataset=pd.merge(Final_Dataset,books,on='ISBN')"
      ],
      "execution_count": 64,
      "outputs": []
    },
    {
      "cell_type": "code",
      "metadata": {
        "colab": {
          "base_uri": "https://localhost:8080/",
          "height": 417
        },
        "id": "Yf2QqQ8WYwzm",
        "outputId": "3ede2bca-6fa3-4b33-e538-ec2b515c2b72"
      },
      "source": [
        "# Let's take a look at final_dataset\n",
        "\n",
        "Final_Dataset.head()"
      ],
      "execution_count": 65,
      "outputs": [
        {
          "output_type": "execute_result",
          "data": {
            "text/html": [
              "<div>\n",
              "<style scoped>\n",
              "    .dataframe tbody tr th:only-of-type {\n",
              "        vertical-align: middle;\n",
              "    }\n",
              "\n",
              "    .dataframe tbody tr th {\n",
              "        vertical-align: top;\n",
              "    }\n",
              "\n",
              "    .dataframe thead th {\n",
              "        text-align: right;\n",
              "    }\n",
              "</style>\n",
              "<table border=\"1\" class=\"dataframe\">\n",
              "  <thead>\n",
              "    <tr style=\"text-align: right;\">\n",
              "      <th></th>\n",
              "      <th>User-ID</th>\n",
              "      <th>Age</th>\n",
              "      <th>Country</th>\n",
              "      <th>ISBN</th>\n",
              "      <th>Book-Rating</th>\n",
              "      <th>Avg_Rating</th>\n",
              "      <th>Total_No_Of_Users_Rated</th>\n",
              "      <th>Book-Title</th>\n",
              "      <th>Book-Author</th>\n",
              "      <th>Year-Of-Publication</th>\n",
              "      <th>Publisher</th>\n",
              "    </tr>\n",
              "  </thead>\n",
              "  <tbody>\n",
              "    <tr>\n",
              "      <th>0</th>\n",
              "      <td>8</td>\n",
              "      <td>34.746638</td>\n",
              "      <td>canada</td>\n",
              "      <td>0002005018</td>\n",
              "      <td>5</td>\n",
              "      <td>7.666667</td>\n",
              "      <td>9</td>\n",
              "      <td>Clara Callan</td>\n",
              "      <td>Richard Bruce Wright</td>\n",
              "      <td>2001.0</td>\n",
              "      <td>HarperFlamingo Canada</td>\n",
              "    </tr>\n",
              "    <tr>\n",
              "      <th>1</th>\n",
              "      <td>11676</td>\n",
              "      <td>34.746638</td>\n",
              "      <td>nan</td>\n",
              "      <td>0002005018</td>\n",
              "      <td>8</td>\n",
              "      <td>7.666667</td>\n",
              "      <td>9</td>\n",
              "      <td>Clara Callan</td>\n",
              "      <td>Richard Bruce Wright</td>\n",
              "      <td>2001.0</td>\n",
              "      <td>HarperFlamingo Canada</td>\n",
              "    </tr>\n",
              "    <tr>\n",
              "      <th>2</th>\n",
              "      <td>67544</td>\n",
              "      <td>30.000000</td>\n",
              "      <td>canada</td>\n",
              "      <td>0002005018</td>\n",
              "      <td>8</td>\n",
              "      <td>7.666667</td>\n",
              "      <td>9</td>\n",
              "      <td>Clara Callan</td>\n",
              "      <td>Richard Bruce Wright</td>\n",
              "      <td>2001.0</td>\n",
              "      <td>HarperFlamingo Canada</td>\n",
              "    </tr>\n",
              "    <tr>\n",
              "      <th>3</th>\n",
              "      <td>116866</td>\n",
              "      <td>34.746638</td>\n",
              "      <td>other</td>\n",
              "      <td>0002005018</td>\n",
              "      <td>9</td>\n",
              "      <td>7.666667</td>\n",
              "      <td>9</td>\n",
              "      <td>Clara Callan</td>\n",
              "      <td>Richard Bruce Wright</td>\n",
              "      <td>2001.0</td>\n",
              "      <td>HarperFlamingo Canada</td>\n",
              "    </tr>\n",
              "    <tr>\n",
              "      <th>4</th>\n",
              "      <td>123629</td>\n",
              "      <td>34.746638</td>\n",
              "      <td>canada</td>\n",
              "      <td>0002005018</td>\n",
              "      <td>9</td>\n",
              "      <td>7.666667</td>\n",
              "      <td>9</td>\n",
              "      <td>Clara Callan</td>\n",
              "      <td>Richard Bruce Wright</td>\n",
              "      <td>2001.0</td>\n",
              "      <td>HarperFlamingo Canada</td>\n",
              "    </tr>\n",
              "  </tbody>\n",
              "</table>\n",
              "</div>"
            ],
            "text/plain": [
              "   User-ID        Age  ... Year-Of-Publication              Publisher\n",
              "0        8  34.746638  ...              2001.0  HarperFlamingo Canada\n",
              "1    11676  34.746638  ...              2001.0  HarperFlamingo Canada\n",
              "2    67544  30.000000  ...              2001.0  HarperFlamingo Canada\n",
              "3   116866  34.746638  ...              2001.0  HarperFlamingo Canada\n",
              "4   123629  34.746638  ...              2001.0  HarperFlamingo Canada\n",
              "\n",
              "[5 rows x 11 columns]"
            ]
          },
          "metadata": {},
          "execution_count": 65
        }
      ]
    },
    {
      "cell_type": "code",
      "metadata": {
        "colab": {
          "base_uri": "https://localhost:8080/"
        },
        "id": "EUIz8h6SZTvM",
        "outputId": "6f7eea9b-813e-48bd-d697-b459ce554476"
      },
      "source": [
        "# Shape of Final_Dataset\n",
        "\n",
        "Final_Dataset.shape"
      ],
      "execution_count": 66,
      "outputs": [
        {
          "output_type": "execute_result",
          "data": {
            "text/plain": [
              "(383842, 11)"
            ]
          },
          "metadata": {},
          "execution_count": 66
        }
      ]
    },
    {
      "cell_type": "code",
      "metadata": {
        "colab": {
          "base_uri": "https://localhost:8080/"
        },
        "id": "JV-B89sSY5aH",
        "outputId": "5d27ee5d-66c1-4f0c-88f3-64a7e988c396"
      },
      "source": [
        "# Let's check percentage of null values in each column\n",
        "\n",
        "print(100*(Final_Dataset.isnull().sum()/len(Final_Dataset.index)).sort_values(ascending=False))"
      ],
      "execution_count": 67,
      "outputs": [
        {
          "output_type": "stream",
          "name": "stdout",
          "text": [
            "Publisher                  0.0\n",
            "Year-Of-Publication        0.0\n",
            "Book-Author                0.0\n",
            "Book-Title                 0.0\n",
            "Total_No_Of_Users_Rated    0.0\n",
            "Avg_Rating                 0.0\n",
            "Book-Rating                0.0\n",
            "ISBN                       0.0\n",
            "Country                    0.0\n",
            "Age                        0.0\n",
            "User-ID                    0.0\n",
            "dtype: float64\n"
          ]
        }
      ]
    },
    {
      "cell_type": "markdown",
      "metadata": {
        "id": "uJOvQHx7ZZ16"
      },
      "source": [
        "* **Great! There are 0% null values in Final_Dataset.**"
      ]
    },
    {
      "cell_type": "markdown",
      "metadata": {
        "id": "KcYGO-jJBfxj"
      },
      "source": [
        "# **Popularity Based Filtering**"
      ]
    },
    {
      "cell_type": "markdown",
      "metadata": {
        "id": "_EqATg-wEDhc"
      },
      "source": [
        "**Book weighted avg formula:<br>\n",
        "Weighted Rating(WR)=[vR/(v+m)]+[mC/(v+m)]<br>\n",
        "where,<br>\n",
        "v is the number of votes for the books;<br>\n",
        "m is the minimum votes required to be listed in the chart;<br>\n",
        "R is the average rating of the book; and<br>\n",
        "C is the mean vote across the whole report.<br>\n",
        "Now we find the values of v,m,R,C.**"
      ]
    },
    {
      "cell_type": "code",
      "metadata": {
        "id": "jQPV1zpiZPfE",
        "colab": {
          "base_uri": "https://localhost:8080/"
        },
        "outputId": "14402ff0-3a53-4a8a-fa48-2a7600d9c0b8"
      },
      "source": [
        "# Finding values of C and m.\n",
        "\n",
        "C= Final_Dataset['Avg_Rating'].mean()\n",
        "m= Final_Dataset['Total_No_Of_Users_Rated'].quantile(0.90)\n",
        "Top_Books = Final_Dataset.loc[Final_Dataset['Total_No_Of_Users_Rated'] >= m]\n",
        "print(f'C={C} , m={m}')\n",
        "Top_Books.shape"
      ],
      "execution_count": 68,
      "outputs": [
        {
          "output_type": "stream",
          "name": "stdout",
          "text": [
            "C=7.626700569504765 , m=64.0\n"
          ]
        },
        {
          "output_type": "execute_result",
          "data": {
            "text/plain": [
              "(38570, 11)"
            ]
          },
          "metadata": {},
          "execution_count": 68
        }
      ]
    },
    {
      "cell_type": "code",
      "metadata": {
        "id": "0BSLRc83F7Th"
      },
      "source": [
        "# Weighted_rating function to find popular books.\n",
        "\n",
        "def weighted_rating(x, m=m, C=C):\n",
        "    v = x['Total_No_Of_Users_Rated']\n",
        "    R = x['Avg_Rating']\n",
        "    return (v/(v+m) * R) + (m/(m+v) * C)\n",
        "    \n",
        " \n",
        "Top_Books['Score'] = Top_Books.apply(weighted_rating,axis=1)\n",
        " \n",
        " \n",
        "#Sorting books based on score calculated above\n",
        "Top_Books = Top_Books.sort_values('Score', ascending=False)"
      ],
      "execution_count": 69,
      "outputs": []
    },
    {
      "cell_type": "code",
      "metadata": {
        "id": "wuhATicoHLr0"
      },
      "source": [
        "# Keeping only one entry of each book\n",
        "\n",
        "Top_Books=Top_Books.sort_values('Score', ascending=False).drop_duplicates('ISBN').sort_index()\n",
        "cm=sns.light_palette('seagreen',as_cmap=True)"
      ],
      "execution_count": 70,
      "outputs": []
    },
    {
      "cell_type": "code",
      "metadata": {
        "id": "FAz4Exf3H66Y"
      },
      "source": [
        "# Sorting books based on score calculated above\n",
        "\n",
        "Top_Books = Top_Books.sort_values('Score', ascending=False)"
      ],
      "execution_count": 71,
      "outputs": []
    },
    {
      "cell_type": "code",
      "metadata": {
        "colab": {
          "base_uri": "https://localhost:8080/",
          "height": 370
        },
        "id": "sLR0M9vxHnz5",
        "outputId": "85bab3db-4a8c-4bda-a517-e432d9326f9d"
      },
      "source": [
        "# Printing the top 10 popular books\n",
        "\n",
        "Top_Books[['Book-Title', 'Total_No_Of_Users_Rated', 'Avg_Rating', 'Score']].reset_index(drop=True).head(10).style.background_gradient(cmap=cm)"
      ],
      "execution_count": 72,
      "outputs": [
        {
          "output_type": "execute_result",
          "data": {
            "text/html": [
              "<style  type=\"text/css\" >\n",
              "#T_956f1b98_21fb_11ec_9e42_0242ac1c0002row0_col1{\n",
              "            background-color:  #bbd8c7;\n",
              "            color:  #000000;\n",
              "        }#T_956f1b98_21fb_11ec_9e42_0242ac1c0002row0_col2{\n",
              "            background-color:  #58a279;\n",
              "            color:  #000000;\n",
              "        }#T_956f1b98_21fb_11ec_9e42_0242ac1c0002row0_col3,#T_956f1b98_21fb_11ec_9e42_0242ac1c0002row1_col1,#T_956f1b98_21fb_11ec_9e42_0242ac1c0002row5_col2{\n",
              "            background-color:  #2e8b57;\n",
              "            color:  #000000;\n",
              "        }#T_956f1b98_21fb_11ec_9e42_0242ac1c0002row1_col2{\n",
              "            background-color:  #bcd9c8;\n",
              "            color:  #000000;\n",
              "        }#T_956f1b98_21fb_11ec_9e42_0242ac1c0002row1_col3{\n",
              "            background-color:  #419566;\n",
              "            color:  #000000;\n",
              "        }#T_956f1b98_21fb_11ec_9e42_0242ac1c0002row2_col1{\n",
              "            background-color:  #84ba9b;\n",
              "            color:  #000000;\n",
              "        }#T_956f1b98_21fb_11ec_9e42_0242ac1c0002row2_col2{\n",
              "            background-color:  #9fc9b1;\n",
              "            color:  #000000;\n",
              "        }#T_956f1b98_21fb_11ec_9e42_0242ac1c0002row2_col3{\n",
              "            background-color:  #4c9c6f;\n",
              "            color:  #000000;\n",
              "        }#T_956f1b98_21fb_11ec_9e42_0242ac1c0002row3_col1{\n",
              "            background-color:  #7db696;\n",
              "            color:  #000000;\n",
              "        }#T_956f1b98_21fb_11ec_9e42_0242ac1c0002row3_col2{\n",
              "            background-color:  #bad8c6;\n",
              "            color:  #000000;\n",
              "        }#T_956f1b98_21fb_11ec_9e42_0242ac1c0002row3_col3{\n",
              "            background-color:  #78b492;\n",
              "            color:  #000000;\n",
              "        }#T_956f1b98_21fb_11ec_9e42_0242ac1c0002row4_col1{\n",
              "            background-color:  #bfdaca;\n",
              "            color:  #000000;\n",
              "        }#T_956f1b98_21fb_11ec_9e42_0242ac1c0002row4_col2{\n",
              "            background-color:  #90c1a5;\n",
              "            color:  #000000;\n",
              "        }#T_956f1b98_21fb_11ec_9e42_0242ac1c0002row4_col3{\n",
              "            background-color:  #8fc0a4;\n",
              "            color:  #000000;\n",
              "        }#T_956f1b98_21fb_11ec_9e42_0242ac1c0002row5_col1,#T_956f1b98_21fb_11ec_9e42_0242ac1c0002row8_col2,#T_956f1b98_21fb_11ec_9e42_0242ac1c0002row9_col3{\n",
              "            background-color:  #ebf3ed;\n",
              "            color:  #000000;\n",
              "        }#T_956f1b98_21fb_11ec_9e42_0242ac1c0002row5_col3{\n",
              "            background-color:  #99c5ac;\n",
              "            color:  #000000;\n",
              "        }#T_956f1b98_21fb_11ec_9e42_0242ac1c0002row6_col1{\n",
              "            background-color:  #b8d7c5;\n",
              "            color:  #000000;\n",
              "        }#T_956f1b98_21fb_11ec_9e42_0242ac1c0002row6_col2{\n",
              "            background-color:  #9ec8b0;\n",
              "            color:  #000000;\n",
              "        }#T_956f1b98_21fb_11ec_9e42_0242ac1c0002row6_col3{\n",
              "            background-color:  #99c6ac;\n",
              "            color:  #000000;\n",
              "        }#T_956f1b98_21fb_11ec_9e42_0242ac1c0002row7_col1{\n",
              "            background-color:  #cae0d3;\n",
              "            color:  #000000;\n",
              "        }#T_956f1b98_21fb_11ec_9e42_0242ac1c0002row7_col2{\n",
              "            background-color:  #aed1bd;\n",
              "            color:  #000000;\n",
              "        }#T_956f1b98_21fb_11ec_9e42_0242ac1c0002row7_col3{\n",
              "            background-color:  #dae9e0;\n",
              "            color:  #000000;\n",
              "        }#T_956f1b98_21fb_11ec_9e42_0242ac1c0002row8_col1{\n",
              "            background-color:  #91c1a6;\n",
              "            color:  #000000;\n",
              "        }#T_956f1b98_21fb_11ec_9e42_0242ac1c0002row8_col3{\n",
              "            background-color:  #e7f1ea;\n",
              "            color:  #000000;\n",
              "        }#T_956f1b98_21fb_11ec_9e42_0242ac1c0002row9_col1{\n",
              "            background-color:  #c4ddce;\n",
              "            color:  #000000;\n",
              "        }#T_956f1b98_21fb_11ec_9e42_0242ac1c0002row9_col2{\n",
              "            background-color:  #c1dccc;\n",
              "            color:  #000000;\n",
              "        }</style><table id=\"T_956f1b98_21fb_11ec_9e42_0242ac1c0002\" ><thead>    <tr>        <th class=\"blank level0\" ></th>        <th class=\"col_heading level0 col0\" >Book-Title</th>        <th class=\"col_heading level0 col1\" >Total_No_Of_Users_Rated</th>        <th class=\"col_heading level0 col2\" >Avg_Rating</th>        <th class=\"col_heading level0 col3\" >Score</th>    </tr></thead><tbody>\n",
              "                <tr>\n",
              "                        <th id=\"T_956f1b98_21fb_11ec_9e42_0242ac1c0002level0_row0\" class=\"row_heading level0 row0\" >0</th>\n",
              "                        <td id=\"T_956f1b98_21fb_11ec_9e42_0242ac1c0002row0_col0\" class=\"data row0 col0\" >Harry Potter and the Goblet of Fire (Book 4)</td>\n",
              "                        <td id=\"T_956f1b98_21fb_11ec_9e42_0242ac1c0002row0_col1\" class=\"data row0 col1\" >137</td>\n",
              "                        <td id=\"T_956f1b98_21fb_11ec_9e42_0242ac1c0002row0_col2\" class=\"data row0 col2\" >9.262774</td>\n",
              "                        <td id=\"T_956f1b98_21fb_11ec_9e42_0242ac1c0002row0_col3\" class=\"data row0 col3\" >8.741835</td>\n",
              "            </tr>\n",
              "            <tr>\n",
              "                        <th id=\"T_956f1b98_21fb_11ec_9e42_0242ac1c0002level0_row1\" class=\"row_heading level0 row1\" >1</th>\n",
              "                        <td id=\"T_956f1b98_21fb_11ec_9e42_0242ac1c0002row1_col0\" class=\"data row1 col0\" >Harry Potter and the Sorcerer's Stone (Harry Potter (Paperback))</td>\n",
              "                        <td id=\"T_956f1b98_21fb_11ec_9e42_0242ac1c0002row1_col1\" class=\"data row1 col1\" >313</td>\n",
              "                        <td id=\"T_956f1b98_21fb_11ec_9e42_0242ac1c0002row1_col2\" class=\"data row1 col2\" >8.939297</td>\n",
              "                        <td id=\"T_956f1b98_21fb_11ec_9e42_0242ac1c0002row1_col3\" class=\"data row1 col3\" >8.716469</td>\n",
              "            </tr>\n",
              "            <tr>\n",
              "                        <th id=\"T_956f1b98_21fb_11ec_9e42_0242ac1c0002level0_row2\" class=\"row_heading level0 row2\" >2</th>\n",
              "                        <td id=\"T_956f1b98_21fb_11ec_9e42_0242ac1c0002row2_col0\" class=\"data row2 col0\" >Harry Potter and the Order of the Phoenix (Book 5)</td>\n",
              "                        <td id=\"T_956f1b98_21fb_11ec_9e42_0242ac1c0002row2_col1\" class=\"data row2 col1\" >206</td>\n",
              "                        <td id=\"T_956f1b98_21fb_11ec_9e42_0242ac1c0002row2_col2\" class=\"data row2 col2\" >9.033981</td>\n",
              "                        <td id=\"T_956f1b98_21fb_11ec_9e42_0242ac1c0002row2_col3\" class=\"data row2 col3\" >8.700403</td>\n",
              "            </tr>\n",
              "            <tr>\n",
              "                        <th id=\"T_956f1b98_21fb_11ec_9e42_0242ac1c0002level0_row3\" class=\"row_heading level0 row3\" >3</th>\n",
              "                        <td id=\"T_956f1b98_21fb_11ec_9e42_0242ac1c0002row3_col0\" class=\"data row3 col0\" >To Kill a Mockingbird</td>\n",
              "                        <td id=\"T_956f1b98_21fb_11ec_9e42_0242ac1c0002row3_col1\" class=\"data row3 col1\" >214</td>\n",
              "                        <td id=\"T_956f1b98_21fb_11ec_9e42_0242ac1c0002row3_col2\" class=\"data row3 col2\" >8.943925</td>\n",
              "                        <td id=\"T_956f1b98_21fb_11ec_9e42_0242ac1c0002row3_col3\" class=\"data row3 col3\" >8.640679</td>\n",
              "            </tr>\n",
              "            <tr>\n",
              "                        <th id=\"T_956f1b98_21fb_11ec_9e42_0242ac1c0002level0_row4\" class=\"row_heading level0 row4\" >4</th>\n",
              "                        <td id=\"T_956f1b98_21fb_11ec_9e42_0242ac1c0002row4_col0\" class=\"data row4 col0\" >Harry Potter and the Prisoner of Azkaban (Book 3)</td>\n",
              "                        <td id=\"T_956f1b98_21fb_11ec_9e42_0242ac1c0002row4_col1\" class=\"data row4 col1\" >133</td>\n",
              "                        <td id=\"T_956f1b98_21fb_11ec_9e42_0242ac1c0002row4_col2\" class=\"data row4 col2\" >9.082707</td>\n",
              "                        <td id=\"T_956f1b98_21fb_11ec_9e42_0242ac1c0002row4_col3\" class=\"data row4 col3\" >8.609690</td>\n",
              "            </tr>\n",
              "            <tr>\n",
              "                        <th id=\"T_956f1b98_21fb_11ec_9e42_0242ac1c0002level0_row5\" class=\"row_heading level0 row5\" >5</th>\n",
              "                        <td id=\"T_956f1b98_21fb_11ec_9e42_0242ac1c0002row5_col0\" class=\"data row5 col0\" >The Return of the King (The Lord of the Rings, Part 3)</td>\n",
              "                        <td id=\"T_956f1b98_21fb_11ec_9e42_0242ac1c0002row5_col1\" class=\"data row5 col1\" >77</td>\n",
              "                        <td id=\"T_956f1b98_21fb_11ec_9e42_0242ac1c0002row5_col2\" class=\"data row5 col2\" >9.402597</td>\n",
              "                        <td id=\"T_956f1b98_21fb_11ec_9e42_0242ac1c0002row5_col3\" class=\"data row5 col3\" >8.596517</td>\n",
              "            </tr>\n",
              "            <tr>\n",
              "                        <th id=\"T_956f1b98_21fb_11ec_9e42_0242ac1c0002level0_row6\" class=\"row_heading level0 row6\" >6</th>\n",
              "                        <td id=\"T_956f1b98_21fb_11ec_9e42_0242ac1c0002row6_col0\" class=\"data row6 col0\" >Harry Potter and the Prisoner of Azkaban (Book 3)</td>\n",
              "                        <td id=\"T_956f1b98_21fb_11ec_9e42_0242ac1c0002row6_col1\" class=\"data row6 col1\" >141</td>\n",
              "                        <td id=\"T_956f1b98_21fb_11ec_9e42_0242ac1c0002row6_col2\" class=\"data row6 col2\" >9.035461</td>\n",
              "                        <td id=\"T_956f1b98_21fb_11ec_9e42_0242ac1c0002row6_col3\" class=\"data row6 col3\" >8.595653</td>\n",
              "            </tr>\n",
              "            <tr>\n",
              "                        <th id=\"T_956f1b98_21fb_11ec_9e42_0242ac1c0002level0_row7\" class=\"row_heading level0 row7\" >7</th>\n",
              "                        <td id=\"T_956f1b98_21fb_11ec_9e42_0242ac1c0002row7_col0\" class=\"data row7 col0\" >Harry Potter and the Sorcerer's Stone (Book 1)</td>\n",
              "                        <td id=\"T_956f1b98_21fb_11ec_9e42_0242ac1c0002row7_col1\" class=\"data row7 col1\" >119</td>\n",
              "                        <td id=\"T_956f1b98_21fb_11ec_9e42_0242ac1c0002row7_col2\" class=\"data row7 col2\" >8.983193</td>\n",
              "                        <td id=\"T_956f1b98_21fb_11ec_9e42_0242ac1c0002row7_col3\" class=\"data row7 col3\" >8.508791</td>\n",
              "            </tr>\n",
              "            <tr>\n",
              "                        <th id=\"T_956f1b98_21fb_11ec_9e42_0242ac1c0002level0_row8\" class=\"row_heading level0 row8\" >8</th>\n",
              "                        <td id=\"T_956f1b98_21fb_11ec_9e42_0242ac1c0002row8_col0\" class=\"data row8 col0\" >Harry Potter and the Chamber of Secrets (Book 2)</td>\n",
              "                        <td id=\"T_956f1b98_21fb_11ec_9e42_0242ac1c0002row8_col1\" class=\"data row8 col1\" >189</td>\n",
              "                        <td id=\"T_956f1b98_21fb_11ec_9e42_0242ac1c0002row8_col2\" class=\"data row8 col2\" >8.783069</td>\n",
              "                        <td id=\"T_956f1b98_21fb_11ec_9e42_0242ac1c0002row8_col3\" class=\"data row8 col3\" >8.490549</td>\n",
              "            </tr>\n",
              "            <tr>\n",
              "                        <th id=\"T_956f1b98_21fb_11ec_9e42_0242ac1c0002level0_row9\" class=\"row_heading level0 row9\" >9</th>\n",
              "                        <td id=\"T_956f1b98_21fb_11ec_9e42_0242ac1c0002row9_col0\" class=\"data row9 col0\" >Harry Potter and the Chamber of Secrets (Book 2)</td>\n",
              "                        <td id=\"T_956f1b98_21fb_11ec_9e42_0242ac1c0002row9_col1\" class=\"data row9 col1\" >126</td>\n",
              "                        <td id=\"T_956f1b98_21fb_11ec_9e42_0242ac1c0002row9_col2\" class=\"data row9 col2\" >8.920635</td>\n",
              "                        <td id=\"T_956f1b98_21fb_11ec_9e42_0242ac1c0002row9_col3\" class=\"data row9 col3\" >8.484783</td>\n",
              "            </tr>\n",
              "    </tbody></table>"
            ],
            "text/plain": [
              "<pandas.io.formats.style.Styler at 0x7f39480489d0>"
            ]
          },
          "metadata": {},
          "execution_count": 72
        }
      ]
    },
    {
      "cell_type": "markdown",
      "metadata": {
        "id": "-MlhV96YI8mL"
      },
      "source": [
        "* **The Popularity based recommender provide a general chart of recommended books to all the users.**\n",
        "* **They are not sensitive to the interests and tastes of a particular user.**"
      ]
    },
    {
      "cell_type": "markdown",
      "metadata": {
        "id": "kX0-wq8nPTCt"
      },
      "source": [
        "# **Collaborative Filtering Recommender**"
      ]
    },
    {
      "cell_type": "markdown",
      "metadata": {
        "id": "m7qGAVvZSDTO"
      },
      "source": [
        "## **Model Based Approach**"
      ]
    },
    {
      "cell_type": "markdown",
      "metadata": {
        "id": "1RsPe9D7UITT"
      },
      "source": [
        "**The goal of this section is to compare SVD and NMF algorithms, try different configurations of parameters and explore obtained results.**"
      ]
    },
    {
      "cell_type": "code",
      "metadata": {
        "id": "i0Q80XwHIvoT"
      },
      "source": [
        "# Importing Libraries\n",
        "\n",
        "import scipy\n",
        "import math\n",
        "import sklearn\n",
        "from nltk.corpus import stopwords\n",
        "from sklearn.model_selection import train_test_split\n",
        "from sklearn.feature_extraction.text import TfidfVectorizer\n",
        "from sklearn.metrics.pairwise import cosine_similarity\n",
        "from scipy.sparse.linalg import svds\n",
        "import matplotlib.pyplot as plt"
      ],
      "execution_count": 73,
      "outputs": []
    },
    {
      "cell_type": "code",
      "metadata": {
        "id": "c58q1NevS4IP"
      },
      "source": [
        "# Renaming columns of ratings_explicit dataframe\n",
        "\n",
        "ratings_explicit.rename(columns = {'User-ID':'user_id' ,'ISBN':'isbn' ,'Book-Rating':'book_rating'},inplace=True)"
      ],
      "execution_count": 74,
      "outputs": []
    },
    {
      "cell_type": "code",
      "metadata": {
        "colab": {
          "base_uri": "https://localhost:8080/"
        },
        "id": "Bon4YlG-HTvj",
        "outputId": "1f9283ff-8608-4fe7-fa94-63899670a6cd"
      },
      "source": [
        "# Extracting no. of users with atleast 3 ratings\n",
        "\n",
        "user_ratings_threshold = 3\n",
        "\n",
        "filter_users = ratings_explicit['user_id'].value_counts()\n",
        "filter_users_list = filter_users[filter_users >= user_ratings_threshold].index.to_list()\n",
        "\n",
        "df_ratings_top = ratings_explicit[ratings_explicit['user_id'].isin(filter_users_list)]\n",
        "\n",
        "print('Filter: users with at least %d ratings\\nNumber of records: %d' % (user_ratings_threshold, len(df_ratings_top)))"
      ],
      "execution_count": 75,
      "outputs": [
        {
          "output_type": "stream",
          "name": "stdout",
          "text": [
            "Filter: users with at least 3 ratings\n",
            "Number of records: 327271\n"
          ]
        }
      ]
    },
    {
      "cell_type": "code",
      "metadata": {
        "colab": {
          "base_uri": "https://localhost:8080/"
        },
        "id": "1v-XfHH9HkhK",
        "outputId": "2f3964e7-b50b-4c93-867a-938aba9b26a9"
      },
      "source": [
        "# Extracting top 10% most frequently rated books\n",
        "\n",
        "book_ratings_threshold_perc = 0.1\n",
        "book_ratings_threshold = len(df_ratings_top['isbn'].unique()) * book_ratings_threshold_perc\n",
        "\n",
        "filter_books_list = df_ratings_top['isbn'].value_counts().head(int(book_ratings_threshold)).index.to_list()\n",
        "df_ratings_top = df_ratings_top[df_ratings_top['isbn'].isin(filter_books_list)]\n",
        "\n",
        "print('Filter: top %d%% most frequently rated books\\nNumber of records: %d' % (book_ratings_threshold_perc*100, len(df_ratings_top)))"
      ],
      "execution_count": 76,
      "outputs": [
        {
          "output_type": "stream",
          "name": "stdout",
          "text": [
            "Filter: top 10% most frequently rated books\n",
            "Number of records: 160787\n"
          ]
        }
      ]
    },
    {
      "cell_type": "markdown",
      "metadata": {
        "id": "3MHwcRHnIBJi"
      },
      "source": [
        "### **SVD and NMF algorithms**"
      ]
    },
    {
      "cell_type": "markdown",
      "metadata": {
        "id": "Wbptm_LVJGtH"
      },
      "source": [
        "**Singular Value Decomposition (SVD) and Non-negative Matrix Factorization (NMF) are matrix factorization techniques used for dimensionality reduction.**"
      ]
    },
    {
      "cell_type": "markdown",
      "metadata": {
        "id": "EMjMEd3IILmZ"
      },
      "source": [
        "**Surprise package provides implementation of these algorithms.**"
      ]
    },
    {
      "cell_type": "code",
      "metadata": {
        "colab": {
          "base_uri": "https://localhost:8080/"
        },
        "id": "l63qhfiYH3Rv",
        "outputId": "3cedf200-dfa2-404b-f082-b6301bb0c40e"
      },
      "source": [
        "# Installing surprise\n",
        "\n",
        "!pip install surprise"
      ],
      "execution_count": 77,
      "outputs": [
        {
          "output_type": "stream",
          "name": "stdout",
          "text": [
            "Collecting surprise\n",
            "  Downloading surprise-0.1-py2.py3-none-any.whl (1.8 kB)\n",
            "Collecting scikit-surprise\n",
            "  Downloading scikit-surprise-1.1.1.tar.gz (11.8 MB)\n",
            "\u001b[K     |████████████████████████████████| 11.8 MB 9.6 MB/s \n",
            "\u001b[?25hRequirement already satisfied: joblib>=0.11 in /usr/local/lib/python3.7/dist-packages (from scikit-surprise->surprise) (1.0.1)\n",
            "Requirement already satisfied: numpy>=1.11.2 in /usr/local/lib/python3.7/dist-packages (from scikit-surprise->surprise) (1.19.5)\n",
            "Requirement already satisfied: scipy>=1.0.0 in /usr/local/lib/python3.7/dist-packages (from scikit-surprise->surprise) (1.4.1)\n",
            "Requirement already satisfied: six>=1.10.0 in /usr/local/lib/python3.7/dist-packages (from scikit-surprise->surprise) (1.15.0)\n",
            "Building wheels for collected packages: scikit-surprise\n",
            "  Building wheel for scikit-surprise (setup.py) ... \u001b[?25l\u001b[?25hdone\n",
            "  Created wheel for scikit-surprise: filename=scikit_surprise-1.1.1-cp37-cp37m-linux_x86_64.whl size=1619421 sha256=e2a13a92660354701b146e8fe6e8a39527dc994fdfcb929936555e92b54c4bfd\n",
            "  Stored in directory: /root/.cache/pip/wheels/76/44/74/b498c42be47b2406bd27994e16c5188e337c657025ab400c1c\n",
            "Successfully built scikit-surprise\n",
            "Installing collected packages: scikit-surprise, surprise\n",
            "Successfully installed scikit-surprise-1.1.1 surprise-0.1\n"
          ]
        }
      ]
    },
    {
      "cell_type": "code",
      "metadata": {
        "id": "mzYDiYilITu6"
      },
      "source": [
        "# Importing modules\n",
        "\n",
        "from surprise import Dataset, Reader\n",
        "from surprise import SVD, NMF\n",
        "from surprise.model_selection import cross_validate, train_test_split, GridSearchCV"
      ],
      "execution_count": 78,
      "outputs": []
    },
    {
      "cell_type": "code",
      "metadata": {
        "id": "_Xk6xXN1KZDp"
      },
      "source": [
        "# First take copy of dataset\n",
        "\n",
        "df=df_ratings_top.copy()\n",
        "reader = Reader(rating_scale=(1, 10))\n",
        "data = Dataset.load_from_df(df[['user_id', 'isbn', 'book_rating']], reader)"
      ],
      "execution_count": 79,
      "outputs": []
    },
    {
      "cell_type": "code",
      "metadata": {
        "colab": {
          "base_uri": "https://localhost:8080/"
        },
        "id": "fJxkU085Kn8q",
        "outputId": "e76f0553-5038-4e93-9170-3d19b3ceaa03"
      },
      "source": [
        "# Fitting SVD model\n",
        "\n",
        "model_svd = SVD()\n",
        "cv_results_svd = cross_validate(model_svd, data, cv=3)\n",
        "pd.DataFrame(cv_results_svd).mean()"
      ],
      "execution_count": 80,
      "outputs": [
        {
          "output_type": "execute_result",
          "data": {
            "text/plain": [
              "test_rmse    1.603565\n",
              "test_mae     1.240957\n",
              "fit_time     5.582814\n",
              "test_time    0.570978\n",
              "dtype: float64"
            ]
          },
          "metadata": {},
          "execution_count": 80
        }
      ]
    },
    {
      "cell_type": "code",
      "metadata": {
        "colab": {
          "base_uri": "https://localhost:8080/"
        },
        "id": "C4I4ULDyKuXu",
        "outputId": "6c6da7e0-199a-42cf-9fed-42da087b3557"
      },
      "source": [
        "# Fitting NMF model\n",
        "\n",
        "model_nmf = NMF()\n",
        "cv_results_nmf = cross_validate(model_nmf, data, cv=3)\n",
        "pd.DataFrame(cv_results_nmf).mean()"
      ],
      "execution_count": 81,
      "outputs": [
        {
          "output_type": "execute_result",
          "data": {
            "text/plain": [
              "test_rmse    2.616905\n",
              "test_mae     2.234363\n",
              "fit_time     9.284580\n",
              "test_time    0.541564\n",
              "dtype: float64"
            ]
          },
          "metadata": {},
          "execution_count": 81
        }
      ]
    },
    {
      "cell_type": "markdown",
      "metadata": {
        "id": "eXcuFTLQN_O1"
      },
      "source": [
        "* **SVD gives better results in terms of accuracy and training/test time.**"
      ]
    },
    {
      "cell_type": "markdown",
      "metadata": {
        "id": "DlEBaNJgbDqA"
      },
      "source": [
        "### **Optimization of SVD**"
      ]
    },
    {
      "cell_type": "markdown",
      "metadata": {
        "id": "qgh_d2W2cZpa"
      },
      "source": [
        "**The hyperparameters of SVD:**\n",
        "<br>\n",
        "* **n_factors** - the number of factors<br>\n",
        "* **n_epochs** - the number of iteration of the SGD procedure<br>\n",
        "* **lr_all** - the learning rate for all parameters<br>\n",
        "* **reg_all** - the regularization term for all parameters<br>"
      ]
    },
    {
      "cell_type": "markdown",
      "metadata": {
        "id": "LDLrJpTOcyg0"
      },
      "source": [
        "**To find optimal set of hyperparameters we use GridSearchCV**"
      ]
    },
    {
      "cell_type": "code",
      "metadata": {
        "colab": {
          "base_uri": "https://localhost:8080/"
        },
        "id": "G9kOSNLVNOnn",
        "outputId": "ff366ebc-7c3d-44e3-ed7f-94b082357241"
      },
      "source": [
        "# Initializing parameters dictionary for GridSearchCV\n",
        "\n",
        "param_grid = {'n_factors': [80,100],\n",
        "              'n_epochs': [5, 20],\n",
        "              'lr_all': [0.002, 0.005],\n",
        "              'reg_all': [0.2, 0.4]}\n",
        "\n",
        "gs = GridSearchCV(SVD, param_grid, measures=['rmse', 'mae'], cv=3, joblib_verbose=2, n_jobs=-1)\n",
        "gs.fit(data)\n",
        "\n",
        "print(gs.best_score['rmse'])\n",
        "print(gs.best_params['rmse'])"
      ],
      "execution_count": 82,
      "outputs": [
        {
          "output_type": "stream",
          "name": "stderr",
          "text": [
            "[Parallel(n_jobs=-1)]: Using backend LokyBackend with 2 concurrent workers.\n",
            "[Parallel(n_jobs=-1)]: Done  37 tasks      | elapsed:  2.9min\n"
          ]
        },
        {
          "output_type": "stream",
          "name": "stdout",
          "text": [
            "1.5966272879233998\n",
            "{'n_factors': 80, 'n_epochs': 20, 'lr_all': 0.005, 'reg_all': 0.2}\n"
          ]
        },
        {
          "output_type": "stream",
          "name": "stderr",
          "text": [
            "[Parallel(n_jobs=-1)]: Done  48 out of  48 | elapsed:  3.9min finished\n"
          ]
        }
      ]
    },
    {
      "cell_type": "markdown",
      "metadata": {
        "id": "kz8PGq4zIaaU"
      },
      "source": [
        "### **Analysis of SVD model results**"
      ]
    },
    {
      "cell_type": "code",
      "metadata": {
        "id": "iSQtoBOGdF_W"
      },
      "source": [
        "# Splitting train and test set and also fitting the model with hyperparameters obtained above\n",
        "\n",
        "trainset, testset = train_test_split(data, test_size=0.2)\n",
        "\n",
        "model = SVD(n_factors=80, n_epochs=20, lr_all=0.005, reg_all=0.2)\n",
        "model.fit(trainset)\n",
        "predictions = model.test(testset)"
      ],
      "execution_count": 83,
      "outputs": []
    },
    {
      "cell_type": "code",
      "metadata": {
        "colab": {
          "base_uri": "https://localhost:8080/",
          "height": 226
        },
        "id": "kY7TPy6ZI936",
        "outputId": "d9e8c904-039d-4463-b5a6-dbcf998b310a"
      },
      "source": [
        "# Creating dataframe of results\n",
        "\n",
        "df_pred = pd.DataFrame(predictions, columns=['user_id', 'isbn', 'actual_rating', 'pred_rating', 'details'])\n",
        "df_pred['impossible'] = df_pred['details'].apply(lambda x: x['was_impossible'])\n",
        "df_pred['pred_rating_round'] = df_pred['pred_rating'].round()\n",
        "df_pred['abs_err'] = abs(df_pred['pred_rating'] - df_pred['actual_rating'])\n",
        "df_pred.drop(['details'], axis=1, inplace=True)\n",
        "df_pred.sample(5)"
      ],
      "execution_count": 84,
      "outputs": [
        {
          "output_type": "execute_result",
          "data": {
            "text/html": [
              "<div>\n",
              "<style scoped>\n",
              "    .dataframe tbody tr th:only-of-type {\n",
              "        vertical-align: middle;\n",
              "    }\n",
              "\n",
              "    .dataframe tbody tr th {\n",
              "        vertical-align: top;\n",
              "    }\n",
              "\n",
              "    .dataframe thead th {\n",
              "        text-align: right;\n",
              "    }\n",
              "</style>\n",
              "<table border=\"1\" class=\"dataframe\">\n",
              "  <thead>\n",
              "    <tr style=\"text-align: right;\">\n",
              "      <th></th>\n",
              "      <th>user_id</th>\n",
              "      <th>isbn</th>\n",
              "      <th>actual_rating</th>\n",
              "      <th>pred_rating</th>\n",
              "      <th>impossible</th>\n",
              "      <th>pred_rating_round</th>\n",
              "      <th>abs_err</th>\n",
              "    </tr>\n",
              "  </thead>\n",
              "  <tbody>\n",
              "    <tr>\n",
              "      <th>15452</th>\n",
              "      <td>235925</td>\n",
              "      <td>0060977493</td>\n",
              "      <td>9.0</td>\n",
              "      <td>7.471587</td>\n",
              "      <td>False</td>\n",
              "      <td>7.0</td>\n",
              "      <td>1.528413</td>\n",
              "    </tr>\n",
              "    <tr>\n",
              "      <th>1452</th>\n",
              "      <td>242639</td>\n",
              "      <td>0596001088</td>\n",
              "      <td>10.0</td>\n",
              "      <td>8.014241</td>\n",
              "      <td>False</td>\n",
              "      <td>8.0</td>\n",
              "      <td>1.985759</td>\n",
              "    </tr>\n",
              "    <tr>\n",
              "      <th>30171</th>\n",
              "      <td>201969</td>\n",
              "      <td>0345447840</td>\n",
              "      <td>8.0</td>\n",
              "      <td>6.975950</td>\n",
              "      <td>False</td>\n",
              "      <td>7.0</td>\n",
              "      <td>1.024050</td>\n",
              "    </tr>\n",
              "    <tr>\n",
              "      <th>26137</th>\n",
              "      <td>215375</td>\n",
              "      <td>0452282152</td>\n",
              "      <td>7.0</td>\n",
              "      <td>7.852978</td>\n",
              "      <td>False</td>\n",
              "      <td>8.0</td>\n",
              "      <td>0.852978</td>\n",
              "    </tr>\n",
              "    <tr>\n",
              "      <th>14950</th>\n",
              "      <td>250454</td>\n",
              "      <td>044023722X</td>\n",
              "      <td>8.0</td>\n",
              "      <td>7.355667</td>\n",
              "      <td>False</td>\n",
              "      <td>7.0</td>\n",
              "      <td>0.644333</td>\n",
              "    </tr>\n",
              "  </tbody>\n",
              "</table>\n",
              "</div>"
            ],
            "text/plain": [
              "       user_id        isbn  ...  pred_rating_round   abs_err\n",
              "15452   235925  0060977493  ...                7.0  1.528413\n",
              "1452    242639  0596001088  ...                8.0  1.985759\n",
              "30171   201969  0345447840  ...                7.0  1.024050\n",
              "26137   215375  0452282152  ...                8.0  0.852978\n",
              "14950   250454  044023722X  ...                7.0  0.644333\n",
              "\n",
              "[5 rows x 7 columns]"
            ]
          },
          "metadata": {},
          "execution_count": 84
        }
      ]
    },
    {
      "cell_type": "markdown",
      "metadata": {
        "id": "kdPfjVfoKiML"
      },
      "source": [
        "### **Let's see the distribution of actual and predicted book ratings**"
      ]
    },
    {
      "cell_type": "code",
      "metadata": {
        "colab": {
          "base_uri": "https://localhost:8080/",
          "height": 166
        },
        "id": "C5WN5ri0KAg6",
        "outputId": "93792631-980f-460f-a3b2-30cb90adc461"
      },
      "source": [
        "# Distribution of actual and predicted book ratings\n",
        "\n",
        "palette = sns.color_palette(\"husl\", 10)\n",
        "fig, (ax1, ax2) = plt.subplots(nrows=1, ncols=2, figsize=(20, 4))\n",
        "\n",
        "sns.countplot(x='actual_rating', data=df_pred, palette=palette, ax=ax1)\n",
        "ax1.set_title('Distribution of actual ratings of books in the test set')\n",
        "\n",
        "sns.countplot(x='pred_rating_round', data=df_pred, palette=palette, ax=ax2)\n",
        "ax2.set_title('Distribution of predicted ratings of books in the test set')\n",
        "\n",
        "plt.show()"
      ],
      "execution_count": 85,
      "outputs": [
        {
          "output_type": "display_data",
          "data": {
            "image/png": "[encoded data removed]",
            "text/plain": [
              "<Figure size 1440x288 with 2 Axes>"
            ]
          },
          "metadata": {}
        }
      ]
    },
    {
      "cell_type": "markdown",
      "metadata": {
        "id": "WChVFeNoJnQo"
      },
      "source": [
        "**According to the distribution of actual ratings of books in the test set:**\n",
        "* **The more number of users give positive scores - between 7 and 10.**\n",
        "* **The mode equals 8 but count of ratings 7, 9, 10 is also noticeable.**\n",
        "* **The distribution of predicted ratings in the test set is visibly different.**\n",
        "* **Here again, 8 is a mode but scores 7, 9 and 10 are clearly less frequent.**"
      ]
    },
    {
      "cell_type": "code",
      "metadata": {
        "colab": {
          "base_uri": "https://localhost:8080/",
          "height": 227
        },
        "id": "qFO9Lj4FLrrF",
        "outputId": "57890010-1244-421c-e1cb-2b89c16ade4f"
      },
      "source": [
        "# Distribution of absolute error of predicted ratings\n",
        "\n",
        "df_pred_err = df_pred.groupby('actual_rating')['abs_err'].mean().reset_index()\n",
        "\n",
        "fig, (ax1, ax2) = plt.subplots(nrows=1, ncols=2, figsize=(14, 4))\n",
        "\n",
        "sns.distplot(df_pred['abs_err'], color='#2f6194', ax=ax1)\n",
        "ax1.set_title('Distribution of absolute error in test set')\n",
        "\n",
        "sns.barplot(x='actual_rating', y='abs_err', data=df_pred_err, palette=palette, ax=ax2)\n",
        "ax2.set_title('Mean absolute error for rating in test set')\n",
        "\n",
        "plt.show()"
      ],
      "execution_count": 86,
      "outputs": [
        {
          "output_type": "display_data",
          "data": {
            "image/png": "[encoded data removed]",
            "text/plain": [
              "<Figure size 1008x288 with 2 Axes>"
            ]
          },
          "metadata": {}
        }
      ]
    },
    {
      "cell_type": "markdown",
      "metadata": {
        "id": "V1awZiyuN_Wu"
      },
      "source": [
        "* **The distribution of absolute errors is right-skewed, showing that the majority of errors is small: between 0 and 1.**\n",
        "* **There is a long tail that indicates that there are several observations for which the absolute error was close to 10.**"
      ]
    },
    {
      "cell_type": "markdown",
      "metadata": {
        "id": "2lAIdj4jO8H5"
      },
      "source": [
        "### **Analysis of predicted ratings of a particular user**"
      ]
    },
    {
      "cell_type": "code",
      "metadata": {
        "id": "eKF8Qa06NhYK"
      },
      "source": [
        "# Let's first make a copy of books dataset and merge on predicted dataframe\n",
        "\n",
        "df_books = books.copy()\n",
        "df_books.rename(columns = {'ISBN':'isbn' ,'Book-Title':'book_title'},inplace=True)\n",
        "df_ext = df.merge(df_books[['isbn', 'book_title']], on='isbn', how='left')\n",
        "df_ext = df_ext.merge(df_pred[['isbn', 'user_id', 'pred_rating']], on=['isbn', 'user_id'], how='left')"
      ],
      "execution_count": 87,
      "outputs": []
    },
    {
      "cell_type": "markdown",
      "metadata": {
        "id": "roUg1uQBPq06"
      },
      "source": [
        "**We select the user with ID 193458 to analyse ratings**"
      ]
    },
    {
      "cell_type": "markdown",
      "metadata": {
        "id": "aj_k40MyQJ9d"
      },
      "source": [
        "### **Train set: Top rated books**"
      ]
    },
    {
      "cell_type": "code",
      "metadata": {
        "colab": {
          "base_uri": "https://localhost:8080/",
          "height": 799
        },
        "id": "sBjs5YiUPXiE",
        "outputId": "7d0b0bc4-8a0c-4188-fdb2-0c3a5c13183d"
      },
      "source": [
        "# Printing top 10 rated books by user 193458\n",
        "\n",
        "selected_user_id = 193458\n",
        "df_user = df_ext[df_ext['user_id']==selected_user_id]\n",
        "\n",
        "df_user[(df_user['pred_rating'].isna())&(df_user['book_rating']>=9)].sample(10)"
      ],
      "execution_count": 88,
      "outputs": [
        {
          "output_type": "execute_result",
          "data": {
            "text/html": [
              "<div>\n",
              "<style scoped>\n",
              "    .dataframe tbody tr th:only-of-type {\n",
              "        vertical-align: middle;\n",
              "    }\n",
              "\n",
              "    .dataframe tbody tr th {\n",
              "        vertical-align: top;\n",
              "    }\n",
              "\n",
              "    .dataframe thead th {\n",
              "        text-align: right;\n",
              "    }\n",
              "</style>\n",
              "<table border=\"1\" class=\"dataframe\">\n",
              "  <thead>\n",
              "    <tr style=\"text-align: right;\">\n",
              "      <th></th>\n",
              "      <th>user_id</th>\n",
              "      <th>isbn</th>\n",
              "      <th>book_rating</th>\n",
              "      <th>Avg_Rating</th>\n",
              "      <th>Total_No_Of_Users_Rated</th>\n",
              "      <th>book_title</th>\n",
              "      <th>pred_rating</th>\n",
              "    </tr>\n",
              "  </thead>\n",
              "  <tbody>\n",
              "    <tr>\n",
              "      <th>113530</th>\n",
              "      <td>193458</td>\n",
              "      <td>0064471063</td>\n",
              "      <td>9</td>\n",
              "      <td>8.518519</td>\n",
              "      <td>27</td>\n",
              "      <td>The Horse and His Boy</td>\n",
              "      <td>NaN</td>\n",
              "    </tr>\n",
              "    <tr>\n",
              "      <th>113531</th>\n",
              "      <td>193458</td>\n",
              "      <td>0064471071</td>\n",
              "      <td>9</td>\n",
              "      <td>8.733333</td>\n",
              "      <td>15</td>\n",
              "      <td>The Voyage of the Dawn Treader (rack) (Narnia)</td>\n",
              "      <td>NaN</td>\n",
              "    </tr>\n",
              "    <tr>\n",
              "      <th>113570</th>\n",
              "      <td>193458</td>\n",
              "      <td>0671880314</td>\n",
              "      <td>9</td>\n",
              "      <td>8.305556</td>\n",
              "      <td>36</td>\n",
              "      <td>Schindler's List</td>\n",
              "      <td>NaN</td>\n",
              "    </tr>\n",
              "    <tr>\n",
              "      <th>113535</th>\n",
              "      <td>193458</td>\n",
              "      <td>014011369X</td>\n",
              "      <td>9</td>\n",
              "      <td>9.125000</td>\n",
              "      <td>8</td>\n",
              "      <td>And the Band Played on: Politics, People, and ...</td>\n",
              "      <td>NaN</td>\n",
              "    </tr>\n",
              "    <tr>\n",
              "      <th>113540</th>\n",
              "      <td>193458</td>\n",
              "      <td>0142001740</td>\n",
              "      <td>9</td>\n",
              "      <td>8.452769</td>\n",
              "      <td>307</td>\n",
              "      <td>The Secret Life of Bees</td>\n",
              "      <td>NaN</td>\n",
              "    </tr>\n",
              "    <tr>\n",
              "      <th>113547</th>\n",
              "      <td>193458</td>\n",
              "      <td>0345361792</td>\n",
              "      <td>10</td>\n",
              "      <td>8.607735</td>\n",
              "      <td>181</td>\n",
              "      <td>A Prayer for Owen Meany</td>\n",
              "      <td>NaN</td>\n",
              "    </tr>\n",
              "    <tr>\n",
              "      <th>113567</th>\n",
              "      <td>193458</td>\n",
              "      <td>0553258001</td>\n",
              "      <td>9</td>\n",
              "      <td>8.236842</td>\n",
              "      <td>38</td>\n",
              "      <td>The Cider House Rules</td>\n",
              "      <td>NaN</td>\n",
              "    </tr>\n",
              "    <tr>\n",
              "      <th>113577</th>\n",
              "      <td>193458</td>\n",
              "      <td>0887309100</td>\n",
              "      <td>9</td>\n",
              "      <td>7.600000</td>\n",
              "      <td>5</td>\n",
              "      <td>The Dilbert Future: Thriving on Business Stupi...</td>\n",
              "      <td>NaN</td>\n",
              "    </tr>\n",
              "    <tr>\n",
              "      <th>113545</th>\n",
              "      <td>193458</td>\n",
              "      <td>0330352695</td>\n",
              "      <td>9</td>\n",
              "      <td>7.615385</td>\n",
              "      <td>13</td>\n",
              "      <td>Four Letters of Love</td>\n",
              "      <td>NaN</td>\n",
              "    </tr>\n",
              "    <tr>\n",
              "      <th>113536</th>\n",
              "      <td>193458</td>\n",
              "      <td>0140298479</td>\n",
              "      <td>9</td>\n",
              "      <td>7.539823</td>\n",
              "      <td>113</td>\n",
              "      <td>Bridget Jones: The Edge of Reason</td>\n",
              "      <td>NaN</td>\n",
              "    </tr>\n",
              "  </tbody>\n",
              "</table>\n",
              "</div>"
            ],
            "text/plain": [
              "        user_id  ... pred_rating\n",
              "113530   193458  ...         NaN\n",
              "113531   193458  ...         NaN\n",
              "113570   193458  ...         NaN\n",
              "113535   193458  ...         NaN\n",
              "113540   193458  ...         NaN\n",
              "113547   193458  ...         NaN\n",
              "113567   193458  ...         NaN\n",
              "113577   193458  ...         NaN\n",
              "113545   193458  ...         NaN\n",
              "113536   193458  ...         NaN\n",
              "\n",
              "[10 rows x 7 columns]"
            ]
          },
          "metadata": {},
          "execution_count": 88
        }
      ]
    },
    {
      "cell_type": "markdown",
      "metadata": {
        "id": "2cLufsAtQqGT"
      },
      "source": [
        "### **Test set: Predicted top rated books**"
      ]
    },
    {
      "cell_type": "code",
      "metadata": {
        "colab": {
          "base_uri": "https://localhost:8080/",
          "height": 486
        },
        "id": "-ACHgAaFQYi1",
        "outputId": "dd7e275c-7caa-40a2-eb77-e6ce657c8dbb"
      },
      "source": [
        "# Printing prediction of top 5 rated books\n",
        "\n",
        "df_user[df_user['pred_rating'].notna()].sort_values('pred_rating', ascending=False).head(5)"
      ],
      "execution_count": 89,
      "outputs": [
        {
          "output_type": "execute_result",
          "data": {
            "text/html": [
              "<div>\n",
              "<style scoped>\n",
              "    .dataframe tbody tr th:only-of-type {\n",
              "        vertical-align: middle;\n",
              "    }\n",
              "\n",
              "    .dataframe tbody tr th {\n",
              "        vertical-align: top;\n",
              "    }\n",
              "\n",
              "    .dataframe thead th {\n",
              "        text-align: right;\n",
              "    }\n",
              "</style>\n",
              "<table border=\"1\" class=\"dataframe\">\n",
              "  <thead>\n",
              "    <tr style=\"text-align: right;\">\n",
              "      <th></th>\n",
              "      <th>user_id</th>\n",
              "      <th>isbn</th>\n",
              "      <th>book_rating</th>\n",
              "      <th>Avg_Rating</th>\n",
              "      <th>Total_No_Of_Users_Rated</th>\n",
              "      <th>book_title</th>\n",
              "      <th>pred_rating</th>\n",
              "    </tr>\n",
              "  </thead>\n",
              "  <tbody>\n",
              "    <tr>\n",
              "      <th>113528</th>\n",
              "      <td>193458</td>\n",
              "      <td>0064471047</td>\n",
              "      <td>9</td>\n",
              "      <td>8.714286</td>\n",
              "      <td>42</td>\n",
              "      <td>The Lion, the Witch, and the Wardrobe (The Chr...</td>\n",
              "      <td>8.758941</td>\n",
              "    </tr>\n",
              "    <tr>\n",
              "      <th>113555</th>\n",
              "      <td>193458</td>\n",
              "      <td>0399145923</td>\n",
              "      <td>6</td>\n",
              "      <td>7.833333</td>\n",
              "      <td>24</td>\n",
              "      <td>Carolina Moon</td>\n",
              "      <td>8.200589</td>\n",
              "    </tr>\n",
              "    <tr>\n",
              "      <th>113582</th>\n",
              "      <td>193458</td>\n",
              "      <td>1853260622</td>\n",
              "      <td>5</td>\n",
              "      <td>8.272727</td>\n",
              "      <td>11</td>\n",
              "      <td>War and Peace (Wordsworth Classics)</td>\n",
              "      <td>8.123705</td>\n",
              "    </tr>\n",
              "    <tr>\n",
              "      <th>113552</th>\n",
              "      <td>193458</td>\n",
              "      <td>0345431057</td>\n",
              "      <td>9</td>\n",
              "      <td>9.125000</td>\n",
              "      <td>8</td>\n",
              "      <td>Slaves in the Family (Ballantine Reader's Circle)</td>\n",
              "      <td>8.104998</td>\n",
              "    </tr>\n",
              "    <tr>\n",
              "      <th>113581</th>\n",
              "      <td>193458</td>\n",
              "      <td>1853260169</td>\n",
              "      <td>10</td>\n",
              "      <td>8.153846</td>\n",
              "      <td>13</td>\n",
              "      <td>Sense and Sensibility (Wordsworth Classics)</td>\n",
              "      <td>8.089691</td>\n",
              "    </tr>\n",
              "  </tbody>\n",
              "</table>\n",
              "</div>"
            ],
            "text/plain": [
              "        user_id  ... pred_rating\n",
              "113528   193458  ...    8.758941\n",
              "113555   193458  ...    8.200589\n",
              "113582   193458  ...    8.123705\n",
              "113552   193458  ...    8.104998\n",
              "113581   193458  ...    8.089691\n",
              "\n",
              "[5 rows x 7 columns]"
            ]
          },
          "metadata": {},
          "execution_count": 89
        }
      ]
    },
    {
      "cell_type": "markdown",
      "metadata": {
        "id": "mL4_Z7OKRBgN"
      },
      "source": [
        "### **Test set: Actual top rated books**"
      ]
    },
    {
      "cell_type": "code",
      "metadata": {
        "colab": {
          "base_uri": "https://localhost:8080/",
          "height": 504
        },
        "id": "MARCWLFmQ8_U",
        "outputId": "e87b9679-e805-4ca2-bb80-5dbe476e5dac"
      },
      "source": [
        "# Printing actual top 5 rated books by user 193458\n",
        "\n",
        "df_user[df_user['pred_rating'].notna()].sort_values('book_rating', ascending=False).head(5)"
      ],
      "execution_count": 90,
      "outputs": [
        {
          "output_type": "execute_result",
          "data": {
            "text/html": [
              "<div>\n",
              "<style scoped>\n",
              "    .dataframe tbody tr th:only-of-type {\n",
              "        vertical-align: middle;\n",
              "    }\n",
              "\n",
              "    .dataframe tbody tr th {\n",
              "        vertical-align: top;\n",
              "    }\n",
              "\n",
              "    .dataframe thead th {\n",
              "        text-align: right;\n",
              "    }\n",
              "</style>\n",
              "<table border=\"1\" class=\"dataframe\">\n",
              "  <thead>\n",
              "    <tr style=\"text-align: right;\">\n",
              "      <th></th>\n",
              "      <th>user_id</th>\n",
              "      <th>isbn</th>\n",
              "      <th>book_rating</th>\n",
              "      <th>Avg_Rating</th>\n",
              "      <th>Total_No_Of_Users_Rated</th>\n",
              "      <th>book_title</th>\n",
              "      <th>pred_rating</th>\n",
              "    </tr>\n",
              "  </thead>\n",
              "  <tbody>\n",
              "    <tr>\n",
              "      <th>113581</th>\n",
              "      <td>193458</td>\n",
              "      <td>1853260169</td>\n",
              "      <td>10</td>\n",
              "      <td>8.153846</td>\n",
              "      <td>13</td>\n",
              "      <td>Sense and Sensibility (Wordsworth Classics)</td>\n",
              "      <td>8.089691</td>\n",
              "    </tr>\n",
              "    <tr>\n",
              "      <th>113528</th>\n",
              "      <td>193458</td>\n",
              "      <td>0064471047</td>\n",
              "      <td>9</td>\n",
              "      <td>8.714286</td>\n",
              "      <td>42</td>\n",
              "      <td>The Lion, the Witch, and the Wardrobe (The Chr...</td>\n",
              "      <td>8.758941</td>\n",
              "    </tr>\n",
              "    <tr>\n",
              "      <th>113538</th>\n",
              "      <td>193458</td>\n",
              "      <td>0140620125</td>\n",
              "      <td>9</td>\n",
              "      <td>8.133333</td>\n",
              "      <td>15</td>\n",
              "      <td>Wuthering Heights (Penguin Popular Classics)</td>\n",
              "      <td>7.783481</td>\n",
              "    </tr>\n",
              "    <tr>\n",
              "      <th>113546</th>\n",
              "      <td>193458</td>\n",
              "      <td>0345342569</td>\n",
              "      <td>9</td>\n",
              "      <td>7.947368</td>\n",
              "      <td>19</td>\n",
              "      <td>Shoeless Joe</td>\n",
              "      <td>8.062578</td>\n",
              "    </tr>\n",
              "    <tr>\n",
              "      <th>113552</th>\n",
              "      <td>193458</td>\n",
              "      <td>0345431057</td>\n",
              "      <td>9</td>\n",
              "      <td>9.125000</td>\n",
              "      <td>8</td>\n",
              "      <td>Slaves in the Family (Ballantine Reader's Circle)</td>\n",
              "      <td>8.104998</td>\n",
              "    </tr>\n",
              "  </tbody>\n",
              "</table>\n",
              "</div>"
            ],
            "text/plain": [
              "        user_id  ... pred_rating\n",
              "113581   193458  ...    8.089691\n",
              "113528   193458  ...    8.758941\n",
              "113538   193458  ...    7.783481\n",
              "113546   193458  ...    8.062578\n",
              "113552   193458  ...    8.104998\n",
              "\n",
              "[5 rows x 7 columns]"
            ]
          },
          "metadata": {},
          "execution_count": 90
        }
      ]
    },
    {
      "cell_type": "markdown",
      "metadata": {
        "id": "r0R73oQZReuA"
      },
      "source": [
        "**After analyzing book ratings by the user - 193458:**\n",
        "* **He/she likes English romantic novels (Pride and Prejudice, Sense and Sensibility), fantasy (Narnia) as well as historical novels (Schindler's List).**\n",
        "* **Among the recommended books there are other works from Narnia's series, two historical novels and one romance which correlates with user's previous preferences.**"
      ]
    },
    {
      "cell_type": "markdown",
      "metadata": {
        "id": "onE7VdxIVC9c"
      },
      "source": [
        "## **Memory Based Approach**"
      ]
    },
    {
      "cell_type": "markdown",
      "metadata": {
        "id": "A4q-4KZWs2cY"
      },
      "source": [
        "### **Item-Item Based Filtering**"
      ]
    },
    {
      "cell_type": "code",
      "metadata": {
        "id": "7c3vcZWeRUvK"
      },
      "source": [
        "# Importing libraries\n",
        "\n",
        "from sklearn.neighbors import NearestNeighbors\n",
        "from scipy.spatial.distance import correlation\n",
        "from sklearn.metrics.pairwise import pairwise_distances\n",
        "import ipywidgets as widgets\n",
        "from IPython.display import display, clear_output\n",
        "from contextlib import contextmanager\n",
        "import numpy as np\n",
        "import os, sys\n",
        "import re\n",
        "from scipy.sparse import csr_matrix"
      ],
      "execution_count": 91,
      "outputs": []
    },
    {
      "cell_type": "code",
      "metadata": {
        "colab": {
          "base_uri": "https://localhost:8080/",
          "height": 206
        },
        "id": "DCvm_aA_tMIy",
        "outputId": "706364df-c811-4162-f772-18a306858a70"
      },
      "source": [
        "# Top ratings dataframe\n",
        "\n",
        "df_ratings_top.head()"
      ],
      "execution_count": 92,
      "outputs": [
        {
          "output_type": "execute_result",
          "data": {
            "text/html": [
              "<div>\n",
              "<style scoped>\n",
              "    .dataframe tbody tr th:only-of-type {\n",
              "        vertical-align: middle;\n",
              "    }\n",
              "\n",
              "    .dataframe tbody tr th {\n",
              "        vertical-align: top;\n",
              "    }\n",
              "\n",
              "    .dataframe thead th {\n",
              "        text-align: right;\n",
              "    }\n",
              "</style>\n",
              "<table border=\"1\" class=\"dataframe\">\n",
              "  <thead>\n",
              "    <tr style=\"text-align: right;\">\n",
              "      <th></th>\n",
              "      <th>user_id</th>\n",
              "      <th>isbn</th>\n",
              "      <th>book_rating</th>\n",
              "      <th>Avg_Rating</th>\n",
              "      <th>Total_No_Of_Users_Rated</th>\n",
              "    </tr>\n",
              "  </thead>\n",
              "  <tbody>\n",
              "    <tr>\n",
              "      <th>16</th>\n",
              "      <td>276747</td>\n",
              "      <td>0060517794</td>\n",
              "      <td>9</td>\n",
              "      <td>8.000000</td>\n",
              "      <td>30</td>\n",
              "    </tr>\n",
              "    <tr>\n",
              "      <th>19</th>\n",
              "      <td>276747</td>\n",
              "      <td>0671537458</td>\n",
              "      <td>9</td>\n",
              "      <td>7.176471</td>\n",
              "      <td>17</td>\n",
              "    </tr>\n",
              "    <tr>\n",
              "      <th>20</th>\n",
              "      <td>276747</td>\n",
              "      <td>0679776818</td>\n",
              "      <td>8</td>\n",
              "      <td>7.476190</td>\n",
              "      <td>21</td>\n",
              "    </tr>\n",
              "    <tr>\n",
              "      <th>59</th>\n",
              "      <td>276772</td>\n",
              "      <td>0553572369</td>\n",
              "      <td>7</td>\n",
              "      <td>6.625000</td>\n",
              "      <td>8</td>\n",
              "    </tr>\n",
              "    <tr>\n",
              "      <th>61</th>\n",
              "      <td>276772</td>\n",
              "      <td>3499230933</td>\n",
              "      <td>10</td>\n",
              "      <td>7.166667</td>\n",
              "      <td>6</td>\n",
              "    </tr>\n",
              "  </tbody>\n",
              "</table>\n",
              "</div>"
            ],
            "text/plain": [
              "    user_id        isbn  book_rating  Avg_Rating  Total_No_Of_Users_Rated\n",
              "16   276747  0060517794            9    8.000000                       30\n",
              "19   276747  0671537458            9    7.176471                       17\n",
              "20   276747  0679776818            8    7.476190                       21\n",
              "59   276772  0553572369            7    6.625000                        8\n",
              "61   276772  3499230933           10    7.166667                        6"
            ]
          },
          "metadata": {},
          "execution_count": 92
        }
      ]
    },
    {
      "cell_type": "code",
      "metadata": {
        "id": "Eo_-GGyfurtk"
      },
      "source": [
        "# Renaming columns of top ratings dataframe\n",
        "\n",
        "df_ratings_top.rename(columns={'user_id':'userID' ,'isbn':'ISBN','book_rating':'bookRating'},inplace=True)"
      ],
      "execution_count": 93,
      "outputs": []
    },
    {
      "cell_type": "code",
      "metadata": {
        "colab": {
          "base_uri": "https://localhost:8080/",
          "height": 206
        },
        "id": "MxBxRKj905og",
        "outputId": "6f6ca98d-709f-4c06-fc66-356c4935fa38"
      },
      "source": [
        "df_ratings_top.head()"
      ],
      "execution_count": 94,
      "outputs": [
        {
          "output_type": "execute_result",
          "data": {
            "text/html": [
              "<div>\n",
              "<style scoped>\n",
              "    .dataframe tbody tr th:only-of-type {\n",
              "        vertical-align: middle;\n",
              "    }\n",
              "\n",
              "    .dataframe tbody tr th {\n",
              "        vertical-align: top;\n",
              "    }\n",
              "\n",
              "    .dataframe thead th {\n",
              "        text-align: right;\n",
              "    }\n",
              "</style>\n",
              "<table border=\"1\" class=\"dataframe\">\n",
              "  <thead>\n",
              "    <tr style=\"text-align: right;\">\n",
              "      <th></th>\n",
              "      <th>userID</th>\n",
              "      <th>ISBN</th>\n",
              "      <th>bookRating</th>\n",
              "      <th>Avg_Rating</th>\n",
              "      <th>Total_No_Of_Users_Rated</th>\n",
              "    </tr>\n",
              "  </thead>\n",
              "  <tbody>\n",
              "    <tr>\n",
              "      <th>16</th>\n",
              "      <td>276747</td>\n",
              "      <td>0060517794</td>\n",
              "      <td>9</td>\n",
              "      <td>8.000000</td>\n",
              "      <td>30</td>\n",
              "    </tr>\n",
              "    <tr>\n",
              "      <th>19</th>\n",
              "      <td>276747</td>\n",
              "      <td>0671537458</td>\n",
              "      <td>9</td>\n",
              "      <td>7.176471</td>\n",
              "      <td>17</td>\n",
              "    </tr>\n",
              "    <tr>\n",
              "      <th>20</th>\n",
              "      <td>276747</td>\n",
              "      <td>0679776818</td>\n",
              "      <td>8</td>\n",
              "      <td>7.476190</td>\n",
              "      <td>21</td>\n",
              "    </tr>\n",
              "    <tr>\n",
              "      <th>59</th>\n",
              "      <td>276772</td>\n",
              "      <td>0553572369</td>\n",
              "      <td>7</td>\n",
              "      <td>6.625000</td>\n",
              "      <td>8</td>\n",
              "    </tr>\n",
              "    <tr>\n",
              "      <th>61</th>\n",
              "      <td>276772</td>\n",
              "      <td>3499230933</td>\n",
              "      <td>10</td>\n",
              "      <td>7.166667</td>\n",
              "      <td>6</td>\n",
              "    </tr>\n",
              "  </tbody>\n",
              "</table>\n",
              "</div>"
            ],
            "text/plain": [
              "    userID        ISBN  bookRating  Avg_Rating  Total_No_Of_Users_Rated\n",
              "16  276747  0060517794           9    8.000000                       30\n",
              "19  276747  0671537458           9    7.176471                       17\n",
              "20  276747  0679776818           8    7.476190                       21\n",
              "59  276772  0553572369           7    6.625000                        8\n",
              "61  276772  3499230933          10    7.166667                        6"
            ]
          },
          "metadata": {},
          "execution_count": 94
        }
      ]
    },
    {
      "cell_type": "markdown",
      "metadata": {
        "id": "oc9JtZQK1L9s"
      },
      "source": [
        "### **Implementing kNN for finding similar users**"
      ]
    },
    {
      "cell_type": "code",
      "metadata": {
        "colab": {
          "base_uri": "https://localhost:8080/",
          "height": 304
        },
        "id": "neaf0P5S09Cf",
        "outputId": "029e81e5-0dbb-4504-e393-83c25a4ec3b5"
      },
      "source": [
        "# Generating ratings matrix from explicit ratings table\n",
        "\n",
        "ratings_matrix = df_ratings_top.pivot(index='userID', columns='ISBN', values='bookRating')\n",
        "userID = ratings_matrix.index\n",
        "ISBN = ratings_matrix.columns\n",
        "print(ratings_matrix.shape)\n",
        "ratings_matrix.head()"
      ],
      "execution_count": 95,
      "outputs": [
        {
          "output_type": "stream",
          "name": "stdout",
          "text": [
            "(18558, 13740)\n"
          ]
        },
        {
          "output_type": "execute_result",
          "data": {
            "text/html": [
              "<div>\n",
              "<style scoped>\n",
              "    .dataframe tbody tr th:only-of-type {\n",
              "        vertical-align: middle;\n",
              "    }\n",
              "\n",
              "    .dataframe tbody tr th {\n",
              "        vertical-align: top;\n",
              "    }\n",
              "\n",
              "    .dataframe thead th {\n",
              "        text-align: right;\n",
              "    }\n",
              "</style>\n",
              "<table border=\"1\" class=\"dataframe\">\n",
              "  <thead>\n",
              "    <tr style=\"text-align: right;\">\n",
              "      <th>ISBN</th>\n",
              "      <th>0002005018</th>\n",
              "      <th>0002251760</th>\n",
              "      <th>0002259834</th>\n",
              "      <th>0002558122</th>\n",
              "      <th>0003300277</th>\n",
              "      <th>000617616X</th>\n",
              "      <th>0006480764</th>\n",
              "      <th>000648302X</th>\n",
              "      <th>0006485200</th>\n",
              "      <th>0006492347</th>\n",
              "      <th>000649840X</th>\n",
              "      <th>0006511767</th>\n",
              "      <th>0006546684</th>\n",
              "      <th>0006547834</th>\n",
              "      <th>0006550576</th>\n",
              "      <th>0006550789</th>\n",
              "      <th>0006550924</th>\n",
              "      <th>0006551971</th>\n",
              "      <th>0006716652</th>\n",
              "      <th>0007100922</th>\n",
              "      <th>0007110928</th>\n",
              "      <th>0007119860</th>\n",
              "      <th>0007141076</th>\n",
              "      <th>0007154615</th>\n",
              "      <th>000716226X</th>\n",
              "      <th>0007170866</th>\n",
              "      <th>0020125305</th>\n",
              "      <th>0020125607</th>\n",
              "      <th>0020198817</th>\n",
              "      <th>0020198906</th>\n",
              "      <th>0020199600</th>\n",
              "      <th>002026478X</th>\n",
              "      <th>0020264801</th>\n",
              "      <th>0020306652</th>\n",
              "      <th>0020360754</th>\n",
              "      <th>002040400X</th>\n",
              "      <th>0020418809</th>\n",
              "      <th>0020427115</th>\n",
              "      <th>0020427859</th>\n",
              "      <th>0020442009</th>\n",
              "      <th>...</th>\n",
              "      <th>8472237966</th>\n",
              "      <th>8477204055</th>\n",
              "      <th>8478447229</th>\n",
              "      <th>8478884459</th>\n",
              "      <th>8478884955</th>\n",
              "      <th>8478885196</th>\n",
              "      <th>8478886451</th>\n",
              "      <th>8483100630</th>\n",
              "      <th>8483101610</th>\n",
              "      <th>8483140004</th>\n",
              "      <th>8484505294</th>\n",
              "      <th>8484602508</th>\n",
              "      <th>8495359537</th>\n",
              "      <th>8495501074</th>\n",
              "      <th>8495501090</th>\n",
              "      <th>8495501198</th>\n",
              "      <th>8495501252</th>\n",
              "      <th>8495501465</th>\n",
              "      <th>849550152X</th>\n",
              "      <th>8495618605</th>\n",
              "      <th>8804470895</th>\n",
              "      <th>8806142100</th>\n",
              "      <th>8806143042</th>\n",
              "      <th>880781000X</th>\n",
              "      <th>880781210X</th>\n",
              "      <th>8807813025</th>\n",
              "      <th>8817106100</th>\n",
              "      <th>8838910170</th>\n",
              "      <th>8845205118</th>\n",
              "      <th>9074336329</th>\n",
              "      <th>9129622425</th>\n",
              "      <th>9500723832</th>\n",
              "      <th>950491036X</th>\n",
              "      <th>9505156642</th>\n",
              "      <th>9505156944</th>\n",
              "      <th>958704049X</th>\n",
              "      <th>9681500954</th>\n",
              "      <th>9722016563</th>\n",
              "      <th>9812327975</th>\n",
              "      <th>9871138148</th>\n",
              "    </tr>\n",
              "    <tr>\n",
              "      <th>userID</th>\n",
              "      <th></th>\n",
              "      <th></th>\n",
              "      <th></th>\n",
              "      <th></th>\n",
              "      <th></th>\n",
              "      <th></th>\n",
              "      <th></th>\n",
              "      <th></th>\n",
              "      <th></th>\n",
              "      <th></th>\n",
              "      <th></th>\n",
              "      <th></th>\n",
              "      <th></th>\n",
              "      <th></th>\n",
              "      <th></th>\n",
              "      <th></th>\n",
              "      <th></th>\n",
              "      <th></th>\n",
              "      <th></th>\n",
              "      <th></th>\n",
              "      <th></th>\n",
              "      <th></th>\n",
              "      <th></th>\n",
              "      <th></th>\n",
              "      <th></th>\n",
              "      <th></th>\n",
              "      <th></th>\n",
              "      <th></th>\n",
              "      <th></th>\n",
              "      <th></th>\n",
              "      <th></th>\n",
              "      <th></th>\n",
              "      <th></th>\n",
              "      <th></th>\n",
              "      <th></th>\n",
              "      <th></th>\n",
              "      <th></th>\n",
              "      <th></th>\n",
              "      <th></th>\n",
              "      <th></th>\n",
              "      <th></th>\n",
              "      <th></th>\n",
              "      <th></th>\n",
              "      <th></th>\n",
              "      <th></th>\n",
              "      <th></th>\n",
              "      <th></th>\n",
              "      <th></th>\n",
              "      <th></th>\n",
              "      <th></th>\n",
              "      <th></th>\n",
              "      <th></th>\n",
              "      <th></th>\n",
              "      <th></th>\n",
              "      <th></th>\n",
              "      <th></th>\n",
              "      <th></th>\n",
              "      <th></th>\n",
              "      <th></th>\n",
              "      <th></th>\n",
              "      <th></th>\n",
              "      <th></th>\n",
              "      <th></th>\n",
              "      <th></th>\n",
              "      <th></th>\n",
              "      <th></th>\n",
              "      <th></th>\n",
              "      <th></th>\n",
              "      <th></th>\n",
              "      <th></th>\n",
              "      <th></th>\n",
              "      <th></th>\n",
              "      <th></th>\n",
              "      <th></th>\n",
              "      <th></th>\n",
              "      <th></th>\n",
              "      <th></th>\n",
              "      <th></th>\n",
              "      <th></th>\n",
              "      <th></th>\n",
              "      <th></th>\n",
              "    </tr>\n",
              "  </thead>\n",
              "  <tbody>\n",
              "    <tr>\n",
              "      <th>8</th>\n",
              "      <td>5.0</td>\n",
              "      <td>NaN</td>\n",
              "      <td>NaN</td>\n",
              "      <td>NaN</td>\n",
              "      <td>NaN</td>\n",
              "      <td>NaN</td>\n",
              "      <td>NaN</td>\n",
              "      <td>NaN</td>\n",
              "      <td>NaN</td>\n",
              "      <td>NaN</td>\n",
              "      <td>NaN</td>\n",
              "      <td>NaN</td>\n",
              "      <td>NaN</td>\n",
              "      <td>NaN</td>\n",
              "      <td>NaN</td>\n",
              "      <td>NaN</td>\n",
              "      <td>NaN</td>\n",
              "      <td>NaN</td>\n",
              "      <td>NaN</td>\n",
              "      <td>NaN</td>\n",
              "      <td>NaN</td>\n",
              "      <td>NaN</td>\n",
              "      <td>NaN</td>\n",
              "      <td>NaN</td>\n",
              "      <td>NaN</td>\n",
              "      <td>NaN</td>\n",
              "      <td>NaN</td>\n",
              "      <td>NaN</td>\n",
              "      <td>NaN</td>\n",
              "      <td>NaN</td>\n",
              "      <td>NaN</td>\n",
              "      <td>NaN</td>\n",
              "      <td>NaN</td>\n",
              "      <td>NaN</td>\n",
              "      <td>NaN</td>\n",
              "      <td>NaN</td>\n",
              "      <td>NaN</td>\n",
              "      <td>NaN</td>\n",
              "      <td>NaN</td>\n",
              "      <td>NaN</td>\n",
              "      <td>...</td>\n",
              "      <td>NaN</td>\n",
              "      <td>NaN</td>\n",
              "      <td>NaN</td>\n",
              "      <td>NaN</td>\n",
              "      <td>NaN</td>\n",
              "      <td>NaN</td>\n",
              "      <td>NaN</td>\n",
              "      <td>NaN</td>\n",
              "      <td>NaN</td>\n",
              "      <td>NaN</td>\n",
              "      <td>NaN</td>\n",
              "      <td>NaN</td>\n",
              "      <td>NaN</td>\n",
              "      <td>NaN</td>\n",
              "      <td>NaN</td>\n",
              "      <td>NaN</td>\n",
              "      <td>NaN</td>\n",
              "      <td>NaN</td>\n",
              "      <td>NaN</td>\n",
              "      <td>NaN</td>\n",
              "      <td>NaN</td>\n",
              "      <td>NaN</td>\n",
              "      <td>NaN</td>\n",
              "      <td>NaN</td>\n",
              "      <td>NaN</td>\n",
              "      <td>NaN</td>\n",
              "      <td>NaN</td>\n",
              "      <td>NaN</td>\n",
              "      <td>NaN</td>\n",
              "      <td>NaN</td>\n",
              "      <td>NaN</td>\n",
              "      <td>NaN</td>\n",
              "      <td>NaN</td>\n",
              "      <td>NaN</td>\n",
              "      <td>NaN</td>\n",
              "      <td>NaN</td>\n",
              "      <td>NaN</td>\n",
              "      <td>NaN</td>\n",
              "      <td>NaN</td>\n",
              "      <td>NaN</td>\n",
              "    </tr>\n",
              "    <tr>\n",
              "      <th>17</th>\n",
              "      <td>NaN</td>\n",
              "      <td>NaN</td>\n",
              "      <td>NaN</td>\n",
              "      <td>NaN</td>\n",
              "      <td>NaN</td>\n",
              "      <td>NaN</td>\n",
              "      <td>NaN</td>\n",
              "      <td>NaN</td>\n",
              "      <td>NaN</td>\n",
              "      <td>NaN</td>\n",
              "      <td>NaN</td>\n",
              "      <td>NaN</td>\n",
              "      <td>NaN</td>\n",
              "      <td>NaN</td>\n",
              "      <td>NaN</td>\n",
              "      <td>NaN</td>\n",
              "      <td>NaN</td>\n",
              "      <td>NaN</td>\n",
              "      <td>NaN</td>\n",
              "      <td>NaN</td>\n",
              "      <td>NaN</td>\n",
              "      <td>NaN</td>\n",
              "      <td>NaN</td>\n",
              "      <td>NaN</td>\n",
              "      <td>NaN</td>\n",
              "      <td>NaN</td>\n",
              "      <td>NaN</td>\n",
              "      <td>NaN</td>\n",
              "      <td>NaN</td>\n",
              "      <td>NaN</td>\n",
              "      <td>NaN</td>\n",
              "      <td>NaN</td>\n",
              "      <td>NaN</td>\n",
              "      <td>NaN</td>\n",
              "      <td>NaN</td>\n",
              "      <td>NaN</td>\n",
              "      <td>NaN</td>\n",
              "      <td>NaN</td>\n",
              "      <td>NaN</td>\n",
              "      <td>NaN</td>\n",
              "      <td>...</td>\n",
              "      <td>NaN</td>\n",
              "      <td>NaN</td>\n",
              "      <td>NaN</td>\n",
              "      <td>NaN</td>\n",
              "      <td>NaN</td>\n",
              "      <td>NaN</td>\n",
              "      <td>NaN</td>\n",
              "      <td>NaN</td>\n",
              "      <td>NaN</td>\n",
              "      <td>NaN</td>\n",
              "      <td>NaN</td>\n",
              "      <td>NaN</td>\n",
              "      <td>NaN</td>\n",
              "      <td>NaN</td>\n",
              "      <td>NaN</td>\n",
              "      <td>NaN</td>\n",
              "      <td>NaN</td>\n",
              "      <td>NaN</td>\n",
              "      <td>NaN</td>\n",
              "      <td>NaN</td>\n",
              "      <td>NaN</td>\n",
              "      <td>NaN</td>\n",
              "      <td>NaN</td>\n",
              "      <td>NaN</td>\n",
              "      <td>NaN</td>\n",
              "      <td>NaN</td>\n",
              "      <td>NaN</td>\n",
              "      <td>NaN</td>\n",
              "      <td>NaN</td>\n",
              "      <td>NaN</td>\n",
              "      <td>NaN</td>\n",
              "      <td>NaN</td>\n",
              "      <td>NaN</td>\n",
              "      <td>NaN</td>\n",
              "      <td>NaN</td>\n",
              "      <td>NaN</td>\n",
              "      <td>NaN</td>\n",
              "      <td>NaN</td>\n",
              "      <td>NaN</td>\n",
              "      <td>NaN</td>\n",
              "    </tr>\n",
              "    <tr>\n",
              "      <th>53</th>\n",
              "      <td>NaN</td>\n",
              "      <td>NaN</td>\n",
              "      <td>NaN</td>\n",
              "      <td>NaN</td>\n",
              "      <td>NaN</td>\n",
              "      <td>NaN</td>\n",
              "      <td>NaN</td>\n",
              "      <td>NaN</td>\n",
              "      <td>NaN</td>\n",
              "      <td>NaN</td>\n",
              "      <td>NaN</td>\n",
              "      <td>NaN</td>\n",
              "      <td>NaN</td>\n",
              "      <td>NaN</td>\n",
              "      <td>NaN</td>\n",
              "      <td>NaN</td>\n",
              "      <td>NaN</td>\n",
              "      <td>NaN</td>\n",
              "      <td>NaN</td>\n",
              "      <td>NaN</td>\n",
              "      <td>NaN</td>\n",
              "      <td>NaN</td>\n",
              "      <td>NaN</td>\n",
              "      <td>NaN</td>\n",
              "      <td>NaN</td>\n",
              "      <td>NaN</td>\n",
              "      <td>NaN</td>\n",
              "      <td>NaN</td>\n",
              "      <td>NaN</td>\n",
              "      <td>NaN</td>\n",
              "      <td>NaN</td>\n",
              "      <td>NaN</td>\n",
              "      <td>NaN</td>\n",
              "      <td>NaN</td>\n",
              "      <td>NaN</td>\n",
              "      <td>NaN</td>\n",
              "      <td>NaN</td>\n",
              "      <td>NaN</td>\n",
              "      <td>NaN</td>\n",
              "      <td>NaN</td>\n",
              "      <td>...</td>\n",
              "      <td>NaN</td>\n",
              "      <td>NaN</td>\n",
              "      <td>NaN</td>\n",
              "      <td>NaN</td>\n",
              "      <td>NaN</td>\n",
              "      <td>NaN</td>\n",
              "      <td>NaN</td>\n",
              "      <td>NaN</td>\n",
              "      <td>NaN</td>\n",
              "      <td>NaN</td>\n",
              "      <td>NaN</td>\n",
              "      <td>NaN</td>\n",
              "      <td>NaN</td>\n",
              "      <td>NaN</td>\n",
              "      <td>NaN</td>\n",
              "      <td>NaN</td>\n",
              "      <td>NaN</td>\n",
              "      <td>NaN</td>\n",
              "      <td>NaN</td>\n",
              "      <td>NaN</td>\n",
              "      <td>NaN</td>\n",
              "      <td>NaN</td>\n",
              "      <td>NaN</td>\n",
              "      <td>NaN</td>\n",
              "      <td>NaN</td>\n",
              "      <td>NaN</td>\n",
              "      <td>NaN</td>\n",
              "      <td>NaN</td>\n",
              "      <td>NaN</td>\n",
              "      <td>NaN</td>\n",
              "      <td>NaN</td>\n",
              "      <td>NaN</td>\n",
              "      <td>NaN</td>\n",
              "      <td>NaN</td>\n",
              "      <td>NaN</td>\n",
              "      <td>NaN</td>\n",
              "      <td>NaN</td>\n",
              "      <td>NaN</td>\n",
              "      <td>NaN</td>\n",
              "      <td>NaN</td>\n",
              "    </tr>\n",
              "    <tr>\n",
              "      <th>92</th>\n",
              "      <td>NaN</td>\n",
              "      <td>NaN</td>\n",
              "      <td>NaN</td>\n",
              "      <td>NaN</td>\n",
              "      <td>NaN</td>\n",
              "      <td>NaN</td>\n",
              "      <td>NaN</td>\n",
              "      <td>NaN</td>\n",
              "      <td>NaN</td>\n",
              "      <td>NaN</td>\n",
              "      <td>NaN</td>\n",
              "      <td>NaN</td>\n",
              "      <td>NaN</td>\n",
              "      <td>NaN</td>\n",
              "      <td>NaN</td>\n",
              "      <td>NaN</td>\n",
              "      <td>NaN</td>\n",
              "      <td>NaN</td>\n",
              "      <td>NaN</td>\n",
              "      <td>NaN</td>\n",
              "      <td>NaN</td>\n",
              "      <td>NaN</td>\n",
              "      <td>NaN</td>\n",
              "      <td>NaN</td>\n",
              "      <td>NaN</td>\n",
              "      <td>NaN</td>\n",
              "      <td>NaN</td>\n",
              "      <td>NaN</td>\n",
              "      <td>NaN</td>\n",
              "      <td>NaN</td>\n",
              "      <td>NaN</td>\n",
              "      <td>NaN</td>\n",
              "      <td>NaN</td>\n",
              "      <td>NaN</td>\n",
              "      <td>NaN</td>\n",
              "      <td>NaN</td>\n",
              "      <td>NaN</td>\n",
              "      <td>NaN</td>\n",
              "      <td>NaN</td>\n",
              "      <td>NaN</td>\n",
              "      <td>...</td>\n",
              "      <td>NaN</td>\n",
              "      <td>NaN</td>\n",
              "      <td>NaN</td>\n",
              "      <td>NaN</td>\n",
              "      <td>NaN</td>\n",
              "      <td>NaN</td>\n",
              "      <td>NaN</td>\n",
              "      <td>NaN</td>\n",
              "      <td>NaN</td>\n",
              "      <td>NaN</td>\n",
              "      <td>NaN</td>\n",
              "      <td>NaN</td>\n",
              "      <td>NaN</td>\n",
              "      <td>NaN</td>\n",
              "      <td>NaN</td>\n",
              "      <td>NaN</td>\n",
              "      <td>NaN</td>\n",
              "      <td>NaN</td>\n",
              "      <td>NaN</td>\n",
              "      <td>NaN</td>\n",
              "      <td>NaN</td>\n",
              "      <td>NaN</td>\n",
              "      <td>NaN</td>\n",
              "      <td>NaN</td>\n",
              "      <td>NaN</td>\n",
              "      <td>NaN</td>\n",
              "      <td>NaN</td>\n",
              "      <td>NaN</td>\n",
              "      <td>NaN</td>\n",
              "      <td>NaN</td>\n",
              "      <td>NaN</td>\n",
              "      <td>NaN</td>\n",
              "      <td>NaN</td>\n",
              "      <td>NaN</td>\n",
              "      <td>NaN</td>\n",
              "      <td>NaN</td>\n",
              "      <td>NaN</td>\n",
              "      <td>NaN</td>\n",
              "      <td>NaN</td>\n",
              "      <td>NaN</td>\n",
              "    </tr>\n",
              "    <tr>\n",
              "      <th>99</th>\n",
              "      <td>NaN</td>\n",
              "      <td>NaN</td>\n",
              "      <td>NaN</td>\n",
              "      <td>NaN</td>\n",
              "      <td>NaN</td>\n",
              "      <td>NaN</td>\n",
              "      <td>NaN</td>\n",
              "      <td>NaN</td>\n",
              "      <td>NaN</td>\n",
              "      <td>NaN</td>\n",
              "      <td>NaN</td>\n",
              "      <td>NaN</td>\n",
              "      <td>NaN</td>\n",
              "      <td>NaN</td>\n",
              "      <td>NaN</td>\n",
              "      <td>NaN</td>\n",
              "      <td>NaN</td>\n",
              "      <td>NaN</td>\n",
              "      <td>NaN</td>\n",
              "      <td>NaN</td>\n",
              "      <td>NaN</td>\n",
              "      <td>NaN</td>\n",
              "      <td>NaN</td>\n",
              "      <td>NaN</td>\n",
              "      <td>NaN</td>\n",
              "      <td>NaN</td>\n",
              "      <td>NaN</td>\n",
              "      <td>NaN</td>\n",
              "      <td>NaN</td>\n",
              "      <td>NaN</td>\n",
              "      <td>NaN</td>\n",
              "      <td>NaN</td>\n",
              "      <td>NaN</td>\n",
              "      <td>NaN</td>\n",
              "      <td>NaN</td>\n",
              "      <td>NaN</td>\n",
              "      <td>NaN</td>\n",
              "      <td>NaN</td>\n",
              "      <td>NaN</td>\n",
              "      <td>NaN</td>\n",
              "      <td>...</td>\n",
              "      <td>NaN</td>\n",
              "      <td>NaN</td>\n",
              "      <td>NaN</td>\n",
              "      <td>NaN</td>\n",
              "      <td>NaN</td>\n",
              "      <td>NaN</td>\n",
              "      <td>NaN</td>\n",
              "      <td>NaN</td>\n",
              "      <td>NaN</td>\n",
              "      <td>NaN</td>\n",
              "      <td>NaN</td>\n",
              "      <td>NaN</td>\n",
              "      <td>NaN</td>\n",
              "      <td>NaN</td>\n",
              "      <td>NaN</td>\n",
              "      <td>NaN</td>\n",
              "      <td>NaN</td>\n",
              "      <td>NaN</td>\n",
              "      <td>NaN</td>\n",
              "      <td>NaN</td>\n",
              "      <td>NaN</td>\n",
              "      <td>NaN</td>\n",
              "      <td>NaN</td>\n",
              "      <td>NaN</td>\n",
              "      <td>NaN</td>\n",
              "      <td>NaN</td>\n",
              "      <td>NaN</td>\n",
              "      <td>NaN</td>\n",
              "      <td>NaN</td>\n",
              "      <td>NaN</td>\n",
              "      <td>NaN</td>\n",
              "      <td>NaN</td>\n",
              "      <td>NaN</td>\n",
              "      <td>NaN</td>\n",
              "      <td>NaN</td>\n",
              "      <td>NaN</td>\n",
              "      <td>NaN</td>\n",
              "      <td>NaN</td>\n",
              "      <td>NaN</td>\n",
              "      <td>NaN</td>\n",
              "    </tr>\n",
              "  </tbody>\n",
              "</table>\n",
              "<p>5 rows × 13740 columns</p>\n",
              "</div>"
            ],
            "text/plain": [
              "ISBN    0002005018  0002251760  0002259834  ...  9722016563  9812327975  9871138148\n",
              "userID                                      ...                                    \n",
              "8              5.0         NaN         NaN  ...         NaN         NaN         NaN\n",
              "17             NaN         NaN         NaN  ...         NaN         NaN         NaN\n",
              "53             NaN         NaN         NaN  ...         NaN         NaN         NaN\n",
              "92             NaN         NaN         NaN  ...         NaN         NaN         NaN\n",
              "99             NaN         NaN         NaN  ...         NaN         NaN         NaN\n",
              "\n",
              "[5 rows x 13740 columns]"
            ]
          },
          "metadata": {},
          "execution_count": 95
        }
      ]
    },
    {
      "cell_type": "markdown",
      "metadata": {
        "id": "SvzTvkJD7QoY"
      },
      "source": [
        "**Most of the values are NaN (undefined) i.e. absence of ratings.**"
      ]
    },
    {
      "cell_type": "code",
      "metadata": {
        "colab": {
          "base_uri": "https://localhost:8080/"
        },
        "id": "kiyFLqyF7M_A",
        "outputId": "abfd0305-bf9a-4898-a25d-44494b0dc4cf"
      },
      "source": [
        "# Considering only those users who gave explicit ratings\n",
        "\n",
        "n_users = ratings_matrix.shape[0] \n",
        "n_books = ratings_matrix.shape[1]\n",
        "print (n_users, n_books)"
      ],
      "execution_count": 96,
      "outputs": [
        {
          "output_type": "stream",
          "name": "stdout",
          "text": [
            "18558 13740\n"
          ]
        }
      ]
    },
    {
      "cell_type": "code",
      "metadata": {
        "id": "fWoRKXqb7ium"
      },
      "source": [
        "# Filling NaN values with 0\n",
        "\n",
        "ratings_matrix.fillna(0, inplace = True)\n",
        "ratings_matrix = ratings_matrix.astype(np.int32)"
      ],
      "execution_count": 97,
      "outputs": []
    },
    {
      "cell_type": "code",
      "metadata": {
        "colab": {
          "base_uri": "https://localhost:8080/",
          "height": 287
        },
        "id": "WuyAECpWGGqT",
        "outputId": "904f2ae0-afcc-4377-f9c7-210369453ca4"
      },
      "source": [
        "#checking first 5 rows\n",
        "\n",
        "ratings_matrix.head()"
      ],
      "execution_count": 98,
      "outputs": [
        {
          "output_type": "execute_result",
          "data": {
            "text/html": [
              "<div>\n",
              "<style scoped>\n",
              "    .dataframe tbody tr th:only-of-type {\n",
              "        vertical-align: middle;\n",
              "    }\n",
              "\n",
              "    .dataframe tbody tr th {\n",
              "        vertical-align: top;\n",
              "    }\n",
              "\n",
              "    .dataframe thead th {\n",
              "        text-align: right;\n",
              "    }\n",
              "</style>\n",
              "<table border=\"1\" class=\"dataframe\">\n",
              "  <thead>\n",
              "    <tr style=\"text-align: right;\">\n",
              "      <th>ISBN</th>\n",
              "      <th>0002005018</th>\n",
              "      <th>0002251760</th>\n",
              "      <th>0002259834</th>\n",
              "      <th>0002558122</th>\n",
              "      <th>0003300277</th>\n",
              "      <th>000617616X</th>\n",
              "      <th>0006480764</th>\n",
              "      <th>000648302X</th>\n",
              "      <th>0006485200</th>\n",
              "      <th>0006492347</th>\n",
              "      <th>000649840X</th>\n",
              "      <th>0006511767</th>\n",
              "      <th>0006546684</th>\n",
              "      <th>0006547834</th>\n",
              "      <th>0006550576</th>\n",
              "      <th>0006550789</th>\n",
              "      <th>0006550924</th>\n",
              "      <th>0006551971</th>\n",
              "      <th>0006716652</th>\n",
              "      <th>0007100922</th>\n",
              "      <th>0007110928</th>\n",
              "      <th>0007119860</th>\n",
              "      <th>0007141076</th>\n",
              "      <th>0007154615</th>\n",
              "      <th>000716226X</th>\n",
              "      <th>0007170866</th>\n",
              "      <th>0020125305</th>\n",
              "      <th>0020125607</th>\n",
              "      <th>0020198817</th>\n",
              "      <th>0020198906</th>\n",
              "      <th>0020199600</th>\n",
              "      <th>002026478X</th>\n",
              "      <th>0020264801</th>\n",
              "      <th>0020306652</th>\n",
              "      <th>0020360754</th>\n",
              "      <th>002040400X</th>\n",
              "      <th>0020418809</th>\n",
              "      <th>0020427115</th>\n",
              "      <th>0020427859</th>\n",
              "      <th>0020442009</th>\n",
              "      <th>...</th>\n",
              "      <th>8472237966</th>\n",
              "      <th>8477204055</th>\n",
              "      <th>8478447229</th>\n",
              "      <th>8478884459</th>\n",
              "      <th>8478884955</th>\n",
              "      <th>8478885196</th>\n",
              "      <th>8478886451</th>\n",
              "      <th>8483100630</th>\n",
              "      <th>8483101610</th>\n",
              "      <th>8483140004</th>\n",
              "      <th>8484505294</th>\n",
              "      <th>8484602508</th>\n",
              "      <th>8495359537</th>\n",
              "      <th>8495501074</th>\n",
              "      <th>8495501090</th>\n",
              "      <th>8495501198</th>\n",
              "      <th>8495501252</th>\n",
              "      <th>8495501465</th>\n",
              "      <th>849550152X</th>\n",
              "      <th>8495618605</th>\n",
              "      <th>8804470895</th>\n",
              "      <th>8806142100</th>\n",
              "      <th>8806143042</th>\n",
              "      <th>880781000X</th>\n",
              "      <th>880781210X</th>\n",
              "      <th>8807813025</th>\n",
              "      <th>8817106100</th>\n",
              "      <th>8838910170</th>\n",
              "      <th>8845205118</th>\n",
              "      <th>9074336329</th>\n",
              "      <th>9129622425</th>\n",
              "      <th>9500723832</th>\n",
              "      <th>950491036X</th>\n",
              "      <th>9505156642</th>\n",
              "      <th>9505156944</th>\n",
              "      <th>958704049X</th>\n",
              "      <th>9681500954</th>\n",
              "      <th>9722016563</th>\n",
              "      <th>9812327975</th>\n",
              "      <th>9871138148</th>\n",
              "    </tr>\n",
              "    <tr>\n",
              "      <th>userID</th>\n",
              "      <th></th>\n",
              "      <th></th>\n",
              "      <th></th>\n",
              "      <th></th>\n",
              "      <th></th>\n",
              "      <th></th>\n",
              "      <th></th>\n",
              "      <th></th>\n",
              "      <th></th>\n",
              "      <th></th>\n",
              "      <th></th>\n",
              "      <th></th>\n",
              "      <th></th>\n",
              "      <th></th>\n",
              "      <th></th>\n",
              "      <th></th>\n",
              "      <th></th>\n",
              "      <th></th>\n",
              "      <th></th>\n",
              "      <th></th>\n",
              "      <th></th>\n",
              "      <th></th>\n",
              "      <th></th>\n",
              "      <th></th>\n",
              "      <th></th>\n",
              "      <th></th>\n",
              "      <th></th>\n",
              "      <th></th>\n",
              "      <th></th>\n",
              "      <th></th>\n",
              "      <th></th>\n",
              "      <th></th>\n",
              "      <th></th>\n",
              "      <th></th>\n",
              "      <th></th>\n",
              "      <th></th>\n",
              "      <th></th>\n",
              "      <th></th>\n",
              "      <th></th>\n",
              "      <th></th>\n",
              "      <th></th>\n",
              "      <th></th>\n",
              "      <th></th>\n",
              "      <th></th>\n",
              "      <th></th>\n",
              "      <th></th>\n",
              "      <th></th>\n",
              "      <th></th>\n",
              "      <th></th>\n",
              "      <th></th>\n",
              "      <th></th>\n",
              "      <th></th>\n",
              "      <th></th>\n",
              "      <th></th>\n",
              "      <th></th>\n",
              "      <th></th>\n",
              "      <th></th>\n",
              "      <th></th>\n",
              "      <th></th>\n",
              "      <th></th>\n",
              "      <th></th>\n",
              "      <th></th>\n",
              "      <th></th>\n",
              "      <th></th>\n",
              "      <th></th>\n",
              "      <th></th>\n",
              "      <th></th>\n",
              "      <th></th>\n",
              "      <th></th>\n",
              "      <th></th>\n",
              "      <th></th>\n",
              "      <th></th>\n",
              "      <th></th>\n",
              "      <th></th>\n",
              "      <th></th>\n",
              "      <th></th>\n",
              "      <th></th>\n",
              "      <th></th>\n",
              "      <th></th>\n",
              "      <th></th>\n",
              "      <th></th>\n",
              "    </tr>\n",
              "  </thead>\n",
              "  <tbody>\n",
              "    <tr>\n",
              "      <th>8</th>\n",
              "      <td>5</td>\n",
              "      <td>0</td>\n",
              "      <td>0</td>\n",
              "      <td>0</td>\n",
              "      <td>0</td>\n",
              "      <td>0</td>\n",
              "      <td>0</td>\n",
              "      <td>0</td>\n",
              "      <td>0</td>\n",
              "      <td>0</td>\n",
              "      <td>0</td>\n",
              "      <td>0</td>\n",
              "      <td>0</td>\n",
              "      <td>0</td>\n",
              "      <td>0</td>\n",
              "      <td>0</td>\n",
              "      <td>0</td>\n",
              "      <td>0</td>\n",
              "      <td>0</td>\n",
              "      <td>0</td>\n",
              "      <td>0</td>\n",
              "      <td>0</td>\n",
              "      <td>0</td>\n",
              "      <td>0</td>\n",
              "      <td>0</td>\n",
              "      <td>0</td>\n",
              "      <td>0</td>\n",
              "      <td>0</td>\n",
              "      <td>0</td>\n",
              "      <td>0</td>\n",
              "      <td>0</td>\n",
              "      <td>0</td>\n",
              "      <td>0</td>\n",
              "      <td>0</td>\n",
              "      <td>0</td>\n",
              "      <td>0</td>\n",
              "      <td>0</td>\n",
              "      <td>0</td>\n",
              "      <td>0</td>\n",
              "      <td>0</td>\n",
              "      <td>...</td>\n",
              "      <td>0</td>\n",
              "      <td>0</td>\n",
              "      <td>0</td>\n",
              "      <td>0</td>\n",
              "      <td>0</td>\n",
              "      <td>0</td>\n",
              "      <td>0</td>\n",
              "      <td>0</td>\n",
              "      <td>0</td>\n",
              "      <td>0</td>\n",
              "      <td>0</td>\n",
              "      <td>0</td>\n",
              "      <td>0</td>\n",
              "      <td>0</td>\n",
              "      <td>0</td>\n",
              "      <td>0</td>\n",
              "      <td>0</td>\n",
              "      <td>0</td>\n",
              "      <td>0</td>\n",
              "      <td>0</td>\n",
              "      <td>0</td>\n",
              "      <td>0</td>\n",
              "      <td>0</td>\n",
              "      <td>0</td>\n",
              "      <td>0</td>\n",
              "      <td>0</td>\n",
              "      <td>0</td>\n",
              "      <td>0</td>\n",
              "      <td>0</td>\n",
              "      <td>0</td>\n",
              "      <td>0</td>\n",
              "      <td>0</td>\n",
              "      <td>0</td>\n",
              "      <td>0</td>\n",
              "      <td>0</td>\n",
              "      <td>0</td>\n",
              "      <td>0</td>\n",
              "      <td>0</td>\n",
              "      <td>0</td>\n",
              "      <td>0</td>\n",
              "    </tr>\n",
              "    <tr>\n",
              "      <th>17</th>\n",
              "      <td>0</td>\n",
              "      <td>0</td>\n",
              "      <td>0</td>\n",
              "      <td>0</td>\n",
              "      <td>0</td>\n",
              "      <td>0</td>\n",
              "      <td>0</td>\n",
              "      <td>0</td>\n",
              "      <td>0</td>\n",
              "      <td>0</td>\n",
              "      <td>0</td>\n",
              "      <td>0</td>\n",
              "      <td>0</td>\n",
              "      <td>0</td>\n",
              "      <td>0</td>\n",
              "      <td>0</td>\n",
              "      <td>0</td>\n",
              "      <td>0</td>\n",
              "      <td>0</td>\n",
              "      <td>0</td>\n",
              "      <td>0</td>\n",
              "      <td>0</td>\n",
              "      <td>0</td>\n",
              "      <td>0</td>\n",
              "      <td>0</td>\n",
              "      <td>0</td>\n",
              "      <td>0</td>\n",
              "      <td>0</td>\n",
              "      <td>0</td>\n",
              "      <td>0</td>\n",
              "      <td>0</td>\n",
              "      <td>0</td>\n",
              "      <td>0</td>\n",
              "      <td>0</td>\n",
              "      <td>0</td>\n",
              "      <td>0</td>\n",
              "      <td>0</td>\n",
              "      <td>0</td>\n",
              "      <td>0</td>\n",
              "      <td>0</td>\n",
              "      <td>...</td>\n",
              "      <td>0</td>\n",
              "      <td>0</td>\n",
              "      <td>0</td>\n",
              "      <td>0</td>\n",
              "      <td>0</td>\n",
              "      <td>0</td>\n",
              "      <td>0</td>\n",
              "      <td>0</td>\n",
              "      <td>0</td>\n",
              "      <td>0</td>\n",
              "      <td>0</td>\n",
              "      <td>0</td>\n",
              "      <td>0</td>\n",
              "      <td>0</td>\n",
              "      <td>0</td>\n",
              "      <td>0</td>\n",
              "      <td>0</td>\n",
              "      <td>0</td>\n",
              "      <td>0</td>\n",
              "      <td>0</td>\n",
              "      <td>0</td>\n",
              "      <td>0</td>\n",
              "      <td>0</td>\n",
              "      <td>0</td>\n",
              "      <td>0</td>\n",
              "      <td>0</td>\n",
              "      <td>0</td>\n",
              "      <td>0</td>\n",
              "      <td>0</td>\n",
              "      <td>0</td>\n",
              "      <td>0</td>\n",
              "      <td>0</td>\n",
              "      <td>0</td>\n",
              "      <td>0</td>\n",
              "      <td>0</td>\n",
              "      <td>0</td>\n",
              "      <td>0</td>\n",
              "      <td>0</td>\n",
              "      <td>0</td>\n",
              "      <td>0</td>\n",
              "    </tr>\n",
              "    <tr>\n",
              "      <th>53</th>\n",
              "      <td>0</td>\n",
              "      <td>0</td>\n",
              "      <td>0</td>\n",
              "      <td>0</td>\n",
              "      <td>0</td>\n",
              "      <td>0</td>\n",
              "      <td>0</td>\n",
              "      <td>0</td>\n",
              "      <td>0</td>\n",
              "      <td>0</td>\n",
              "      <td>0</td>\n",
              "      <td>0</td>\n",
              "      <td>0</td>\n",
              "      <td>0</td>\n",
              "      <td>0</td>\n",
              "      <td>0</td>\n",
              "      <td>0</td>\n",
              "      <td>0</td>\n",
              "      <td>0</td>\n",
              "      <td>0</td>\n",
              "      <td>0</td>\n",
              "      <td>0</td>\n",
              "      <td>0</td>\n",
              "      <td>0</td>\n",
              "      <td>0</td>\n",
              "      <td>0</td>\n",
              "      <td>0</td>\n",
              "      <td>0</td>\n",
              "      <td>0</td>\n",
              "      <td>0</td>\n",
              "      <td>0</td>\n",
              "      <td>0</td>\n",
              "      <td>0</td>\n",
              "      <td>0</td>\n",
              "      <td>0</td>\n",
              "      <td>0</td>\n",
              "      <td>0</td>\n",
              "      <td>0</td>\n",
              "      <td>0</td>\n",
              "      <td>0</td>\n",
              "      <td>...</td>\n",
              "      <td>0</td>\n",
              "      <td>0</td>\n",
              "      <td>0</td>\n",
              "      <td>0</td>\n",
              "      <td>0</td>\n",
              "      <td>0</td>\n",
              "      <td>0</td>\n",
              "      <td>0</td>\n",
              "      <td>0</td>\n",
              "      <td>0</td>\n",
              "      <td>0</td>\n",
              "      <td>0</td>\n",
              "      <td>0</td>\n",
              "      <td>0</td>\n",
              "      <td>0</td>\n",
              "      <td>0</td>\n",
              "      <td>0</td>\n",
              "      <td>0</td>\n",
              "      <td>0</td>\n",
              "      <td>0</td>\n",
              "      <td>0</td>\n",
              "      <td>0</td>\n",
              "      <td>0</td>\n",
              "      <td>0</td>\n",
              "      <td>0</td>\n",
              "      <td>0</td>\n",
              "      <td>0</td>\n",
              "      <td>0</td>\n",
              "      <td>0</td>\n",
              "      <td>0</td>\n",
              "      <td>0</td>\n",
              "      <td>0</td>\n",
              "      <td>0</td>\n",
              "      <td>0</td>\n",
              "      <td>0</td>\n",
              "      <td>0</td>\n",
              "      <td>0</td>\n",
              "      <td>0</td>\n",
              "      <td>0</td>\n",
              "      <td>0</td>\n",
              "    </tr>\n",
              "    <tr>\n",
              "      <th>92</th>\n",
              "      <td>0</td>\n",
              "      <td>0</td>\n",
              "      <td>0</td>\n",
              "      <td>0</td>\n",
              "      <td>0</td>\n",
              "      <td>0</td>\n",
              "      <td>0</td>\n",
              "      <td>0</td>\n",
              "      <td>0</td>\n",
              "      <td>0</td>\n",
              "      <td>0</td>\n",
              "      <td>0</td>\n",
              "      <td>0</td>\n",
              "      <td>0</td>\n",
              "      <td>0</td>\n",
              "      <td>0</td>\n",
              "      <td>0</td>\n",
              "      <td>0</td>\n",
              "      <td>0</td>\n",
              "      <td>0</td>\n",
              "      <td>0</td>\n",
              "      <td>0</td>\n",
              "      <td>0</td>\n",
              "      <td>0</td>\n",
              "      <td>0</td>\n",
              "      <td>0</td>\n",
              "      <td>0</td>\n",
              "      <td>0</td>\n",
              "      <td>0</td>\n",
              "      <td>0</td>\n",
              "      <td>0</td>\n",
              "      <td>0</td>\n",
              "      <td>0</td>\n",
              "      <td>0</td>\n",
              "      <td>0</td>\n",
              "      <td>0</td>\n",
              "      <td>0</td>\n",
              "      <td>0</td>\n",
              "      <td>0</td>\n",
              "      <td>0</td>\n",
              "      <td>...</td>\n",
              "      <td>0</td>\n",
              "      <td>0</td>\n",
              "      <td>0</td>\n",
              "      <td>0</td>\n",
              "      <td>0</td>\n",
              "      <td>0</td>\n",
              "      <td>0</td>\n",
              "      <td>0</td>\n",
              "      <td>0</td>\n",
              "      <td>0</td>\n",
              "      <td>0</td>\n",
              "      <td>0</td>\n",
              "      <td>0</td>\n",
              "      <td>0</td>\n",
              "      <td>0</td>\n",
              "      <td>0</td>\n",
              "      <td>0</td>\n",
              "      <td>0</td>\n",
              "      <td>0</td>\n",
              "      <td>0</td>\n",
              "      <td>0</td>\n",
              "      <td>0</td>\n",
              "      <td>0</td>\n",
              "      <td>0</td>\n",
              "      <td>0</td>\n",
              "      <td>0</td>\n",
              "      <td>0</td>\n",
              "      <td>0</td>\n",
              "      <td>0</td>\n",
              "      <td>0</td>\n",
              "      <td>0</td>\n",
              "      <td>0</td>\n",
              "      <td>0</td>\n",
              "      <td>0</td>\n",
              "      <td>0</td>\n",
              "      <td>0</td>\n",
              "      <td>0</td>\n",
              "      <td>0</td>\n",
              "      <td>0</td>\n",
              "      <td>0</td>\n",
              "    </tr>\n",
              "    <tr>\n",
              "      <th>99</th>\n",
              "      <td>0</td>\n",
              "      <td>0</td>\n",
              "      <td>0</td>\n",
              "      <td>0</td>\n",
              "      <td>0</td>\n",
              "      <td>0</td>\n",
              "      <td>0</td>\n",
              "      <td>0</td>\n",
              "      <td>0</td>\n",
              "      <td>0</td>\n",
              "      <td>0</td>\n",
              "      <td>0</td>\n",
              "      <td>0</td>\n",
              "      <td>0</td>\n",
              "      <td>0</td>\n",
              "      <td>0</td>\n",
              "      <td>0</td>\n",
              "      <td>0</td>\n",
              "      <td>0</td>\n",
              "      <td>0</td>\n",
              "      <td>0</td>\n",
              "      <td>0</td>\n",
              "      <td>0</td>\n",
              "      <td>0</td>\n",
              "      <td>0</td>\n",
              "      <td>0</td>\n",
              "      <td>0</td>\n",
              "      <td>0</td>\n",
              "      <td>0</td>\n",
              "      <td>0</td>\n",
              "      <td>0</td>\n",
              "      <td>0</td>\n",
              "      <td>0</td>\n",
              "      <td>0</td>\n",
              "      <td>0</td>\n",
              "      <td>0</td>\n",
              "      <td>0</td>\n",
              "      <td>0</td>\n",
              "      <td>0</td>\n",
              "      <td>0</td>\n",
              "      <td>...</td>\n",
              "      <td>0</td>\n",
              "      <td>0</td>\n",
              "      <td>0</td>\n",
              "      <td>0</td>\n",
              "      <td>0</td>\n",
              "      <td>0</td>\n",
              "      <td>0</td>\n",
              "      <td>0</td>\n",
              "      <td>0</td>\n",
              "      <td>0</td>\n",
              "      <td>0</td>\n",
              "      <td>0</td>\n",
              "      <td>0</td>\n",
              "      <td>0</td>\n",
              "      <td>0</td>\n",
              "      <td>0</td>\n",
              "      <td>0</td>\n",
              "      <td>0</td>\n",
              "      <td>0</td>\n",
              "      <td>0</td>\n",
              "      <td>0</td>\n",
              "      <td>0</td>\n",
              "      <td>0</td>\n",
              "      <td>0</td>\n",
              "      <td>0</td>\n",
              "      <td>0</td>\n",
              "      <td>0</td>\n",
              "      <td>0</td>\n",
              "      <td>0</td>\n",
              "      <td>0</td>\n",
              "      <td>0</td>\n",
              "      <td>0</td>\n",
              "      <td>0</td>\n",
              "      <td>0</td>\n",
              "      <td>0</td>\n",
              "      <td>0</td>\n",
              "      <td>0</td>\n",
              "      <td>0</td>\n",
              "      <td>0</td>\n",
              "      <td>0</td>\n",
              "    </tr>\n",
              "  </tbody>\n",
              "</table>\n",
              "<p>5 rows × 13740 columns</p>\n",
              "</div>"
            ],
            "text/plain": [
              "ISBN    0002005018  0002251760  0002259834  ...  9722016563  9812327975  9871138148\n",
              "userID                                      ...                                    \n",
              "8                5           0           0  ...           0           0           0\n",
              "17               0           0           0  ...           0           0           0\n",
              "53               0           0           0  ...           0           0           0\n",
              "92               0           0           0  ...           0           0           0\n",
              "99               0           0           0  ...           0           0           0\n",
              "\n",
              "[5 rows x 13740 columns]"
            ]
          },
          "metadata": {},
          "execution_count": 98
        }
      ]
    },
    {
      "cell_type": "markdown",
      "metadata": {
        "id": "rMGYt-v8Hl1y"
      },
      "source": [
        "* **Ratings_matrix is a sparse matrix. Let's check the % of sparsity.**"
      ]
    },
    {
      "cell_type": "code",
      "metadata": {
        "colab": {
          "base_uri": "https://localhost:8080/"
        },
        "id": "MR5BSnULGjym",
        "outputId": "1e99dca8-0fc4-437a-db76-04d602be36c1"
      },
      "source": [
        "# Calculating sparsity of ratings_matrix\n",
        "\n",
        "sparsity = 1.0-len(ratings_explicit)/float(ratings_explicit.shape[0]*n_books)\n",
        "print ('The sparsity level of Book Crossing dataset is ' +  str(sparsity*100) + ' %')"
      ],
      "execution_count": 99,
      "outputs": [
        {
          "output_type": "stream",
          "name": "stdout",
          "text": [
            "The sparsity level of Book Crossing dataset is 99.99272197962155 %\n"
          ]
        }
      ]
    },
    {
      "cell_type": "code",
      "metadata": {
        "id": "LW-yjaIdH17M"
      },
      "source": [
        "# Merging books and ratings dataset together\n",
        "\n",
        "combine_book_rating = pd.merge(ratings, books, on = 'ISBN')\n",
        "columns = ['Book-Author','Year-Of-Publication', 'Publisher']"
      ],
      "execution_count": 100,
      "outputs": []
    },
    {
      "cell_type": "code",
      "metadata": {
        "colab": {
          "base_uri": "https://localhost:8080/",
          "height": 206
        },
        "id": "Qj4hVhNFI-xT",
        "outputId": "ff474c2e-92c1-491a-9ef8-2313f36e958a"
      },
      "source": [
        "# Renaming columns of combine_book_rating\n",
        "\n",
        "combine_book_rating = combine_book_rating.drop(columns, axis = 1)\n",
        "combine_book_rating.rename(columns={'User-ID':'userID','Book-Title':'bookTitle','Book-Rating':'bookRating'},inplace=True)\n",
        "combine_book_rating.head()"
      ],
      "execution_count": 101,
      "outputs": [
        {
          "output_type": "execute_result",
          "data": {
            "text/html": [
              "<div>\n",
              "<style scoped>\n",
              "    .dataframe tbody tr th:only-of-type {\n",
              "        vertical-align: middle;\n",
              "    }\n",
              "\n",
              "    .dataframe tbody tr th {\n",
              "        vertical-align: top;\n",
              "    }\n",
              "\n",
              "    .dataframe thead th {\n",
              "        text-align: right;\n",
              "    }\n",
              "</style>\n",
              "<table border=\"1\" class=\"dataframe\">\n",
              "  <thead>\n",
              "    <tr style=\"text-align: right;\">\n",
              "      <th></th>\n",
              "      <th>userID</th>\n",
              "      <th>ISBN</th>\n",
              "      <th>bookRating</th>\n",
              "      <th>bookTitle</th>\n",
              "    </tr>\n",
              "  </thead>\n",
              "  <tbody>\n",
              "    <tr>\n",
              "      <th>0</th>\n",
              "      <td>276725</td>\n",
              "      <td>034545104X</td>\n",
              "      <td>0</td>\n",
              "      <td>Flesh Tones: A Novel</td>\n",
              "    </tr>\n",
              "    <tr>\n",
              "      <th>1</th>\n",
              "      <td>2313</td>\n",
              "      <td>034545104X</td>\n",
              "      <td>5</td>\n",
              "      <td>Flesh Tones: A Novel</td>\n",
              "    </tr>\n",
              "    <tr>\n",
              "      <th>2</th>\n",
              "      <td>6543</td>\n",
              "      <td>034545104X</td>\n",
              "      <td>0</td>\n",
              "      <td>Flesh Tones: A Novel</td>\n",
              "    </tr>\n",
              "    <tr>\n",
              "      <th>3</th>\n",
              "      <td>8680</td>\n",
              "      <td>034545104X</td>\n",
              "      <td>5</td>\n",
              "      <td>Flesh Tones: A Novel</td>\n",
              "    </tr>\n",
              "    <tr>\n",
              "      <th>4</th>\n",
              "      <td>10314</td>\n",
              "      <td>034545104X</td>\n",
              "      <td>9</td>\n",
              "      <td>Flesh Tones: A Novel</td>\n",
              "    </tr>\n",
              "  </tbody>\n",
              "</table>\n",
              "</div>"
            ],
            "text/plain": [
              "   userID        ISBN  bookRating             bookTitle\n",
              "0  276725  034545104X           0  Flesh Tones: A Novel\n",
              "1    2313  034545104X           5  Flesh Tones: A Novel\n",
              "2    6543  034545104X           0  Flesh Tones: A Novel\n",
              "3    8680  034545104X           5  Flesh Tones: A Novel\n",
              "4   10314  034545104X           9  Flesh Tones: A Novel"
            ]
          },
          "metadata": {},
          "execution_count": 101
        }
      ]
    },
    {
      "cell_type": "code",
      "metadata": {
        "id": "txme7WLGJLy4"
      },
      "source": [
        "# Dropping NaN values\n",
        "\n",
        "combine_book_rating = combine_book_rating.dropna(axis = 0, subset = ['bookTitle'])"
      ],
      "execution_count": 102,
      "outputs": []
    },
    {
      "cell_type": "code",
      "metadata": {
        "id": "KhPLddFNJWOa"
      },
      "source": [
        "# Calculating counts of ratings\n",
        "\n",
        "book_ratingcount = (combine_book_rating.\n",
        "                    groupby(by = ['bookTitle',])['bookRating'].\n",
        "                    count().\n",
        "                    reset_index().\n",
        "                    rename(columns = {'bookRating':'TotalRatingCount'})\n",
        "                    [['bookTitle','TotalRatingCount']])"
      ],
      "execution_count": 103,
      "outputs": []
    },
    {
      "cell_type": "code",
      "metadata": {
        "colab": {
          "base_uri": "https://localhost:8080/",
          "height": 206
        },
        "id": "PGGB2mY-KXMD",
        "outputId": "0c6dac95-e8ed-4be3-d60a-18ae3e500821"
      },
      "source": [
        "book_ratingcount.head()"
      ],
      "execution_count": 104,
      "outputs": [
        {
          "output_type": "execute_result",
          "data": {
            "text/html": [
              "<div>\n",
              "<style scoped>\n",
              "    .dataframe tbody tr th:only-of-type {\n",
              "        vertical-align: middle;\n",
              "    }\n",
              "\n",
              "    .dataframe tbody tr th {\n",
              "        vertical-align: top;\n",
              "    }\n",
              "\n",
              "    .dataframe thead th {\n",
              "        text-align: right;\n",
              "    }\n",
              "</style>\n",
              "<table border=\"1\" class=\"dataframe\">\n",
              "  <thead>\n",
              "    <tr style=\"text-align: right;\">\n",
              "      <th></th>\n",
              "      <th>bookTitle</th>\n",
              "      <th>TotalRatingCount</th>\n",
              "    </tr>\n",
              "  </thead>\n",
              "  <tbody>\n",
              "    <tr>\n",
              "      <th>0</th>\n",
              "      <td>A Light in the Storm: The Civil War Diary of ...</td>\n",
              "      <td>4</td>\n",
              "    </tr>\n",
              "    <tr>\n",
              "      <th>1</th>\n",
              "      <td>Always Have Popsicles</td>\n",
              "      <td>1</td>\n",
              "    </tr>\n",
              "    <tr>\n",
              "      <th>2</th>\n",
              "      <td>Apple Magic (The Collector's series)</td>\n",
              "      <td>1</td>\n",
              "    </tr>\n",
              "    <tr>\n",
              "      <th>3</th>\n",
              "      <td>Ask Lily (Young Women of Faith: Lily Series, ...</td>\n",
              "      <td>1</td>\n",
              "    </tr>\n",
              "    <tr>\n",
              "      <th>4</th>\n",
              "      <td>Beyond IBM: Leadership Marketing and Finance ...</td>\n",
              "      <td>1</td>\n",
              "    </tr>\n",
              "  </tbody>\n",
              "</table>\n",
              "</div>"
            ],
            "text/plain": [
              "                                           bookTitle  TotalRatingCount\n",
              "0   A Light in the Storm: The Civil War Diary of ...                 4\n",
              "1                              Always Have Popsicles                 1\n",
              "2               Apple Magic (The Collector's series)                 1\n",
              "3   Ask Lily (Young Women of Faith: Lily Series, ...                 1\n",
              "4   Beyond IBM: Leadership Marketing and Finance ...                 1"
            ]
          },
          "metadata": {},
          "execution_count": 104
        }
      ]
    },
    {
      "cell_type": "markdown",
      "metadata": {
        "id": "UWwKhuDNF8h7"
      },
      "source": [
        "**Let's merge the rating data with total rating count data.**"
      ]
    },
    {
      "cell_type": "code",
      "metadata": {
        "id": "R0c0e95GKae-"
      },
      "source": [
        "# Merging rating data with total rating count data\n",
        "\n",
        "rating_with_totalratingcount = combine_book_rating.merge(book_ratingcount, left_on = 'bookTitle', right_on = 'bookTitle', how = 'inner' )"
      ],
      "execution_count": 105,
      "outputs": []
    },
    {
      "cell_type": "code",
      "metadata": {
        "colab": {
          "base_uri": "https://localhost:8080/",
          "height": 206
        },
        "id": "TLp6FuezGP62",
        "outputId": "c677fd1a-fb29-4682-c5ef-067caa5faa88"
      },
      "source": [
        "rating_with_totalratingcount.head()"
      ],
      "execution_count": 106,
      "outputs": [
        {
          "output_type": "execute_result",
          "data": {
            "text/html": [
              "<div>\n",
              "<style scoped>\n",
              "    .dataframe tbody tr th:only-of-type {\n",
              "        vertical-align: middle;\n",
              "    }\n",
              "\n",
              "    .dataframe tbody tr th {\n",
              "        vertical-align: top;\n",
              "    }\n",
              "\n",
              "    .dataframe thead th {\n",
              "        text-align: right;\n",
              "    }\n",
              "</style>\n",
              "<table border=\"1\" class=\"dataframe\">\n",
              "  <thead>\n",
              "    <tr style=\"text-align: right;\">\n",
              "      <th></th>\n",
              "      <th>userID</th>\n",
              "      <th>ISBN</th>\n",
              "      <th>bookRating</th>\n",
              "      <th>bookTitle</th>\n",
              "      <th>TotalRatingCount</th>\n",
              "    </tr>\n",
              "  </thead>\n",
              "  <tbody>\n",
              "    <tr>\n",
              "      <th>0</th>\n",
              "      <td>276725</td>\n",
              "      <td>034545104X</td>\n",
              "      <td>0</td>\n",
              "      <td>Flesh Tones: A Novel</td>\n",
              "      <td>60</td>\n",
              "    </tr>\n",
              "    <tr>\n",
              "      <th>1</th>\n",
              "      <td>2313</td>\n",
              "      <td>034545104X</td>\n",
              "      <td>5</td>\n",
              "      <td>Flesh Tones: A Novel</td>\n",
              "      <td>60</td>\n",
              "    </tr>\n",
              "    <tr>\n",
              "      <th>2</th>\n",
              "      <td>6543</td>\n",
              "      <td>034545104X</td>\n",
              "      <td>0</td>\n",
              "      <td>Flesh Tones: A Novel</td>\n",
              "      <td>60</td>\n",
              "    </tr>\n",
              "    <tr>\n",
              "      <th>3</th>\n",
              "      <td>8680</td>\n",
              "      <td>034545104X</td>\n",
              "      <td>5</td>\n",
              "      <td>Flesh Tones: A Novel</td>\n",
              "      <td>60</td>\n",
              "    </tr>\n",
              "    <tr>\n",
              "      <th>4</th>\n",
              "      <td>10314</td>\n",
              "      <td>034545104X</td>\n",
              "      <td>9</td>\n",
              "      <td>Flesh Tones: A Novel</td>\n",
              "      <td>60</td>\n",
              "    </tr>\n",
              "  </tbody>\n",
              "</table>\n",
              "</div>"
            ],
            "text/plain": [
              "   userID        ISBN  bookRating             bookTitle  TotalRatingCount\n",
              "0  276725  034545104X           0  Flesh Tones: A Novel                60\n",
              "1    2313  034545104X           5  Flesh Tones: A Novel                60\n",
              "2    6543  034545104X           0  Flesh Tones: A Novel                60\n",
              "3    8680  034545104X           5  Flesh Tones: A Novel                60\n",
              "4   10314  034545104X           9  Flesh Tones: A Novel                60"
            ]
          },
          "metadata": {},
          "execution_count": 106
        }
      ]
    },
    {
      "cell_type": "code",
      "metadata": {
        "colab": {
          "base_uri": "https://localhost:8080/"
        },
        "id": "-WRKpiuBHCQO",
        "outputId": "d69edf97-3b22-436f-b4b1-8f8765a0abf1"
      },
      "source": [
        "# Descriptive stats of TotalRatingCount\n",
        "\n",
        "pd.set_option('display.float_format', lambda x: '%.3f' % x)\n",
        "print(book_ratingcount['TotalRatingCount'].describe())"
      ],
      "execution_count": 107,
      "outputs": [
        {
          "output_type": "stream",
          "name": "stdout",
          "text": [
            "count   241071.000\n",
            "mean         4.277\n",
            "std         16.739\n",
            "min          1.000\n",
            "25%          1.000\n",
            "50%          1.000\n",
            "75%          3.000\n",
            "max       2502.000\n",
            "Name: TotalRatingCount, dtype: float64\n"
          ]
        }
      ]
    },
    {
      "cell_type": "markdown",
      "metadata": {
        "id": "T5P5XFlNHbiU"
      },
      "source": [
        "* **The median book has been rated only once.**"
      ]
    },
    {
      "cell_type": "markdown",
      "metadata": {
        "id": "eLMlfPrNHe1j"
      },
      "source": [
        "**Let's look at the top of the distribution:**"
      ]
    },
    {
      "cell_type": "code",
      "metadata": {
        "colab": {
          "base_uri": "https://localhost:8080/"
        },
        "id": "YkCnUBvHHTLt",
        "outputId": "a16a37a1-e50c-4b2f-ddb9-f24ee1776fdb"
      },
      "source": [
        "# Let's look at the top of the distribution\n",
        "\n",
        "print(book_ratingcount['TotalRatingCount'].quantile(np.arange(.9,1,.01)))"
      ],
      "execution_count": 108,
      "outputs": [
        {
          "output_type": "stream",
          "name": "stdout",
          "text": [
            "0.900    7.000\n",
            "0.910    8.000\n",
            "0.920    9.000\n",
            "0.930   10.000\n",
            "0.940   11.000\n",
            "0.950   13.000\n",
            "0.960   16.000\n",
            "0.970   20.000\n",
            "0.980   29.000\n",
            "0.990   50.000\n",
            "Name: TotalRatingCount, dtype: float64\n"
          ]
        }
      ]
    },
    {
      "cell_type": "markdown",
      "metadata": {
        "id": "oxxGx5qTH2OB"
      },
      "source": [
        "* **About 1% of the books received 50 or more ratings.**\n",
        "* **We have so many books in our data, so we will limit it to the top 1%.**"
      ]
    },
    {
      "cell_type": "code",
      "metadata": {
        "id": "QSsKblciHyYk"
      },
      "source": [
        "# Setting popularity threshold at 50\n",
        "\n",
        "popularity_threshold = 50\n",
        "rating_popular_book = rating_with_totalratingcount.query('TotalRatingCount >= @popularity_threshold')"
      ],
      "execution_count": 109,
      "outputs": []
    },
    {
      "cell_type": "code",
      "metadata": {
        "colab": {
          "base_uri": "https://localhost:8080/",
          "height": 206
        },
        "id": "S2QillyTIGjc",
        "outputId": "b6342c77-d375-40f9-c842-2d2d1b36505c"
      },
      "source": [
        "rating_popular_book.head()"
      ],
      "execution_count": 110,
      "outputs": [
        {
          "output_type": "execute_result",
          "data": {
            "text/html": [
              "<div>\n",
              "<style scoped>\n",
              "    .dataframe tbody tr th:only-of-type {\n",
              "        vertical-align: middle;\n",
              "    }\n",
              "\n",
              "    .dataframe tbody tr th {\n",
              "        vertical-align: top;\n",
              "    }\n",
              "\n",
              "    .dataframe thead th {\n",
              "        text-align: right;\n",
              "    }\n",
              "</style>\n",
              "<table border=\"1\" class=\"dataframe\">\n",
              "  <thead>\n",
              "    <tr style=\"text-align: right;\">\n",
              "      <th></th>\n",
              "      <th>userID</th>\n",
              "      <th>ISBN</th>\n",
              "      <th>bookRating</th>\n",
              "      <th>bookTitle</th>\n",
              "      <th>TotalRatingCount</th>\n",
              "    </tr>\n",
              "  </thead>\n",
              "  <tbody>\n",
              "    <tr>\n",
              "      <th>0</th>\n",
              "      <td>276725</td>\n",
              "      <td>034545104X</td>\n",
              "      <td>0</td>\n",
              "      <td>Flesh Tones: A Novel</td>\n",
              "      <td>60</td>\n",
              "    </tr>\n",
              "    <tr>\n",
              "      <th>1</th>\n",
              "      <td>2313</td>\n",
              "      <td>034545104X</td>\n",
              "      <td>5</td>\n",
              "      <td>Flesh Tones: A Novel</td>\n",
              "      <td>60</td>\n",
              "    </tr>\n",
              "    <tr>\n",
              "      <th>2</th>\n",
              "      <td>6543</td>\n",
              "      <td>034545104X</td>\n",
              "      <td>0</td>\n",
              "      <td>Flesh Tones: A Novel</td>\n",
              "      <td>60</td>\n",
              "    </tr>\n",
              "    <tr>\n",
              "      <th>3</th>\n",
              "      <td>8680</td>\n",
              "      <td>034545104X</td>\n",
              "      <td>5</td>\n",
              "      <td>Flesh Tones: A Novel</td>\n",
              "      <td>60</td>\n",
              "    </tr>\n",
              "    <tr>\n",
              "      <th>4</th>\n",
              "      <td>10314</td>\n",
              "      <td>034545104X</td>\n",
              "      <td>9</td>\n",
              "      <td>Flesh Tones: A Novel</td>\n",
              "      <td>60</td>\n",
              "    </tr>\n",
              "  </tbody>\n",
              "</table>\n",
              "</div>"
            ],
            "text/plain": [
              "   userID        ISBN  bookRating             bookTitle  TotalRatingCount\n",
              "0  276725  034545104X           0  Flesh Tones: A Novel                60\n",
              "1    2313  034545104X           5  Flesh Tones: A Novel                60\n",
              "2    6543  034545104X           0  Flesh Tones: A Novel                60\n",
              "3    8680  034545104X           5  Flesh Tones: A Novel                60\n",
              "4   10314  034545104X           9  Flesh Tones: A Novel                60"
            ]
          },
          "metadata": {},
          "execution_count": 110
        }
      ]
    },
    {
      "cell_type": "code",
      "metadata": {
        "colab": {
          "base_uri": "https://localhost:8080/"
        },
        "id": "hfp9BwJaIKJ1",
        "outputId": "8204b422-a5f1-4e4b-ed41-1b1948739a9c"
      },
      "source": [
        "# Dropping duplicate values\n",
        "\n",
        "if not rating_popular_book[rating_popular_book.duplicated(['userID', 'bookTitle'])].empty:\n",
        "    initial_rows = rating_popular_book.shape[0]\n",
        "\n",
        "    print('Initial dataframe shape {0}'.format(rating_popular_book.shape))\n",
        "    rating_popular_book = rating_popular_book.drop_duplicates(['userID', 'bookTitle'])\n",
        "    current_rows = rating_popular_book.shape[0]\n",
        "    print('New dataframe shape {0}'.format(rating_popular_book.shape))\n",
        "    print('Removed {0} rows'.format(initial_rows - current_rows))"
      ],
      "execution_count": 111,
      "outputs": [
        {
          "output_type": "stream",
          "name": "stdout",
          "text": [
            "Initial dataframe shape (288740, 5)\n",
            "New dataframe shape (285518, 5)\n",
            "Removed 3222 rows\n"
          ]
        }
      ]
    },
    {
      "cell_type": "code",
      "metadata": {
        "id": "1AXt3hrHIdkw"
      },
      "source": [
        "# Creating rating matrix of US and Canada users\n",
        "\n",
        "us_canada_user_rating_pivot = rating_popular_book.pivot(index = 'bookTitle',columns = 'userID', values = 'bookRating').fillna(0)\n",
        "us_canada_user_rating_matrix = csr_matrix(us_canada_user_rating_pivot.values)"
      ],
      "execution_count": 112,
      "outputs": []
    },
    {
      "cell_type": "markdown",
      "metadata": {
        "id": "GhxeM3HEI2Jo"
      },
      "source": [
        "### **Now let's find the nearest neighbors**"
      ]
    },
    {
      "cell_type": "code",
      "metadata": {
        "colab": {
          "base_uri": "https://localhost:8080/"
        },
        "id": "QmDHD73pIsvn",
        "outputId": "54064a24-2a73-4d37-f350-1174dbe2f7da"
      },
      "source": [
        "# Fitting kNN model to find nearest neighbors\n",
        "\n",
        "from sklearn.neighbors import NearestNeighbors\n",
        "\n",
        "model_knn = NearestNeighbors(metric = 'cosine', algorithm = 'brute')\n",
        "model_knn.fit(us_canada_user_rating_matrix)"
      ],
      "execution_count": 113,
      "outputs": [
        {
          "output_type": "execute_result",
          "data": {
            "text/plain": [
              "NearestNeighbors(algorithm='brute', leaf_size=30, metric='cosine',\n",
              "                 metric_params=None, n_jobs=None, n_neighbors=5, p=2,\n",
              "                 radius=1.0)"
            ]
          },
          "metadata": {},
          "execution_count": 113
        }
      ]
    },
    {
      "cell_type": "markdown",
      "metadata": {
        "id": "ymq_I-IVJR54"
      },
      "source": [
        "### **Let's test our model and make few recommendations**"
      ]
    },
    {
      "cell_type": "code",
      "metadata": {
        "colab": {
          "base_uri": "https://localhost:8080/"
        },
        "id": "C2RI6z0VJNFx",
        "outputId": "265809ea-85fe-497c-f4c4-8e0da048893c"
      },
      "source": [
        "# Making some recommendations considering 6 nearest neighbors\n",
        "\n",
        "query_index = np.random.choice(us_canada_user_rating_pivot.shape[0])\n",
        "distances, indices = model_knn.kneighbors(us_canada_user_rating_pivot.iloc[query_index, :].values.reshape((1, -1)), n_neighbors = 6)\n",
        "\n",
        "for i in range(0, len(distances.flatten())):\n",
        "    if i == 0:\n",
        "        print('Recommendations for {0}:\\n'.format(us_canada_user_rating_pivot.index[query_index]))\n",
        "    else:\n",
        "        print('{0}: {1}, with distance of {2}:'.format(i, us_canada_user_rating_pivot.index[indices.flatten()[i]], distances.flatten()[i]))"
      ],
      "execution_count": 114,
      "outputs": [
        {
          "output_type": "stream",
          "name": "stdout",
          "text": [
            "Recommendations for Hush:\n",
            "\n",
            "1: The Return, with distance of 0.827019716756294:\n",
            "2: Key of Knowledge (Key Trilogy (Paperback)), with distance of 0.8295905509895086:\n",
            "3: No Second  Chance, with distance of 0.8559143171862039:\n",
            "4: The Penwyth Curse, with distance of 0.8690821953734849:\n",
            "5: Cloud Nine, with distance of 0.8769991806457155:\n"
          ]
        }
      ]
    },
    {
      "cell_type": "code",
      "metadata": {
        "id": "9-I4d071Jl0u"
      },
      "source": [
        "# Filling Nan values with 0\n",
        "\n",
        "us_canada_user_rating_pivot2 = rating_popular_book.pivot(index = 'userID', columns = 'bookTitle', values = 'bookRating').fillna(0)"
      ],
      "execution_count": 115,
      "outputs": []
    },
    {
      "cell_type": "code",
      "metadata": {
        "colab": {
          "base_uri": "https://localhost:8080/",
          "height": 460
        },
        "id": "BySfxUmCKbGS",
        "outputId": "3b3c2b63-58e1-426c-f30b-c8462189a885"
      },
      "source": [
        "us_canada_user_rating_pivot2.head()"
      ],
      "execution_count": 116,
      "outputs": [
        {
          "output_type": "execute_result",
          "data": {
            "text/html": [
              "<div>\n",
              "<style scoped>\n",
              "    .dataframe tbody tr th:only-of-type {\n",
              "        vertical-align: middle;\n",
              "    }\n",
              "\n",
              "    .dataframe tbody tr th {\n",
              "        vertical-align: top;\n",
              "    }\n",
              "\n",
              "    .dataframe thead th {\n",
              "        text-align: right;\n",
              "    }\n",
              "</style>\n",
              "<table border=\"1\" class=\"dataframe\">\n",
              "  <thead>\n",
              "    <tr style=\"text-align: right;\">\n",
              "      <th>bookTitle</th>\n",
              "      <th>10 Lb. Penalty</th>\n",
              "      <th>16 Lighthouse Road</th>\n",
              "      <th>1984</th>\n",
              "      <th>1st to Die: A Novel</th>\n",
              "      <th>2010: Odyssey Two</th>\n",
              "      <th>204 Rosewood Lane</th>\n",
              "      <th>2061: Odyssey Three</th>\n",
              "      <th>24 Hours</th>\n",
              "      <th>2nd Chance</th>\n",
              "      <th>3rd Degree</th>\n",
              "      <th>4 Blondes</th>\n",
              "      <th>50 Simple Things You Can Do to Save the Earth</th>\n",
              "      <th>84 Charing Cross Road</th>\n",
              "      <th>A 2nd Helping of Chicken Soup for the Soul (Chicken Soup for the Soul Series (Paper))</th>\n",
              "      <th>A Beautiful Mind: The Life of Mathematical Genius and Nobel Laureate John Nash</th>\n",
              "      <th>A Bend in the Road</th>\n",
              "      <th>A Case of Need</th>\n",
              "      <th>A Child Called \\It\\\": One Child's Courage to Survive\"</th>\n",
              "      <th>A Civil Action</th>\n",
              "      <th>A Clockwork Orange (Norton Paperback Fiction)</th>\n",
              "      <th>A Cold Heart (Alex Delaware Novels (Paperback))</th>\n",
              "      <th>A Cold Heart: An Alex Delaware Novel</th>\n",
              "      <th>A Confederacy of Dunces</th>\n",
              "      <th>A Confederacy of Dunces (Evergreen Book)</th>\n",
              "      <th>A Cry In The Night</th>\n",
              "      <th>A Cup of Tea (Ballantine Reader's Circle)</th>\n",
              "      <th>A Dangerous Fortune</th>\n",
              "      <th>A Darkness More Than Night</th>\n",
              "      <th>A Day Late and a Dollar Short</th>\n",
              "      <th>A Density of Souls</th>\n",
              "      <th>A Fine Balance</th>\n",
              "      <th>A Game of Thrones (A Song of Ice and Fire, Book 1)</th>\n",
              "      <th>A Girl Named Zippy: Growing Up Small in Mooreland Indiana (Today Show Book Club #3)</th>\n",
              "      <th>A Great Deliverance</th>\n",
              "      <th>A Heartbreaking Work Of Staggering Genius : A Memoir Based on a True Story</th>\n",
              "      <th>A Heartbreaking Work of Staggering Genius</th>\n",
              "      <th>A Is for Alibi (Kinsey Millhone Mysteries (Paperback))</th>\n",
              "      <th>A Kiss of Shadows (Meredith Gentry Novels (Paperback))</th>\n",
              "      <th>A Knight in Shining Armor</th>\n",
              "      <th>A Lesson Before Dying (Vintage Contemporaries (Paperback))</th>\n",
              "      <th>...</th>\n",
              "      <th>Wild Justice</th>\n",
              "      <th>Wild Mountain Thyme</th>\n",
              "      <th>Wild Swans: Three Daughters of China</th>\n",
              "      <th>Windmills of the Gods</th>\n",
              "      <th>Windy City Blues (V.I. Warshawski Novels (Paperback))</th>\n",
              "      <th>Wings</th>\n",
              "      <th>Winter Moon</th>\n",
              "      <th>Winter Prey</th>\n",
              "      <th>Winter Solstice</th>\n",
              "      <th>Winter's Heart (The Wheel of Time, Book 9)</th>\n",
              "      <th>Winter's Tale</th>\n",
              "      <th>Wish You Well</th>\n",
              "      <th>Without Remorse</th>\n",
              "      <th>Witness in Death (Eve Dallas Mysteries (Paperback))</th>\n",
              "      <th>Wizard and Glass (The Dark Tower, Book 4)</th>\n",
              "      <th>Wizard's First Rule (Sword of Truth, Book 1)</th>\n",
              "      <th>Wobegon Boy</th>\n",
              "      <th>Woman on the Edge of Time</th>\n",
              "      <th>Women Who Run with the Wolves</th>\n",
              "      <th>Women in His Life</th>\n",
              "      <th>Women of the Silk : A Novel</th>\n",
              "      <th>Word Freak: Heartbreak, Triumph, Genius, and Obsession in the World of Competitive Scrabble Players</th>\n",
              "      <th>World of Pies : A Novel</th>\n",
              "      <th>Wouldn't Take Nothing for My Journey Now</th>\n",
              "      <th>Writ of Execution</th>\n",
              "      <th>Writing Down the Bones</th>\n",
              "      <th>Wuthering Heights</th>\n",
              "      <th>Wuthering Heights (Penguin Classics)</th>\n",
              "      <th>Wuthering Heights (Wordsworth Classics)</th>\n",
              "      <th>Xenocide (Ender Wiggins Saga (Paperback))</th>\n",
              "      <th>YOU BELONG TO ME</th>\n",
              "      <th>Year of Wonders</th>\n",
              "      <th>You Belong To Me</th>\n",
              "      <th>You Shall Know Our Velocity</th>\n",
              "      <th>Young Wives</th>\n",
              "      <th>Zen and the Art of Motorcycle Maintenance: An Inquiry into Values</th>\n",
              "      <th>Zoya</th>\n",
              "      <th>\\O\\\" Is for Outlaw\"</th>\n",
              "      <th>\\Surely You're Joking, Mr. Feynman!\\\": Adventures of a Curious Character\"</th>\n",
              "      <th>stardust</th>\n",
              "    </tr>\n",
              "    <tr>\n",
              "      <th>userID</th>\n",
              "      <th></th>\n",
              "      <th></th>\n",
              "      <th></th>\n",
              "      <th></th>\n",
              "      <th></th>\n",
              "      <th></th>\n",
              "      <th></th>\n",
              "      <th></th>\n",
              "      <th></th>\n",
              "      <th></th>\n",
              "      <th></th>\n",
              "      <th></th>\n",
              "      <th></th>\n",
              "      <th></th>\n",
              "      <th></th>\n",
              "      <th></th>\n",
              "      <th></th>\n",
              "      <th></th>\n",
              "      <th></th>\n",
              "      <th></th>\n",
              "      <th></th>\n",
              "      <th></th>\n",
              "      <th></th>\n",
              "      <th></th>\n",
              "      <th></th>\n",
              "      <th></th>\n",
              "      <th></th>\n",
              "      <th></th>\n",
              "      <th></th>\n",
              "      <th></th>\n",
              "      <th></th>\n",
              "      <th></th>\n",
              "      <th></th>\n",
              "      <th></th>\n",
              "      <th></th>\n",
              "      <th></th>\n",
              "      <th></th>\n",
              "      <th></th>\n",
              "      <th></th>\n",
              "      <th></th>\n",
              "      <th></th>\n",
              "      <th></th>\n",
              "      <th></th>\n",
              "      <th></th>\n",
              "      <th></th>\n",
              "      <th></th>\n",
              "      <th></th>\n",
              "      <th></th>\n",
              "      <th></th>\n",
              "      <th></th>\n",
              "      <th></th>\n",
              "      <th></th>\n",
              "      <th></th>\n",
              "      <th></th>\n",
              "      <th></th>\n",
              "      <th></th>\n",
              "      <th></th>\n",
              "      <th></th>\n",
              "      <th></th>\n",
              "      <th></th>\n",
              "      <th></th>\n",
              "      <th></th>\n",
              "      <th></th>\n",
              "      <th></th>\n",
              "      <th></th>\n",
              "      <th></th>\n",
              "      <th></th>\n",
              "      <th></th>\n",
              "      <th></th>\n",
              "      <th></th>\n",
              "      <th></th>\n",
              "      <th></th>\n",
              "      <th></th>\n",
              "      <th></th>\n",
              "      <th></th>\n",
              "      <th></th>\n",
              "      <th></th>\n",
              "      <th></th>\n",
              "      <th></th>\n",
              "      <th></th>\n",
              "      <th></th>\n",
              "    </tr>\n",
              "  </thead>\n",
              "  <tbody>\n",
              "    <tr>\n",
              "      <th>8</th>\n",
              "      <td>0.000</td>\n",
              "      <td>0.000</td>\n",
              "      <td>0.000</td>\n",
              "      <td>0.000</td>\n",
              "      <td>0.000</td>\n",
              "      <td>0.000</td>\n",
              "      <td>0.000</td>\n",
              "      <td>0.000</td>\n",
              "      <td>0.000</td>\n",
              "      <td>0.000</td>\n",
              "      <td>0.000</td>\n",
              "      <td>0.000</td>\n",
              "      <td>0.000</td>\n",
              "      <td>0.000</td>\n",
              "      <td>0.000</td>\n",
              "      <td>0.000</td>\n",
              "      <td>0.000</td>\n",
              "      <td>0.000</td>\n",
              "      <td>0.000</td>\n",
              "      <td>0.000</td>\n",
              "      <td>0.000</td>\n",
              "      <td>0.000</td>\n",
              "      <td>0.000</td>\n",
              "      <td>0.000</td>\n",
              "      <td>0.000</td>\n",
              "      <td>0.000</td>\n",
              "      <td>0.000</td>\n",
              "      <td>0.000</td>\n",
              "      <td>0.000</td>\n",
              "      <td>0.000</td>\n",
              "      <td>0.000</td>\n",
              "      <td>0.000</td>\n",
              "      <td>0.000</td>\n",
              "      <td>0.000</td>\n",
              "      <td>0.000</td>\n",
              "      <td>0.000</td>\n",
              "      <td>0.000</td>\n",
              "      <td>0.000</td>\n",
              "      <td>0.000</td>\n",
              "      <td>0.000</td>\n",
              "      <td>...</td>\n",
              "      <td>0.000</td>\n",
              "      <td>0.000</td>\n",
              "      <td>0.000</td>\n",
              "      <td>0.000</td>\n",
              "      <td>0.000</td>\n",
              "      <td>0.000</td>\n",
              "      <td>0.000</td>\n",
              "      <td>0.000</td>\n",
              "      <td>0.000</td>\n",
              "      <td>0.000</td>\n",
              "      <td>0.000</td>\n",
              "      <td>0.000</td>\n",
              "      <td>0.000</td>\n",
              "      <td>0.000</td>\n",
              "      <td>0.000</td>\n",
              "      <td>0.000</td>\n",
              "      <td>0.000</td>\n",
              "      <td>0.000</td>\n",
              "      <td>0.000</td>\n",
              "      <td>0.000</td>\n",
              "      <td>0.000</td>\n",
              "      <td>0.000</td>\n",
              "      <td>0.000</td>\n",
              "      <td>0.000</td>\n",
              "      <td>0.000</td>\n",
              "      <td>0.000</td>\n",
              "      <td>0.000</td>\n",
              "      <td>0.000</td>\n",
              "      <td>0.000</td>\n",
              "      <td>0.000</td>\n",
              "      <td>0.000</td>\n",
              "      <td>0.000</td>\n",
              "      <td>0.000</td>\n",
              "      <td>0.000</td>\n",
              "      <td>0.000</td>\n",
              "      <td>0.000</td>\n",
              "      <td>0.000</td>\n",
              "      <td>0.000</td>\n",
              "      <td>0.000</td>\n",
              "      <td>0.000</td>\n",
              "    </tr>\n",
              "    <tr>\n",
              "      <th>9</th>\n",
              "      <td>0.000</td>\n",
              "      <td>0.000</td>\n",
              "      <td>0.000</td>\n",
              "      <td>0.000</td>\n",
              "      <td>0.000</td>\n",
              "      <td>0.000</td>\n",
              "      <td>0.000</td>\n",
              "      <td>0.000</td>\n",
              "      <td>0.000</td>\n",
              "      <td>0.000</td>\n",
              "      <td>0.000</td>\n",
              "      <td>0.000</td>\n",
              "      <td>0.000</td>\n",
              "      <td>0.000</td>\n",
              "      <td>0.000</td>\n",
              "      <td>0.000</td>\n",
              "      <td>0.000</td>\n",
              "      <td>0.000</td>\n",
              "      <td>0.000</td>\n",
              "      <td>0.000</td>\n",
              "      <td>0.000</td>\n",
              "      <td>0.000</td>\n",
              "      <td>0.000</td>\n",
              "      <td>0.000</td>\n",
              "      <td>0.000</td>\n",
              "      <td>0.000</td>\n",
              "      <td>0.000</td>\n",
              "      <td>0.000</td>\n",
              "      <td>0.000</td>\n",
              "      <td>0.000</td>\n",
              "      <td>0.000</td>\n",
              "      <td>0.000</td>\n",
              "      <td>0.000</td>\n",
              "      <td>0.000</td>\n",
              "      <td>0.000</td>\n",
              "      <td>0.000</td>\n",
              "      <td>0.000</td>\n",
              "      <td>0.000</td>\n",
              "      <td>0.000</td>\n",
              "      <td>0.000</td>\n",
              "      <td>...</td>\n",
              "      <td>0.000</td>\n",
              "      <td>0.000</td>\n",
              "      <td>0.000</td>\n",
              "      <td>0.000</td>\n",
              "      <td>0.000</td>\n",
              "      <td>0.000</td>\n",
              "      <td>0.000</td>\n",
              "      <td>0.000</td>\n",
              "      <td>0.000</td>\n",
              "      <td>0.000</td>\n",
              "      <td>0.000</td>\n",
              "      <td>0.000</td>\n",
              "      <td>0.000</td>\n",
              "      <td>0.000</td>\n",
              "      <td>0.000</td>\n",
              "      <td>0.000</td>\n",
              "      <td>0.000</td>\n",
              "      <td>0.000</td>\n",
              "      <td>0.000</td>\n",
              "      <td>0.000</td>\n",
              "      <td>0.000</td>\n",
              "      <td>0.000</td>\n",
              "      <td>0.000</td>\n",
              "      <td>0.000</td>\n",
              "      <td>0.000</td>\n",
              "      <td>0.000</td>\n",
              "      <td>0.000</td>\n",
              "      <td>0.000</td>\n",
              "      <td>0.000</td>\n",
              "      <td>0.000</td>\n",
              "      <td>0.000</td>\n",
              "      <td>0.000</td>\n",
              "      <td>0.000</td>\n",
              "      <td>0.000</td>\n",
              "      <td>0.000</td>\n",
              "      <td>0.000</td>\n",
              "      <td>0.000</td>\n",
              "      <td>0.000</td>\n",
              "      <td>0.000</td>\n",
              "      <td>0.000</td>\n",
              "    </tr>\n",
              "    <tr>\n",
              "      <th>14</th>\n",
              "      <td>0.000</td>\n",
              "      <td>0.000</td>\n",
              "      <td>0.000</td>\n",
              "      <td>0.000</td>\n",
              "      <td>0.000</td>\n",
              "      <td>0.000</td>\n",
              "      <td>0.000</td>\n",
              "      <td>0.000</td>\n",
              "      <td>0.000</td>\n",
              "      <td>0.000</td>\n",
              "      <td>0.000</td>\n",
              "      <td>0.000</td>\n",
              "      <td>0.000</td>\n",
              "      <td>0.000</td>\n",
              "      <td>0.000</td>\n",
              "      <td>0.000</td>\n",
              "      <td>0.000</td>\n",
              "      <td>0.000</td>\n",
              "      <td>0.000</td>\n",
              "      <td>0.000</td>\n",
              "      <td>0.000</td>\n",
              "      <td>0.000</td>\n",
              "      <td>0.000</td>\n",
              "      <td>0.000</td>\n",
              "      <td>0.000</td>\n",
              "      <td>0.000</td>\n",
              "      <td>0.000</td>\n",
              "      <td>0.000</td>\n",
              "      <td>0.000</td>\n",
              "      <td>0.000</td>\n",
              "      <td>0.000</td>\n",
              "      <td>0.000</td>\n",
              "      <td>0.000</td>\n",
              "      <td>0.000</td>\n",
              "      <td>0.000</td>\n",
              "      <td>0.000</td>\n",
              "      <td>0.000</td>\n",
              "      <td>0.000</td>\n",
              "      <td>0.000</td>\n",
              "      <td>0.000</td>\n",
              "      <td>...</td>\n",
              "      <td>0.000</td>\n",
              "      <td>0.000</td>\n",
              "      <td>0.000</td>\n",
              "      <td>0.000</td>\n",
              "      <td>0.000</td>\n",
              "      <td>0.000</td>\n",
              "      <td>0.000</td>\n",
              "      <td>0.000</td>\n",
              "      <td>0.000</td>\n",
              "      <td>0.000</td>\n",
              "      <td>0.000</td>\n",
              "      <td>0.000</td>\n",
              "      <td>0.000</td>\n",
              "      <td>0.000</td>\n",
              "      <td>0.000</td>\n",
              "      <td>0.000</td>\n",
              "      <td>0.000</td>\n",
              "      <td>0.000</td>\n",
              "      <td>0.000</td>\n",
              "      <td>0.000</td>\n",
              "      <td>0.000</td>\n",
              "      <td>0.000</td>\n",
              "      <td>0.000</td>\n",
              "      <td>0.000</td>\n",
              "      <td>0.000</td>\n",
              "      <td>0.000</td>\n",
              "      <td>0.000</td>\n",
              "      <td>0.000</td>\n",
              "      <td>0.000</td>\n",
              "      <td>0.000</td>\n",
              "      <td>0.000</td>\n",
              "      <td>0.000</td>\n",
              "      <td>0.000</td>\n",
              "      <td>0.000</td>\n",
              "      <td>0.000</td>\n",
              "      <td>0.000</td>\n",
              "      <td>0.000</td>\n",
              "      <td>0.000</td>\n",
              "      <td>0.000</td>\n",
              "      <td>0.000</td>\n",
              "    </tr>\n",
              "    <tr>\n",
              "      <th>16</th>\n",
              "      <td>0.000</td>\n",
              "      <td>0.000</td>\n",
              "      <td>0.000</td>\n",
              "      <td>0.000</td>\n",
              "      <td>0.000</td>\n",
              "      <td>0.000</td>\n",
              "      <td>0.000</td>\n",
              "      <td>0.000</td>\n",
              "      <td>0.000</td>\n",
              "      <td>0.000</td>\n",
              "      <td>0.000</td>\n",
              "      <td>0.000</td>\n",
              "      <td>0.000</td>\n",
              "      <td>0.000</td>\n",
              "      <td>0.000</td>\n",
              "      <td>0.000</td>\n",
              "      <td>0.000</td>\n",
              "      <td>0.000</td>\n",
              "      <td>0.000</td>\n",
              "      <td>0.000</td>\n",
              "      <td>0.000</td>\n",
              "      <td>0.000</td>\n",
              "      <td>0.000</td>\n",
              "      <td>0.000</td>\n",
              "      <td>0.000</td>\n",
              "      <td>0.000</td>\n",
              "      <td>0.000</td>\n",
              "      <td>0.000</td>\n",
              "      <td>0.000</td>\n",
              "      <td>0.000</td>\n",
              "      <td>0.000</td>\n",
              "      <td>0.000</td>\n",
              "      <td>0.000</td>\n",
              "      <td>0.000</td>\n",
              "      <td>0.000</td>\n",
              "      <td>0.000</td>\n",
              "      <td>0.000</td>\n",
              "      <td>0.000</td>\n",
              "      <td>0.000</td>\n",
              "      <td>0.000</td>\n",
              "      <td>...</td>\n",
              "      <td>0.000</td>\n",
              "      <td>0.000</td>\n",
              "      <td>0.000</td>\n",
              "      <td>0.000</td>\n",
              "      <td>0.000</td>\n",
              "      <td>0.000</td>\n",
              "      <td>0.000</td>\n",
              "      <td>0.000</td>\n",
              "      <td>0.000</td>\n",
              "      <td>0.000</td>\n",
              "      <td>0.000</td>\n",
              "      <td>0.000</td>\n",
              "      <td>0.000</td>\n",
              "      <td>0.000</td>\n",
              "      <td>0.000</td>\n",
              "      <td>0.000</td>\n",
              "      <td>0.000</td>\n",
              "      <td>0.000</td>\n",
              "      <td>0.000</td>\n",
              "      <td>0.000</td>\n",
              "      <td>0.000</td>\n",
              "      <td>0.000</td>\n",
              "      <td>0.000</td>\n",
              "      <td>0.000</td>\n",
              "      <td>0.000</td>\n",
              "      <td>0.000</td>\n",
              "      <td>0.000</td>\n",
              "      <td>0.000</td>\n",
              "      <td>0.000</td>\n",
              "      <td>0.000</td>\n",
              "      <td>0.000</td>\n",
              "      <td>0.000</td>\n",
              "      <td>0.000</td>\n",
              "      <td>0.000</td>\n",
              "      <td>0.000</td>\n",
              "      <td>0.000</td>\n",
              "      <td>0.000</td>\n",
              "      <td>0.000</td>\n",
              "      <td>0.000</td>\n",
              "      <td>0.000</td>\n",
              "    </tr>\n",
              "    <tr>\n",
              "      <th>17</th>\n",
              "      <td>0.000</td>\n",
              "      <td>0.000</td>\n",
              "      <td>0.000</td>\n",
              "      <td>0.000</td>\n",
              "      <td>0.000</td>\n",
              "      <td>0.000</td>\n",
              "      <td>0.000</td>\n",
              "      <td>0.000</td>\n",
              "      <td>0.000</td>\n",
              "      <td>0.000</td>\n",
              "      <td>0.000</td>\n",
              "      <td>0.000</td>\n",
              "      <td>0.000</td>\n",
              "      <td>0.000</td>\n",
              "      <td>0.000</td>\n",
              "      <td>0.000</td>\n",
              "      <td>0.000</td>\n",
              "      <td>0.000</td>\n",
              "      <td>0.000</td>\n",
              "      <td>0.000</td>\n",
              "      <td>0.000</td>\n",
              "      <td>0.000</td>\n",
              "      <td>0.000</td>\n",
              "      <td>0.000</td>\n",
              "      <td>0.000</td>\n",
              "      <td>0.000</td>\n",
              "      <td>0.000</td>\n",
              "      <td>0.000</td>\n",
              "      <td>0.000</td>\n",
              "      <td>0.000</td>\n",
              "      <td>0.000</td>\n",
              "      <td>0.000</td>\n",
              "      <td>0.000</td>\n",
              "      <td>0.000</td>\n",
              "      <td>0.000</td>\n",
              "      <td>0.000</td>\n",
              "      <td>0.000</td>\n",
              "      <td>0.000</td>\n",
              "      <td>0.000</td>\n",
              "      <td>0.000</td>\n",
              "      <td>...</td>\n",
              "      <td>0.000</td>\n",
              "      <td>0.000</td>\n",
              "      <td>0.000</td>\n",
              "      <td>0.000</td>\n",
              "      <td>0.000</td>\n",
              "      <td>0.000</td>\n",
              "      <td>0.000</td>\n",
              "      <td>0.000</td>\n",
              "      <td>0.000</td>\n",
              "      <td>0.000</td>\n",
              "      <td>0.000</td>\n",
              "      <td>0.000</td>\n",
              "      <td>0.000</td>\n",
              "      <td>0.000</td>\n",
              "      <td>0.000</td>\n",
              "      <td>0.000</td>\n",
              "      <td>0.000</td>\n",
              "      <td>0.000</td>\n",
              "      <td>0.000</td>\n",
              "      <td>0.000</td>\n",
              "      <td>0.000</td>\n",
              "      <td>0.000</td>\n",
              "      <td>0.000</td>\n",
              "      <td>0.000</td>\n",
              "      <td>0.000</td>\n",
              "      <td>0.000</td>\n",
              "      <td>0.000</td>\n",
              "      <td>0.000</td>\n",
              "      <td>0.000</td>\n",
              "      <td>0.000</td>\n",
              "      <td>0.000</td>\n",
              "      <td>0.000</td>\n",
              "      <td>0.000</td>\n",
              "      <td>0.000</td>\n",
              "      <td>0.000</td>\n",
              "      <td>0.000</td>\n",
              "      <td>0.000</td>\n",
              "      <td>0.000</td>\n",
              "      <td>0.000</td>\n",
              "      <td>0.000</td>\n",
              "    </tr>\n",
              "  </tbody>\n",
              "</table>\n",
              "<p>5 rows × 2444 columns</p>\n",
              "</div>"
            ],
            "text/plain": [
              "bookTitle  10 Lb. Penalty  ...  stardust\n",
              "userID                     ...          \n",
              "8                   0.000  ...     0.000\n",
              "9                   0.000  ...     0.000\n",
              "14                  0.000  ...     0.000\n",
              "16                  0.000  ...     0.000\n",
              "17                  0.000  ...     0.000\n",
              "\n",
              "[5 rows x 2444 columns]"
            ]
          },
          "metadata": {},
          "execution_count": 116
        }
      ]
    },
    {
      "cell_type": "code",
      "metadata": {
        "colab": {
          "base_uri": "https://localhost:8080/"
        },
        "id": "jOEvspiLKdTP",
        "outputId": "9d9a7a1e-7d32-419e-b675-0a5b89db6d61"
      },
      "source": [
        "# Shape of us_canada_user_rating dataset\n",
        "\n",
        "us_canada_user_rating_pivot2.shape"
      ],
      "execution_count": 117,
      "outputs": [
        {
          "output_type": "execute_result",
          "data": {
            "text/plain": [
              "(47994, 2444)"
            ]
          },
          "metadata": {},
          "execution_count": 117
        }
      ]
    },
    {
      "cell_type": "code",
      "metadata": {
        "colab": {
          "base_uri": "https://localhost:8080/"
        },
        "id": "A2qRQfOdK-6a",
        "outputId": "ca81f7c3-7f76-42d9-c03d-60a54dc26198"
      },
      "source": [
        "# Applying transpose\n",
        "\n",
        "X = us_canada_user_rating_pivot2.values.T\n",
        "X.shape"
      ],
      "execution_count": 118,
      "outputs": [
        {
          "output_type": "execute_result",
          "data": {
            "text/plain": [
              "(2444, 47994)"
            ]
          },
          "metadata": {},
          "execution_count": 118
        }
      ]
    },
    {
      "cell_type": "markdown",
      "metadata": {
        "id": "NDVw8gquLT6u"
      },
      "source": [
        "* **Dimension of dataset is too large.**\n",
        "* **So, let's perform dimensionality reduction.**"
      ]
    },
    {
      "cell_type": "code",
      "metadata": {
        "colab": {
          "base_uri": "https://localhost:8080/"
        },
        "id": "DyoOcDfGLJK7",
        "outputId": "1f21c425-a64c-4236-e3ba-6e5f7a56bd27"
      },
      "source": [
        "# Using TrincatedSVD for Dimensionality Reduction\n",
        "\n",
        "import sklearn\n",
        "from sklearn.decomposition import TruncatedSVD\n",
        "\n",
        "SVD = TruncatedSVD(n_components=12, random_state=17)\n",
        "matrix = SVD.fit_transform(X)\n",
        "matrix.shape"
      ],
      "execution_count": 119,
      "outputs": [
        {
          "output_type": "execute_result",
          "data": {
            "text/plain": [
              "(2444, 12)"
            ]
          },
          "metadata": {},
          "execution_count": 119
        }
      ]
    },
    {
      "cell_type": "code",
      "metadata": {
        "colab": {
          "base_uri": "https://localhost:8080/"
        },
        "id": "RVpbqmqULfij",
        "outputId": "975359dd-78a9-4ef5-eb89-00f84c332226"
      },
      "source": [
        "# Making correlation coefficient matrix of books\n",
        "\n",
        "corr = np.corrcoef(matrix)\n",
        "corr.shape"
      ],
      "execution_count": 120,
      "outputs": [
        {
          "output_type": "execute_result",
          "data": {
            "text/plain": [
              "(2444, 2444)"
            ]
          },
          "metadata": {},
          "execution_count": 120
        }
      ]
    },
    {
      "cell_type": "markdown",
      "metadata": {
        "id": "W9JGn59NM6BJ"
      },
      "source": [
        "### **Let's find books similar to Harry Potter and the Sorcerer's Stone (Book 1)**"
      ]
    },
    {
      "cell_type": "code",
      "metadata": {
        "id": "PVj9My3pMjA9"
      },
      "source": [
        "# Extracting book Harry Potter and the Sorcerer's Stone (Book 1)\n",
        "\n",
        "us_canada_book_title = us_canada_user_rating_pivot2.columns\n",
        "us_canada_book_list = list(us_canada_book_title)\n",
        "coffey_hands = us_canada_book_list.index(\"Harry Potter and the Sorcerer's Stone (Book 1)\")"
      ],
      "execution_count": 121,
      "outputs": []
    },
    {
      "cell_type": "code",
      "metadata": {
        "id": "b_6LxUkWNPSI"
      },
      "source": [
        "# Making correlation matrix of Harry Potter and the Sorcerer's Stone (Book 1)\n",
        "\n",
        "corr_coffey_hands  = corr[coffey_hands]"
      ],
      "execution_count": 122,
      "outputs": []
    },
    {
      "cell_type": "code",
      "metadata": {
        "colab": {
          "base_uri": "https://localhost:8080/"
        },
        "id": "CxJzac_DNb39",
        "outputId": "d23dc872-a0a4-444c-a408-e4242de9bcb9"
      },
      "source": [
        "# Finding books similar to Harry Potter and the Sorcerer's Stone (Book 1)\n",
        "\n",
        "list(us_canada_book_title[(corr_coffey_hands<1.0) & (corr_coffey_hands>0.9)])"
      ],
      "execution_count": 123,
      "outputs": [
        {
          "output_type": "execute_result",
          "data": {
            "text/plain": [
              "['Harry Potter and the Chamber of Secrets (Book 2)',\n",
              " 'Harry Potter and the Goblet of Fire (Book 4)',\n",
              " 'Harry Potter and the Order of the Phoenix (Book 5)',\n",
              " 'Harry Potter and the Prisoner of Azkaban (Book 3)']"
            ]
          },
          "metadata": {},
          "execution_count": 123
        }
      ]
    },
    {
      "cell_type": "markdown",
      "metadata": {
        "id": "FCeLD3XLNnfR"
      },
      "source": [
        "* **So, these are the books which are similar to Harry Potter and the Sorcerer's Stone.**"
      ]
    },
    {
      "cell_type": "markdown",
      "metadata": {
        "id": "apWSdojMN-Wi"
      },
      "source": [
        "### **User-Item Based Filtering**"
      ]
    },
    {
      "cell_type": "code",
      "metadata": {
        "colab": {
          "base_uri": "https://localhost:8080/",
          "height": 206
        },
        "id": "qMUsfPVTNlEf",
        "outputId": "ab346ef3-a987-4811-c46f-5c13b7c8aafe"
      },
      "source": [
        "# Renaming columns of ratings_explicit dataframe\n",
        "\n",
        "ratings_explicit.rename(columns={'user_id':'User-ID','isbn':'ISBN','book_rating':'Book-Rating'},inplace=True)\n",
        "ratings_explicit.head()"
      ],
      "execution_count": 124,
      "outputs": [
        {
          "output_type": "execute_result",
          "data": {
            "text/html": [
              "<div>\n",
              "<style scoped>\n",
              "    .dataframe tbody tr th:only-of-type {\n",
              "        vertical-align: middle;\n",
              "    }\n",
              "\n",
              "    .dataframe tbody tr th {\n",
              "        vertical-align: top;\n",
              "    }\n",
              "\n",
              "    .dataframe thead th {\n",
              "        text-align: right;\n",
              "    }\n",
              "</style>\n",
              "<table border=\"1\" class=\"dataframe\">\n",
              "  <thead>\n",
              "    <tr style=\"text-align: right;\">\n",
              "      <th></th>\n",
              "      <th>User-ID</th>\n",
              "      <th>ISBN</th>\n",
              "      <th>Book-Rating</th>\n",
              "      <th>Avg_Rating</th>\n",
              "      <th>Total_No_Of_Users_Rated</th>\n",
              "    </tr>\n",
              "  </thead>\n",
              "  <tbody>\n",
              "    <tr>\n",
              "      <th>1</th>\n",
              "      <td>276726</td>\n",
              "      <td>0155061224</td>\n",
              "      <td>5</td>\n",
              "      <td>5.000</td>\n",
              "      <td>1</td>\n",
              "    </tr>\n",
              "    <tr>\n",
              "      <th>3</th>\n",
              "      <td>276729</td>\n",
              "      <td>052165615X</td>\n",
              "      <td>3</td>\n",
              "      <td>3.000</td>\n",
              "      <td>1</td>\n",
              "    </tr>\n",
              "    <tr>\n",
              "      <th>4</th>\n",
              "      <td>276729</td>\n",
              "      <td>0521795028</td>\n",
              "      <td>6</td>\n",
              "      <td>6.000</td>\n",
              "      <td>1</td>\n",
              "    </tr>\n",
              "    <tr>\n",
              "      <th>8</th>\n",
              "      <td>276744</td>\n",
              "      <td>038550120X</td>\n",
              "      <td>7</td>\n",
              "      <td>7.580</td>\n",
              "      <td>81</td>\n",
              "    </tr>\n",
              "    <tr>\n",
              "      <th>16</th>\n",
              "      <td>276747</td>\n",
              "      <td>0060517794</td>\n",
              "      <td>9</td>\n",
              "      <td>8.000</td>\n",
              "      <td>30</td>\n",
              "    </tr>\n",
              "  </tbody>\n",
              "</table>\n",
              "</div>"
            ],
            "text/plain": [
              "    User-ID        ISBN  Book-Rating  Avg_Rating  Total_No_Of_Users_Rated\n",
              "1    276726  0155061224            5       5.000                        1\n",
              "3    276729  052165615X            3       3.000                        1\n",
              "4    276729  0521795028            6       6.000                        1\n",
              "8    276744  038550120X            7       7.580                       81\n",
              "16   276747  0060517794            9       8.000                       30"
            ]
          },
          "metadata": {},
          "execution_count": 124
        }
      ]
    },
    {
      "cell_type": "code",
      "metadata": {
        "colab": {
          "base_uri": "https://localhost:8080/"
        },
        "id": "4Q6TCe8zOXeg",
        "outputId": "be0310b6-7813-4b56-bfce-1f19bc3cf91d"
      },
      "source": [
        "# Printing number of users and number of users with atleast 5 interactions\n",
        "\n",
        "users_interactions_count_df = ratings_explicit.groupby(['ISBN', 'User-ID']).size().groupby('User-ID').size()\n",
        "print('Total Number of users: %d' % len(users_interactions_count_df))\n",
        "\n",
        "users_with_enough_interactions_df = users_interactions_count_df[users_interactions_count_df >= 100].reset_index()[['User-ID']]\n",
        "print('Number of users with at least 5 interactions: %d' % len(users_with_enough_interactions_df))"
      ],
      "execution_count": 125,
      "outputs": [
        {
          "output_type": "stream",
          "name": "stdout",
          "text": [
            "Total Number of users: 68091\n",
            "Number of users with at least 5 interactions: 449\n"
          ]
        }
      ]
    },
    {
      "cell_type": "code",
      "metadata": {
        "colab": {
          "base_uri": "https://localhost:8080/"
        },
        "id": "AnXG0A6cOrEv",
        "outputId": "08238762-c094-4cb2-a8f7-9c551b710965"
      },
      "source": [
        "# Printing no. of interactions and no. of interactions from users with at least 5 interactions\n",
        "\n",
        "print('Total number of interactions: %d' % len(ratings_explicit))\n",
        "interactions_from_selected_users_df = ratings_explicit.merge(users_with_enough_interactions_df, \n",
        "               how = 'right',\n",
        "               left_on = 'User-ID',\n",
        "               right_on = 'User-ID')\n",
        "print('Number of interactions from users with at least 5 interactions: %d' % len(interactions_from_selected_users_df))"
      ],
      "execution_count": 126,
      "outputs": [
        {
          "output_type": "stream",
          "name": "stdout",
          "text": [
            "Total number of interactions: 383842\n",
            "Number of interactions from users with at least 5 interactions: 103271\n"
          ]
        }
      ]
    },
    {
      "cell_type": "code",
      "metadata": {
        "colab": {
          "base_uri": "https://localhost:8080/",
          "height": 363
        },
        "id": "voKtri69PTOL",
        "outputId": "9ab60e03-73a3-4958-cc3f-d0a55838ec73"
      },
      "source": [
        "# Let's see those selected users\n",
        "\n",
        "interactions_from_selected_users_df.head(10)"
      ],
      "execution_count": 127,
      "outputs": [
        {
          "output_type": "execute_result",
          "data": {
            "text/html": [
              "<div>\n",
              "<style scoped>\n",
              "    .dataframe tbody tr th:only-of-type {\n",
              "        vertical-align: middle;\n",
              "    }\n",
              "\n",
              "    .dataframe tbody tr th {\n",
              "        vertical-align: top;\n",
              "    }\n",
              "\n",
              "    .dataframe thead th {\n",
              "        text-align: right;\n",
              "    }\n",
              "</style>\n",
              "<table border=\"1\" class=\"dataframe\">\n",
              "  <thead>\n",
              "    <tr style=\"text-align: right;\">\n",
              "      <th></th>\n",
              "      <th>User-ID</th>\n",
              "      <th>ISBN</th>\n",
              "      <th>Book-Rating</th>\n",
              "      <th>Avg_Rating</th>\n",
              "      <th>Total_No_Of_Users_Rated</th>\n",
              "    </tr>\n",
              "  </thead>\n",
              "  <tbody>\n",
              "    <tr>\n",
              "      <th>0</th>\n",
              "      <td>2033</td>\n",
              "      <td>0030020786</td>\n",
              "      <td>7</td>\n",
              "      <td>7.000</td>\n",
              "      <td>1</td>\n",
              "    </tr>\n",
              "    <tr>\n",
              "      <th>1</th>\n",
              "      <td>2033</td>\n",
              "      <td>0060248025</td>\n",
              "      <td>10</td>\n",
              "      <td>8.767</td>\n",
              "      <td>30</td>\n",
              "    </tr>\n",
              "    <tr>\n",
              "      <th>2</th>\n",
              "      <td>2033</td>\n",
              "      <td>0060256664</td>\n",
              "      <td>10</td>\n",
              "      <td>8.333</td>\n",
              "      <td>6</td>\n",
              "    </tr>\n",
              "    <tr>\n",
              "      <th>3</th>\n",
              "      <td>2033</td>\n",
              "      <td>0060256737</td>\n",
              "      <td>10</td>\n",
              "      <td>9.045</td>\n",
              "      <td>22</td>\n",
              "    </tr>\n",
              "    <tr>\n",
              "      <th>4</th>\n",
              "      <td>2033</td>\n",
              "      <td>0060950536</td>\n",
              "      <td>10</td>\n",
              "      <td>9.400</td>\n",
              "      <td>5</td>\n",
              "    </tr>\n",
              "    <tr>\n",
              "      <th>5</th>\n",
              "      <td>2033</td>\n",
              "      <td>0061020419</td>\n",
              "      <td>7</td>\n",
              "      <td>7.000</td>\n",
              "      <td>1</td>\n",
              "    </tr>\n",
              "    <tr>\n",
              "      <th>6</th>\n",
              "      <td>2033</td>\n",
              "      <td>0061020427</td>\n",
              "      <td>6</td>\n",
              "      <td>6.000</td>\n",
              "      <td>1</td>\n",
              "    </tr>\n",
              "    <tr>\n",
              "      <th>7</th>\n",
              "      <td>2033</td>\n",
              "      <td>0061056278</td>\n",
              "      <td>10</td>\n",
              "      <td>9.000</td>\n",
              "      <td>2</td>\n",
              "    </tr>\n",
              "    <tr>\n",
              "      <th>8</th>\n",
              "      <td>2033</td>\n",
              "      <td>0061056286</td>\n",
              "      <td>8</td>\n",
              "      <td>7.667</td>\n",
              "      <td>3</td>\n",
              "    </tr>\n",
              "    <tr>\n",
              "      <th>9</th>\n",
              "      <td>2033</td>\n",
              "      <td>0061056294</td>\n",
              "      <td>9</td>\n",
              "      <td>7.000</td>\n",
              "      <td>2</td>\n",
              "    </tr>\n",
              "  </tbody>\n",
              "</table>\n",
              "</div>"
            ],
            "text/plain": [
              "   User-ID        ISBN  Book-Rating  Avg_Rating  Total_No_Of_Users_Rated\n",
              "0     2033  0030020786            7       7.000                        1\n",
              "1     2033  0060248025           10       8.767                       30\n",
              "2     2033  0060256664           10       8.333                        6\n",
              "3     2033  0060256737           10       9.045                       22\n",
              "4     2033  0060950536           10       9.400                        5\n",
              "5     2033  0061020419            7       7.000                        1\n",
              "6     2033  0061020427            6       6.000                        1\n",
              "7     2033  0061056278           10       9.000                        2\n",
              "8     2033  0061056286            8       7.667                        3\n",
              "9     2033  0061056294            9       7.000                        2"
            ]
          },
          "metadata": {},
          "execution_count": 127
        }
      ]
    },
    {
      "cell_type": "markdown",
      "metadata": {
        "id": "LH0p7UQYQEZs"
      },
      "source": [
        "**Now let's perform data scaling.**"
      ]
    },
    {
      "cell_type": "code",
      "metadata": {
        "colab": {
          "base_uri": "https://localhost:8080/",
          "height": 223
        },
        "id": "gw3ED7_cPn7Z",
        "outputId": "de593c3e-bcb6-4692-ebfa-3f001fa1df34"
      },
      "source": [
        "# Appling log transform on Book-Rating\n",
        "\n",
        "def smooth_user_preference(x):\n",
        "    return math.log(1+x, 2)\n",
        "    \n",
        "interactions_full_df = interactions_from_selected_users_df.groupby(['ISBN', 'User-ID'])['Book-Rating'].sum().apply(smooth_user_preference).reset_index()\n",
        "print('Number of unique user/item interactions: %d' % len(interactions_full_df))\n",
        "interactions_full_df.head()"
      ],
      "execution_count": 128,
      "outputs": [
        {
          "output_type": "stream",
          "name": "stdout",
          "text": [
            "Number of unique user/item interactions: 103271\n"
          ]
        },
        {
          "output_type": "execute_result",
          "data": {
            "text/html": [
              "<div>\n",
              "<style scoped>\n",
              "    .dataframe tbody tr th:only-of-type {\n",
              "        vertical-align: middle;\n",
              "    }\n",
              "\n",
              "    .dataframe tbody tr th {\n",
              "        vertical-align: top;\n",
              "    }\n",
              "\n",
              "    .dataframe thead th {\n",
              "        text-align: right;\n",
              "    }\n",
              "</style>\n",
              "<table border=\"1\" class=\"dataframe\">\n",
              "  <thead>\n",
              "    <tr style=\"text-align: right;\">\n",
              "      <th></th>\n",
              "      <th>ISBN</th>\n",
              "      <th>User-ID</th>\n",
              "      <th>Book-Rating</th>\n",
              "    </tr>\n",
              "  </thead>\n",
              "  <tbody>\n",
              "    <tr>\n",
              "      <th>0</th>\n",
              "      <td>0000913154</td>\n",
              "      <td>171118</td>\n",
              "      <td>3.170</td>\n",
              "    </tr>\n",
              "    <tr>\n",
              "      <th>1</th>\n",
              "      <td>0001046438</td>\n",
              "      <td>23902</td>\n",
              "      <td>3.322</td>\n",
              "    </tr>\n",
              "    <tr>\n",
              "      <th>2</th>\n",
              "      <td>000104687X</td>\n",
              "      <td>23902</td>\n",
              "      <td>2.807</td>\n",
              "    </tr>\n",
              "    <tr>\n",
              "      <th>3</th>\n",
              "      <td>0001047213</td>\n",
              "      <td>23902</td>\n",
              "      <td>3.322</td>\n",
              "    </tr>\n",
              "    <tr>\n",
              "      <th>4</th>\n",
              "      <td>0001047973</td>\n",
              "      <td>23902</td>\n",
              "      <td>3.322</td>\n",
              "    </tr>\n",
              "  </tbody>\n",
              "</table>\n",
              "</div>"
            ],
            "text/plain": [
              "         ISBN  User-ID  Book-Rating\n",
              "0  0000913154   171118        3.170\n",
              "1  0001046438    23902        3.322\n",
              "2  000104687X    23902        2.807\n",
              "3  0001047213    23902        3.322\n",
              "4  0001047973    23902        3.322"
            ]
          },
          "metadata": {},
          "execution_count": 128
        }
      ]
    },
    {
      "cell_type": "markdown",
      "metadata": {
        "id": "0Ha5SQmIQcTp"
      },
      "source": [
        "### **Train test split**"
      ]
    },
    {
      "cell_type": "code",
      "metadata": {
        "id": "gGrr-YNeQyp6"
      },
      "source": [
        "# Importing train_test_split\n",
        "\n",
        "from sklearn.model_selection import train_test_split"
      ],
      "execution_count": 129,
      "outputs": []
    },
    {
      "cell_type": "code",
      "metadata": {
        "colab": {
          "base_uri": "https://localhost:8080/"
        },
        "id": "8jC6dCM4QRCm",
        "outputId": "e0795ba1-cdb7-4aeb-f35b-933d3d3a5061"
      },
      "source": [
        "# Applying train_test_split\n",
        "\n",
        "interactions_train_df, interactions_test_df = train_test_split(interactions_full_df,\n",
        "                                   stratify=interactions_full_df['User-ID'], \n",
        "                                   test_size=0.20,\n",
        "                                   random_state=12)\n",
        "\n",
        "print('Number of interactions on Train set: %d' % len(interactions_train_df))\n",
        "print('Number of interactions on Test set: %d' % len(interactions_test_df))"
      ],
      "execution_count": 130,
      "outputs": [
        {
          "output_type": "stream",
          "name": "stdout",
          "text": [
            "Number of interactions on Train set: 82616\n",
            "Number of interactions on Test set: 20655\n"
          ]
        }
      ]
    },
    {
      "cell_type": "code",
      "metadata": {
        "colab": {
          "base_uri": "https://localhost:8080/",
          "height": 304
        },
        "id": "VhcwX2jKQnou",
        "outputId": "140d1dd0-1740-4c4a-aa54-20b00babdbd9"
      },
      "source": [
        "# Creating a sparse pivot table with users in rows and items in columns\n",
        "\n",
        "users_items_pivot_matrix_df = interactions_train_df.pivot(index='User-ID', \n",
        "                                                          columns='ISBN', \n",
        "                                                          values='Book-Rating').fillna(0)\n",
        "\n",
        "users_items_pivot_matrix_df.head()"
      ],
      "execution_count": 131,
      "outputs": [
        {
          "output_type": "execute_result",
          "data": {
            "text/html": [
              "<div>\n",
              "<style scoped>\n",
              "    .dataframe tbody tr th:only-of-type {\n",
              "        vertical-align: middle;\n",
              "    }\n",
              "\n",
              "    .dataframe tbody tr th {\n",
              "        vertical-align: top;\n",
              "    }\n",
              "\n",
              "    .dataframe thead th {\n",
              "        text-align: right;\n",
              "    }\n",
              "</style>\n",
              "<table border=\"1\" class=\"dataframe\">\n",
              "  <thead>\n",
              "    <tr style=\"text-align: right;\">\n",
              "      <th>ISBN</th>\n",
              "      <th>0000913154</th>\n",
              "      <th>0001046438</th>\n",
              "      <th>000104687X</th>\n",
              "      <th>0001047213</th>\n",
              "      <th>000104799X</th>\n",
              "      <th>0001048082</th>\n",
              "      <th>0001053736</th>\n",
              "      <th>0001053744</th>\n",
              "      <th>0001055607</th>\n",
              "      <th>0001845039</th>\n",
              "      <th>0001935968</th>\n",
              "      <th>0001944711</th>\n",
              "      <th>0001952803</th>\n",
              "      <th>0001953877</th>\n",
              "      <th>0002005018</th>\n",
              "      <th>0002005557</th>\n",
              "      <th>0002006588</th>\n",
              "      <th>0002115328</th>\n",
              "      <th>0002116286</th>\n",
              "      <th>0002118580</th>\n",
              "      <th>0002154900</th>\n",
              "      <th>0002158973</th>\n",
              "      <th>0002163713</th>\n",
              "      <th>0002176181</th>\n",
              "      <th>0002176432</th>\n",
              "      <th>0002179695</th>\n",
              "      <th>0002181924</th>\n",
              "      <th>0002184974</th>\n",
              "      <th>0002190915</th>\n",
              "      <th>0002197154</th>\n",
              "      <th>0002223929</th>\n",
              "      <th>0002228394</th>\n",
              "      <th>000223257X</th>\n",
              "      <th>0002233509</th>\n",
              "      <th>0002239183</th>\n",
              "      <th>0002244098</th>\n",
              "      <th>000225056X</th>\n",
              "      <th>0002250810</th>\n",
              "      <th>0002251485</th>\n",
              "      <th>0002251760</th>\n",
              "      <th>...</th>\n",
              "      <th>9813056096</th>\n",
              "      <th>9813056363</th>\n",
              "      <th>9813056495</th>\n",
              "      <th>9838120014</th>\n",
              "      <th>9838523283</th>\n",
              "      <th>9871106173</th>\n",
              "      <th>9871138148</th>\n",
              "      <th>9879397274</th>\n",
              "      <th>987960170X</th>\n",
              "      <th>9974643058</th>\n",
              "      <th>999058284X</th>\n",
              "      <th>9992003766</th>\n",
              "      <th>9992059958</th>\n",
              "      <th>9993584185</th>\n",
              "      <th>9994256963</th>\n",
              "      <th>9994348337</th>\n",
              "      <th>9997406567</th>\n",
              "      <th>9997406990</th>\n",
              "      <th>999740923X</th>\n",
              "      <th>9997409728</th>\n",
              "      <th>9997411757</th>\n",
              "      <th>9997411870</th>\n",
              "      <th>999750805X</th>\n",
              "      <th>9997508769</th>\n",
              "      <th>9997512952</th>\n",
              "      <th>9997519086</th>\n",
              "      <th>9997555635</th>\n",
              "      <th>B00001U0CP</th>\n",
              "      <th>B00005TZWI</th>\n",
              "      <th>B00006CRTE</th>\n",
              "      <th>B00006I4OX</th>\n",
              "      <th>B00007FYKW</th>\n",
              "      <th>B00008RWPV</th>\n",
              "      <th>B000092Q0A</th>\n",
              "      <th>B00009EF82</th>\n",
              "      <th>B00009NDAN</th>\n",
              "      <th>B0000DYXID</th>\n",
              "      <th>B0000T6KHI</th>\n",
              "      <th>B00013AX9E</th>\n",
              "      <th>B0001I1KOG</th>\n",
              "    </tr>\n",
              "    <tr>\n",
              "      <th>User-ID</th>\n",
              "      <th></th>\n",
              "      <th></th>\n",
              "      <th></th>\n",
              "      <th></th>\n",
              "      <th></th>\n",
              "      <th></th>\n",
              "      <th></th>\n",
              "      <th></th>\n",
              "      <th></th>\n",
              "      <th></th>\n",
              "      <th></th>\n",
              "      <th></th>\n",
              "      <th></th>\n",
              "      <th></th>\n",
              "      <th></th>\n",
              "      <th></th>\n",
              "      <th></th>\n",
              "      <th></th>\n",
              "      <th></th>\n",
              "      <th></th>\n",
              "      <th></th>\n",
              "      <th></th>\n",
              "      <th></th>\n",
              "      <th></th>\n",
              "      <th></th>\n",
              "      <th></th>\n",
              "      <th></th>\n",
              "      <th></th>\n",
              "      <th></th>\n",
              "      <th></th>\n",
              "      <th></th>\n",
              "      <th></th>\n",
              "      <th></th>\n",
              "      <th></th>\n",
              "      <th></th>\n",
              "      <th></th>\n",
              "      <th></th>\n",
              "      <th></th>\n",
              "      <th></th>\n",
              "      <th></th>\n",
              "      <th></th>\n",
              "      <th></th>\n",
              "      <th></th>\n",
              "      <th></th>\n",
              "      <th></th>\n",
              "      <th></th>\n",
              "      <th></th>\n",
              "      <th></th>\n",
              "      <th></th>\n",
              "      <th></th>\n",
              "      <th></th>\n",
              "      <th></th>\n",
              "      <th></th>\n",
              "      <th></th>\n",
              "      <th></th>\n",
              "      <th></th>\n",
              "      <th></th>\n",
              "      <th></th>\n",
              "      <th></th>\n",
              "      <th></th>\n",
              "      <th></th>\n",
              "      <th></th>\n",
              "      <th></th>\n",
              "      <th></th>\n",
              "      <th></th>\n",
              "      <th></th>\n",
              "      <th></th>\n",
              "      <th></th>\n",
              "      <th></th>\n",
              "      <th></th>\n",
              "      <th></th>\n",
              "      <th></th>\n",
              "      <th></th>\n",
              "      <th></th>\n",
              "      <th></th>\n",
              "      <th></th>\n",
              "      <th></th>\n",
              "      <th></th>\n",
              "      <th></th>\n",
              "      <th></th>\n",
              "      <th></th>\n",
              "    </tr>\n",
              "  </thead>\n",
              "  <tbody>\n",
              "    <tr>\n",
              "      <th>2033</th>\n",
              "      <td>0.000</td>\n",
              "      <td>0.000</td>\n",
              "      <td>0.000</td>\n",
              "      <td>0.000</td>\n",
              "      <td>0.000</td>\n",
              "      <td>0.000</td>\n",
              "      <td>0.000</td>\n",
              "      <td>0.000</td>\n",
              "      <td>0.000</td>\n",
              "      <td>0.000</td>\n",
              "      <td>0.000</td>\n",
              "      <td>0.000</td>\n",
              "      <td>0.000</td>\n",
              "      <td>0.000</td>\n",
              "      <td>0.000</td>\n",
              "      <td>0.000</td>\n",
              "      <td>0.000</td>\n",
              "      <td>0.000</td>\n",
              "      <td>0.000</td>\n",
              "      <td>0.000</td>\n",
              "      <td>0.000</td>\n",
              "      <td>0.000</td>\n",
              "      <td>0.000</td>\n",
              "      <td>0.000</td>\n",
              "      <td>0.000</td>\n",
              "      <td>0.000</td>\n",
              "      <td>0.000</td>\n",
              "      <td>0.000</td>\n",
              "      <td>0.000</td>\n",
              "      <td>0.000</td>\n",
              "      <td>0.000</td>\n",
              "      <td>0.000</td>\n",
              "      <td>0.000</td>\n",
              "      <td>0.000</td>\n",
              "      <td>0.000</td>\n",
              "      <td>0.000</td>\n",
              "      <td>0.000</td>\n",
              "      <td>0.000</td>\n",
              "      <td>0.000</td>\n",
              "      <td>0.000</td>\n",
              "      <td>...</td>\n",
              "      <td>0.000</td>\n",
              "      <td>0.000</td>\n",
              "      <td>0.000</td>\n",
              "      <td>0.000</td>\n",
              "      <td>0.000</td>\n",
              "      <td>0.000</td>\n",
              "      <td>0.000</td>\n",
              "      <td>0.000</td>\n",
              "      <td>0.000</td>\n",
              "      <td>0.000</td>\n",
              "      <td>0.000</td>\n",
              "      <td>0.000</td>\n",
              "      <td>0.000</td>\n",
              "      <td>0.000</td>\n",
              "      <td>0.000</td>\n",
              "      <td>0.000</td>\n",
              "      <td>0.000</td>\n",
              "      <td>0.000</td>\n",
              "      <td>0.000</td>\n",
              "      <td>0.000</td>\n",
              "      <td>0.000</td>\n",
              "      <td>0.000</td>\n",
              "      <td>0.000</td>\n",
              "      <td>0.000</td>\n",
              "      <td>0.000</td>\n",
              "      <td>0.000</td>\n",
              "      <td>0.000</td>\n",
              "      <td>0.000</td>\n",
              "      <td>0.000</td>\n",
              "      <td>0.000</td>\n",
              "      <td>0.000</td>\n",
              "      <td>0.000</td>\n",
              "      <td>0.000</td>\n",
              "      <td>0.000</td>\n",
              "      <td>0.000</td>\n",
              "      <td>0.000</td>\n",
              "      <td>0.000</td>\n",
              "      <td>0.000</td>\n",
              "      <td>0.000</td>\n",
              "      <td>0.000</td>\n",
              "    </tr>\n",
              "    <tr>\n",
              "      <th>2110</th>\n",
              "      <td>0.000</td>\n",
              "      <td>0.000</td>\n",
              "      <td>0.000</td>\n",
              "      <td>0.000</td>\n",
              "      <td>0.000</td>\n",
              "      <td>0.000</td>\n",
              "      <td>0.000</td>\n",
              "      <td>0.000</td>\n",
              "      <td>0.000</td>\n",
              "      <td>0.000</td>\n",
              "      <td>0.000</td>\n",
              "      <td>0.000</td>\n",
              "      <td>0.000</td>\n",
              "      <td>0.000</td>\n",
              "      <td>0.000</td>\n",
              "      <td>0.000</td>\n",
              "      <td>0.000</td>\n",
              "      <td>0.000</td>\n",
              "      <td>0.000</td>\n",
              "      <td>0.000</td>\n",
              "      <td>0.000</td>\n",
              "      <td>0.000</td>\n",
              "      <td>0.000</td>\n",
              "      <td>0.000</td>\n",
              "      <td>0.000</td>\n",
              "      <td>0.000</td>\n",
              "      <td>0.000</td>\n",
              "      <td>0.000</td>\n",
              "      <td>0.000</td>\n",
              "      <td>0.000</td>\n",
              "      <td>0.000</td>\n",
              "      <td>0.000</td>\n",
              "      <td>0.000</td>\n",
              "      <td>0.000</td>\n",
              "      <td>0.000</td>\n",
              "      <td>0.000</td>\n",
              "      <td>0.000</td>\n",
              "      <td>0.000</td>\n",
              "      <td>0.000</td>\n",
              "      <td>0.000</td>\n",
              "      <td>...</td>\n",
              "      <td>0.000</td>\n",
              "      <td>0.000</td>\n",
              "      <td>0.000</td>\n",
              "      <td>0.000</td>\n",
              "      <td>0.000</td>\n",
              "      <td>0.000</td>\n",
              "      <td>0.000</td>\n",
              "      <td>0.000</td>\n",
              "      <td>0.000</td>\n",
              "      <td>0.000</td>\n",
              "      <td>0.000</td>\n",
              "      <td>0.000</td>\n",
              "      <td>0.000</td>\n",
              "      <td>0.000</td>\n",
              "      <td>0.000</td>\n",
              "      <td>0.000</td>\n",
              "      <td>0.000</td>\n",
              "      <td>0.000</td>\n",
              "      <td>0.000</td>\n",
              "      <td>0.000</td>\n",
              "      <td>0.000</td>\n",
              "      <td>0.000</td>\n",
              "      <td>0.000</td>\n",
              "      <td>0.000</td>\n",
              "      <td>0.000</td>\n",
              "      <td>0.000</td>\n",
              "      <td>0.000</td>\n",
              "      <td>0.000</td>\n",
              "      <td>0.000</td>\n",
              "      <td>0.000</td>\n",
              "      <td>0.000</td>\n",
              "      <td>0.000</td>\n",
              "      <td>0.000</td>\n",
              "      <td>0.000</td>\n",
              "      <td>0.000</td>\n",
              "      <td>0.000</td>\n",
              "      <td>0.000</td>\n",
              "      <td>0.000</td>\n",
              "      <td>0.000</td>\n",
              "      <td>0.000</td>\n",
              "    </tr>\n",
              "    <tr>\n",
              "      <th>2276</th>\n",
              "      <td>0.000</td>\n",
              "      <td>0.000</td>\n",
              "      <td>0.000</td>\n",
              "      <td>0.000</td>\n",
              "      <td>0.000</td>\n",
              "      <td>0.000</td>\n",
              "      <td>0.000</td>\n",
              "      <td>0.000</td>\n",
              "      <td>0.000</td>\n",
              "      <td>0.000</td>\n",
              "      <td>0.000</td>\n",
              "      <td>0.000</td>\n",
              "      <td>0.000</td>\n",
              "      <td>0.000</td>\n",
              "      <td>0.000</td>\n",
              "      <td>0.000</td>\n",
              "      <td>0.000</td>\n",
              "      <td>0.000</td>\n",
              "      <td>0.000</td>\n",
              "      <td>0.000</td>\n",
              "      <td>0.000</td>\n",
              "      <td>0.000</td>\n",
              "      <td>0.000</td>\n",
              "      <td>0.000</td>\n",
              "      <td>0.000</td>\n",
              "      <td>0.000</td>\n",
              "      <td>0.000</td>\n",
              "      <td>0.000</td>\n",
              "      <td>0.000</td>\n",
              "      <td>0.000</td>\n",
              "      <td>0.000</td>\n",
              "      <td>0.000</td>\n",
              "      <td>0.000</td>\n",
              "      <td>0.000</td>\n",
              "      <td>0.000</td>\n",
              "      <td>0.000</td>\n",
              "      <td>0.000</td>\n",
              "      <td>0.000</td>\n",
              "      <td>0.000</td>\n",
              "      <td>0.000</td>\n",
              "      <td>...</td>\n",
              "      <td>0.000</td>\n",
              "      <td>0.000</td>\n",
              "      <td>0.000</td>\n",
              "      <td>0.000</td>\n",
              "      <td>0.000</td>\n",
              "      <td>0.000</td>\n",
              "      <td>0.000</td>\n",
              "      <td>0.000</td>\n",
              "      <td>0.000</td>\n",
              "      <td>0.000</td>\n",
              "      <td>0.000</td>\n",
              "      <td>0.000</td>\n",
              "      <td>0.000</td>\n",
              "      <td>0.000</td>\n",
              "      <td>0.000</td>\n",
              "      <td>0.000</td>\n",
              "      <td>0.000</td>\n",
              "      <td>0.000</td>\n",
              "      <td>0.000</td>\n",
              "      <td>0.000</td>\n",
              "      <td>0.000</td>\n",
              "      <td>0.000</td>\n",
              "      <td>0.000</td>\n",
              "      <td>0.000</td>\n",
              "      <td>0.000</td>\n",
              "      <td>0.000</td>\n",
              "      <td>0.000</td>\n",
              "      <td>0.000</td>\n",
              "      <td>0.000</td>\n",
              "      <td>0.000</td>\n",
              "      <td>0.000</td>\n",
              "      <td>0.000</td>\n",
              "      <td>0.000</td>\n",
              "      <td>0.000</td>\n",
              "      <td>0.000</td>\n",
              "      <td>0.000</td>\n",
              "      <td>0.000</td>\n",
              "      <td>0.000</td>\n",
              "      <td>0.000</td>\n",
              "      <td>0.000</td>\n",
              "    </tr>\n",
              "    <tr>\n",
              "      <th>4017</th>\n",
              "      <td>0.000</td>\n",
              "      <td>0.000</td>\n",
              "      <td>0.000</td>\n",
              "      <td>0.000</td>\n",
              "      <td>0.000</td>\n",
              "      <td>0.000</td>\n",
              "      <td>0.000</td>\n",
              "      <td>0.000</td>\n",
              "      <td>0.000</td>\n",
              "      <td>0.000</td>\n",
              "      <td>0.000</td>\n",
              "      <td>0.000</td>\n",
              "      <td>0.000</td>\n",
              "      <td>0.000</td>\n",
              "      <td>0.000</td>\n",
              "      <td>0.000</td>\n",
              "      <td>0.000</td>\n",
              "      <td>0.000</td>\n",
              "      <td>0.000</td>\n",
              "      <td>0.000</td>\n",
              "      <td>0.000</td>\n",
              "      <td>0.000</td>\n",
              "      <td>0.000</td>\n",
              "      <td>0.000</td>\n",
              "      <td>0.000</td>\n",
              "      <td>0.000</td>\n",
              "      <td>0.000</td>\n",
              "      <td>0.000</td>\n",
              "      <td>0.000</td>\n",
              "      <td>0.000</td>\n",
              "      <td>0.000</td>\n",
              "      <td>0.000</td>\n",
              "      <td>0.000</td>\n",
              "      <td>0.000</td>\n",
              "      <td>0.000</td>\n",
              "      <td>0.000</td>\n",
              "      <td>0.000</td>\n",
              "      <td>0.000</td>\n",
              "      <td>0.000</td>\n",
              "      <td>0.000</td>\n",
              "      <td>...</td>\n",
              "      <td>0.000</td>\n",
              "      <td>0.000</td>\n",
              "      <td>0.000</td>\n",
              "      <td>0.000</td>\n",
              "      <td>0.000</td>\n",
              "      <td>0.000</td>\n",
              "      <td>0.000</td>\n",
              "      <td>0.000</td>\n",
              "      <td>0.000</td>\n",
              "      <td>0.000</td>\n",
              "      <td>0.000</td>\n",
              "      <td>0.000</td>\n",
              "      <td>0.000</td>\n",
              "      <td>0.000</td>\n",
              "      <td>0.000</td>\n",
              "      <td>0.000</td>\n",
              "      <td>0.000</td>\n",
              "      <td>0.000</td>\n",
              "      <td>0.000</td>\n",
              "      <td>0.000</td>\n",
              "      <td>0.000</td>\n",
              "      <td>0.000</td>\n",
              "      <td>0.000</td>\n",
              "      <td>0.000</td>\n",
              "      <td>0.000</td>\n",
              "      <td>0.000</td>\n",
              "      <td>0.000</td>\n",
              "      <td>0.000</td>\n",
              "      <td>0.000</td>\n",
              "      <td>0.000</td>\n",
              "      <td>0.000</td>\n",
              "      <td>0.000</td>\n",
              "      <td>0.000</td>\n",
              "      <td>0.000</td>\n",
              "      <td>0.000</td>\n",
              "      <td>0.000</td>\n",
              "      <td>0.000</td>\n",
              "      <td>0.000</td>\n",
              "      <td>0.000</td>\n",
              "      <td>0.000</td>\n",
              "    </tr>\n",
              "    <tr>\n",
              "      <th>4385</th>\n",
              "      <td>0.000</td>\n",
              "      <td>0.000</td>\n",
              "      <td>0.000</td>\n",
              "      <td>0.000</td>\n",
              "      <td>0.000</td>\n",
              "      <td>0.000</td>\n",
              "      <td>0.000</td>\n",
              "      <td>0.000</td>\n",
              "      <td>0.000</td>\n",
              "      <td>0.000</td>\n",
              "      <td>0.000</td>\n",
              "      <td>0.000</td>\n",
              "      <td>0.000</td>\n",
              "      <td>0.000</td>\n",
              "      <td>0.000</td>\n",
              "      <td>0.000</td>\n",
              "      <td>0.000</td>\n",
              "      <td>0.000</td>\n",
              "      <td>0.000</td>\n",
              "      <td>0.000</td>\n",
              "      <td>0.000</td>\n",
              "      <td>0.000</td>\n",
              "      <td>0.000</td>\n",
              "      <td>0.000</td>\n",
              "      <td>0.000</td>\n",
              "      <td>0.000</td>\n",
              "      <td>0.000</td>\n",
              "      <td>0.000</td>\n",
              "      <td>0.000</td>\n",
              "      <td>0.000</td>\n",
              "      <td>0.000</td>\n",
              "      <td>0.000</td>\n",
              "      <td>0.000</td>\n",
              "      <td>0.000</td>\n",
              "      <td>0.000</td>\n",
              "      <td>0.000</td>\n",
              "      <td>0.000</td>\n",
              "      <td>0.000</td>\n",
              "      <td>0.000</td>\n",
              "      <td>0.000</td>\n",
              "      <td>...</td>\n",
              "      <td>0.000</td>\n",
              "      <td>0.000</td>\n",
              "      <td>0.000</td>\n",
              "      <td>0.000</td>\n",
              "      <td>0.000</td>\n",
              "      <td>0.000</td>\n",
              "      <td>0.000</td>\n",
              "      <td>0.000</td>\n",
              "      <td>0.000</td>\n",
              "      <td>0.000</td>\n",
              "      <td>0.000</td>\n",
              "      <td>0.000</td>\n",
              "      <td>0.000</td>\n",
              "      <td>0.000</td>\n",
              "      <td>0.000</td>\n",
              "      <td>0.000</td>\n",
              "      <td>0.000</td>\n",
              "      <td>0.000</td>\n",
              "      <td>0.000</td>\n",
              "      <td>0.000</td>\n",
              "      <td>0.000</td>\n",
              "      <td>0.000</td>\n",
              "      <td>0.000</td>\n",
              "      <td>0.000</td>\n",
              "      <td>0.000</td>\n",
              "      <td>0.000</td>\n",
              "      <td>0.000</td>\n",
              "      <td>0.000</td>\n",
              "      <td>0.000</td>\n",
              "      <td>0.000</td>\n",
              "      <td>0.000</td>\n",
              "      <td>0.000</td>\n",
              "      <td>0.000</td>\n",
              "      <td>0.000</td>\n",
              "      <td>0.000</td>\n",
              "      <td>0.000</td>\n",
              "      <td>0.000</td>\n",
              "      <td>0.000</td>\n",
              "      <td>0.000</td>\n",
              "      <td>0.000</td>\n",
              "    </tr>\n",
              "  </tbody>\n",
              "</table>\n",
              "<p>5 rows × 55871 columns</p>\n",
              "</div>"
            ],
            "text/plain": [
              "ISBN     0000913154  0001046438  000104687X  ...  B0000T6KHI  B00013AX9E  B0001I1KOG\n",
              "User-ID                                      ...                                    \n",
              "2033          0.000       0.000       0.000  ...       0.000       0.000       0.000\n",
              "2110          0.000       0.000       0.000  ...       0.000       0.000       0.000\n",
              "2276          0.000       0.000       0.000  ...       0.000       0.000       0.000\n",
              "4017          0.000       0.000       0.000  ...       0.000       0.000       0.000\n",
              "4385          0.000       0.000       0.000  ...       0.000       0.000       0.000\n",
              "\n",
              "[5 rows x 55871 columns]"
            ]
          },
          "metadata": {},
          "execution_count": 131
        }
      ]
    },
    {
      "cell_type": "code",
      "metadata": {
        "colab": {
          "base_uri": "https://localhost:8080/"
        },
        "id": "v5xMNxJiTBCk",
        "outputId": "34db4ae9-1cf9-4c8b-ef5d-971c5f070622"
      },
      "source": [
        "# Creating array of values of users items pivot matrix df\n",
        "\n",
        "users_items_pivot_matrix = users_items_pivot_matrix_df.values\n",
        "users_items_pivot_matrix[:10]"
      ],
      "execution_count": 132,
      "outputs": [
        {
          "output_type": "execute_result",
          "data": {
            "text/plain": [
              "array([[0., 0., 0., ..., 0., 0., 0.],\n",
              "       [0., 0., 0., ..., 0., 0., 0.],\n",
              "       [0., 0., 0., ..., 0., 0., 0.],\n",
              "       ...,\n",
              "       [0., 0., 0., ..., 0., 0., 0.],\n",
              "       [0., 0., 0., ..., 0., 0., 0.],\n",
              "       [0., 0., 0., ..., 0., 0., 0.]])"
            ]
          },
          "metadata": {},
          "execution_count": 132
        }
      ]
    },
    {
      "cell_type": "code",
      "metadata": {
        "colab": {
          "base_uri": "https://localhost:8080/"
        },
        "id": "nJe5dnmkTqyX",
        "outputId": "b461c6e9-1343-4db4-8f73-7a4be1fcdff4"
      },
      "source": [
        "# Extracting users ids\n",
        "\n",
        "users_ids = list(users_items_pivot_matrix_df.index)\n",
        "users_ids[:10]"
      ],
      "execution_count": 133,
      "outputs": [
        {
          "output_type": "execute_result",
          "data": {
            "text/plain": [
              "[2033, 2110, 2276, 4017, 4385, 5582, 6242, 6251, 6543, 6575]"
            ]
          },
          "metadata": {},
          "execution_count": 133
        }
      ]
    },
    {
      "cell_type": "markdown",
      "metadata": {
        "id": "fUfCtl89dwUB"
      },
      "source": [
        "### **Let's make factors of user-item matrix**"
      ]
    },
    {
      "cell_type": "code",
      "metadata": {
        "id": "-Mbgg8R9WNH3"
      },
      "source": [
        "# The number of factors to factor the user-item matrix.\n",
        "\n",
        "NUMBER_OF_FACTORS_MF = 15\n",
        "\n",
        "# Performs matrix factorization of the original user item matrix\n",
        "\n",
        "U, sigma, Vt = svds(users_items_pivot_matrix, k = NUMBER_OF_FACTORS_MF)"
      ],
      "execution_count": 134,
      "outputs": []
    },
    {
      "cell_type": "code",
      "metadata": {
        "colab": {
          "base_uri": "https://localhost:8080/"
        },
        "id": "94HIcrB9eNEX",
        "outputId": "a25bbe05-ee7b-4d22-f244-86157f7f4de2"
      },
      "source": [
        "# Shape of user-item matrix\n",
        "\n",
        "users_items_pivot_matrix.shape"
      ],
      "execution_count": 135,
      "outputs": [
        {
          "output_type": "execute_result",
          "data": {
            "text/plain": [
              "(449, 55871)"
            ]
          },
          "metadata": {},
          "execution_count": 135
        }
      ]
    },
    {
      "cell_type": "markdown",
      "metadata": {
        "id": "-Cx7kEbRelQZ"
      },
      "source": [
        "**Let's check the shapes of all three factors.**"
      ]
    },
    {
      "cell_type": "code",
      "metadata": {
        "colab": {
          "base_uri": "https://localhost:8080/"
        },
        "id": "pqvA5rfCejRP",
        "outputId": "4f76d2e1-3e88-4e77-9c85-647676497eda"
      },
      "source": [
        "U.shape"
      ],
      "execution_count": 136,
      "outputs": [
        {
          "output_type": "execute_result",
          "data": {
            "text/plain": [
              "(449, 15)"
            ]
          },
          "metadata": {},
          "execution_count": 136
        }
      ]
    },
    {
      "cell_type": "code",
      "metadata": {
        "colab": {
          "base_uri": "https://localhost:8080/"
        },
        "id": "XjntcadGeumM",
        "outputId": "53156b31-cb41-462c-8cfe-9fed9de3547a"
      },
      "source": [
        "sigma = np.diag(sigma)\n",
        "sigma.shape"
      ],
      "execution_count": 137,
      "outputs": [
        {
          "output_type": "execute_result",
          "data": {
            "text/plain": [
              "(15, 15)"
            ]
          },
          "metadata": {},
          "execution_count": 137
        }
      ]
    },
    {
      "cell_type": "code",
      "metadata": {
        "colab": {
          "base_uri": "https://localhost:8080/"
        },
        "id": "ynsEbq3Mewn9",
        "outputId": "9101cc4d-700a-4c72-8419-641d56a26ae7"
      },
      "source": [
        "Vt.shape"
      ],
      "execution_count": 138,
      "outputs": [
        {
          "output_type": "execute_result",
          "data": {
            "text/plain": [
              "(15, 55871)"
            ]
          },
          "metadata": {},
          "execution_count": 138
        }
      ]
    },
    {
      "cell_type": "markdown",
      "metadata": {
        "id": "Q5QyfiONfla4"
      },
      "source": [
        "**After the factorization, let's try to reconstruct the original matrix by multiplying its factors.**"
      ]
    },
    {
      "cell_type": "code",
      "metadata": {
        "colab": {
          "base_uri": "https://localhost:8080/"
        },
        "id": "XekoCi1rezW0",
        "outputId": "a5d91d24-e170-4140-c8e8-f1564169663e"
      },
      "source": [
        "# Multiplying all factors\n",
        "\n",
        "all_user_predicted_ratings = np.dot(np.dot(U, sigma), Vt) \n",
        "all_user_predicted_ratings"
      ],
      "execution_count": 139,
      "outputs": [
        {
          "output_type": "execute_result",
          "data": {
            "text/plain": [
              "array([[ 2.20023214e-02,  2.57725085e-03,  2.17802964e-03, ...,\n",
              "         4.87568540e-03,  3.74540686e-04,  3.50305352e-04],\n",
              "       [-6.26310846e-04, -8.10335760e-04, -6.84813162e-04, ...,\n",
              "         1.39488603e-03,  8.42185861e-05,  6.52115886e-05],\n",
              "       [ 3.88898390e-03, -2.14130350e-03, -1.80961139e-03, ...,\n",
              "         3.75527311e-03,  2.48705392e-04,  1.98275421e-04],\n",
              "       ...,\n",
              "       [ 8.60649094e-03,  2.39017228e-03,  2.01992991e-03, ...,\n",
              "         4.83774702e-03,  3.22942815e-04,  2.44342541e-04],\n",
              "       [ 2.21385219e-02, -3.23817431e-03, -2.73657476e-03, ...,\n",
              "         6.15094081e-03,  3.77342333e-04,  3.03756214e-04],\n",
              "       [ 4.18416680e-03, -1.23619910e-03, -1.04470944e-03, ...,\n",
              "         2.19297970e-03,  1.32878748e-04,  9.14059801e-05]])"
            ]
          },
          "metadata": {},
          "execution_count": 139
        }
      ]
    },
    {
      "cell_type": "code",
      "metadata": {
        "colab": {
          "base_uri": "https://localhost:8080/"
        },
        "id": "FCfrLAzBjyk6",
        "outputId": "2e71bd3d-e702-41f8-8d96-bfc710aff590"
      },
      "source": [
        "# Shape of resulting matrix\n",
        "\n",
        "all_user_predicted_ratings.shape"
      ],
      "execution_count": 140,
      "outputs": [
        {
          "output_type": "execute_result",
          "data": {
            "text/plain": [
              "(449, 55871)"
            ]
          },
          "metadata": {},
          "execution_count": 140
        }
      ]
    },
    {
      "cell_type": "markdown",
      "metadata": {
        "id": "hfoxSXVejZbA"
      },
      "source": [
        "* **The resulting matrix is not sparse any more.**\n",
        "* **It generated predictions for items the user have not yet interaction, which we can use for recommendations.**"
      ]
    },
    {
      "cell_type": "markdown",
      "metadata": {
        "id": "Z9UoEzLZj8dZ"
      },
      "source": [
        "### **Let's convert the reconstructed matrix into a dataframe.**"
      ]
    },
    {
      "cell_type": "code",
      "metadata": {
        "colab": {
          "base_uri": "https://localhost:8080/",
          "height": 287
        },
        "id": "IGNtHVXgfwWP",
        "outputId": "61d811d4-6226-415a-f759-75520fcb3a55"
      },
      "source": [
        "# Converting the reconstructed matrix back to a Pandas dataframe\n",
        "\n",
        "cf_preds_df = pd.DataFrame(all_user_predicted_ratings, columns = users_items_pivot_matrix_df.columns, index=users_ids).transpose()\n",
        "cf_preds_df.head()"
      ],
      "execution_count": 141,
      "outputs": [
        {
          "output_type": "execute_result",
          "data": {
            "text/html": [
              "<div>\n",
              "<style scoped>\n",
              "    .dataframe tbody tr th:only-of-type {\n",
              "        vertical-align: middle;\n",
              "    }\n",
              "\n",
              "    .dataframe tbody tr th {\n",
              "        vertical-align: top;\n",
              "    }\n",
              "\n",
              "    .dataframe thead th {\n",
              "        text-align: right;\n",
              "    }\n",
              "</style>\n",
              "<table border=\"1\" class=\"dataframe\">\n",
              "  <thead>\n",
              "    <tr style=\"text-align: right;\">\n",
              "      <th></th>\n",
              "      <th>2033</th>\n",
              "      <th>2110</th>\n",
              "      <th>2276</th>\n",
              "      <th>4017</th>\n",
              "      <th>4385</th>\n",
              "      <th>5582</th>\n",
              "      <th>6242</th>\n",
              "      <th>6251</th>\n",
              "      <th>6543</th>\n",
              "      <th>6575</th>\n",
              "      <th>7286</th>\n",
              "      <th>7346</th>\n",
              "      <th>8067</th>\n",
              "      <th>8245</th>\n",
              "      <th>8681</th>\n",
              "      <th>8890</th>\n",
              "      <th>10560</th>\n",
              "      <th>11676</th>\n",
              "      <th>11993</th>\n",
              "      <th>12538</th>\n",
              "      <th>12824</th>\n",
              "      <th>12982</th>\n",
              "      <th>13552</th>\n",
              "      <th>13850</th>\n",
              "      <th>14422</th>\n",
              "      <th>15408</th>\n",
              "      <th>15418</th>\n",
              "      <th>16634</th>\n",
              "      <th>16795</th>\n",
              "      <th>16966</th>\n",
              "      <th>17950</th>\n",
              "      <th>19085</th>\n",
              "      <th>21014</th>\n",
              "      <th>23768</th>\n",
              "      <th>23872</th>\n",
              "      <th>23902</th>\n",
              "      <th>25409</th>\n",
              "      <th>25601</th>\n",
              "      <th>25981</th>\n",
              "      <th>26535</th>\n",
              "      <th>...</th>\n",
              "      <th>250405</th>\n",
              "      <th>250709</th>\n",
              "      <th>251394</th>\n",
              "      <th>251843</th>\n",
              "      <th>251844</th>\n",
              "      <th>252695</th>\n",
              "      <th>252820</th>\n",
              "      <th>254206</th>\n",
              "      <th>254465</th>\n",
              "      <th>254899</th>\n",
              "      <th>255489</th>\n",
              "      <th>257204</th>\n",
              "      <th>258152</th>\n",
              "      <th>258185</th>\n",
              "      <th>258534</th>\n",
              "      <th>261105</th>\n",
              "      <th>261829</th>\n",
              "      <th>262998</th>\n",
              "      <th>264031</th>\n",
              "      <th>264082</th>\n",
              "      <th>264321</th>\n",
              "      <th>264525</th>\n",
              "      <th>265115</th>\n",
              "      <th>265313</th>\n",
              "      <th>265889</th>\n",
              "      <th>266056</th>\n",
              "      <th>266226</th>\n",
              "      <th>268110</th>\n",
              "      <th>268300</th>\n",
              "      <th>268932</th>\n",
              "      <th>269566</th>\n",
              "      <th>270713</th>\n",
              "      <th>271448</th>\n",
              "      <th>271705</th>\n",
              "      <th>273113</th>\n",
              "      <th>274061</th>\n",
              "      <th>274301</th>\n",
              "      <th>275970</th>\n",
              "      <th>277427</th>\n",
              "      <th>278418</th>\n",
              "    </tr>\n",
              "    <tr>\n",
              "      <th>ISBN</th>\n",
              "      <th></th>\n",
              "      <th></th>\n",
              "      <th></th>\n",
              "      <th></th>\n",
              "      <th></th>\n",
              "      <th></th>\n",
              "      <th></th>\n",
              "      <th></th>\n",
              "      <th></th>\n",
              "      <th></th>\n",
              "      <th></th>\n",
              "      <th></th>\n",
              "      <th></th>\n",
              "      <th></th>\n",
              "      <th></th>\n",
              "      <th></th>\n",
              "      <th></th>\n",
              "      <th></th>\n",
              "      <th></th>\n",
              "      <th></th>\n",
              "      <th></th>\n",
              "      <th></th>\n",
              "      <th></th>\n",
              "      <th></th>\n",
              "      <th></th>\n",
              "      <th></th>\n",
              "      <th></th>\n",
              "      <th></th>\n",
              "      <th></th>\n",
              "      <th></th>\n",
              "      <th></th>\n",
              "      <th></th>\n",
              "      <th></th>\n",
              "      <th></th>\n",
              "      <th></th>\n",
              "      <th></th>\n",
              "      <th></th>\n",
              "      <th></th>\n",
              "      <th></th>\n",
              "      <th></th>\n",
              "      <th></th>\n",
              "      <th></th>\n",
              "      <th></th>\n",
              "      <th></th>\n",
              "      <th></th>\n",
              "      <th></th>\n",
              "      <th></th>\n",
              "      <th></th>\n",
              "      <th></th>\n",
              "      <th></th>\n",
              "      <th></th>\n",
              "      <th></th>\n",
              "      <th></th>\n",
              "      <th></th>\n",
              "      <th></th>\n",
              "      <th></th>\n",
              "      <th></th>\n",
              "      <th></th>\n",
              "      <th></th>\n",
              "      <th></th>\n",
              "      <th></th>\n",
              "      <th></th>\n",
              "      <th></th>\n",
              "      <th></th>\n",
              "      <th></th>\n",
              "      <th></th>\n",
              "      <th></th>\n",
              "      <th></th>\n",
              "      <th></th>\n",
              "      <th></th>\n",
              "      <th></th>\n",
              "      <th></th>\n",
              "      <th></th>\n",
              "      <th></th>\n",
              "      <th></th>\n",
              "      <th></th>\n",
              "      <th></th>\n",
              "      <th></th>\n",
              "      <th></th>\n",
              "      <th></th>\n",
              "      <th></th>\n",
              "    </tr>\n",
              "  </thead>\n",
              "  <tbody>\n",
              "    <tr>\n",
              "      <th>0000913154</th>\n",
              "      <td>0.022</td>\n",
              "      <td>-0.001</td>\n",
              "      <td>0.004</td>\n",
              "      <td>-0.000</td>\n",
              "      <td>-0.002</td>\n",
              "      <td>-0.004</td>\n",
              "      <td>-0.003</td>\n",
              "      <td>0.015</td>\n",
              "      <td>0.027</td>\n",
              "      <td>0.013</td>\n",
              "      <td>-0.001</td>\n",
              "      <td>0.012</td>\n",
              "      <td>-0.006</td>\n",
              "      <td>0.006</td>\n",
              "      <td>-0.005</td>\n",
              "      <td>-0.000</td>\n",
              "      <td>0.016</td>\n",
              "      <td>-0.001</td>\n",
              "      <td>0.003</td>\n",
              "      <td>0.008</td>\n",
              "      <td>-0.001</td>\n",
              "      <td>-0.006</td>\n",
              "      <td>-0.016</td>\n",
              "      <td>0.021</td>\n",
              "      <td>-0.004</td>\n",
              "      <td>0.009</td>\n",
              "      <td>0.005</td>\n",
              "      <td>0.031</td>\n",
              "      <td>0.004</td>\n",
              "      <td>0.015</td>\n",
              "      <td>-0.004</td>\n",
              "      <td>0.001</td>\n",
              "      <td>-0.012</td>\n",
              "      <td>-0.000</td>\n",
              "      <td>0.010</td>\n",
              "      <td>-0.006</td>\n",
              "      <td>0.000</td>\n",
              "      <td>0.004</td>\n",
              "      <td>-0.006</td>\n",
              "      <td>0.002</td>\n",
              "      <td>...</td>\n",
              "      <td>0.017</td>\n",
              "      <td>0.003</td>\n",
              "      <td>0.003</td>\n",
              "      <td>-0.002</td>\n",
              "      <td>0.025</td>\n",
              "      <td>-0.001</td>\n",
              "      <td>0.015</td>\n",
              "      <td>-0.001</td>\n",
              "      <td>-0.012</td>\n",
              "      <td>0.016</td>\n",
              "      <td>0.002</td>\n",
              "      <td>0.103</td>\n",
              "      <td>0.009</td>\n",
              "      <td>-0.003</td>\n",
              "      <td>-0.002</td>\n",
              "      <td>-0.001</td>\n",
              "      <td>-0.009</td>\n",
              "      <td>0.004</td>\n",
              "      <td>0.001</td>\n",
              "      <td>-0.005</td>\n",
              "      <td>0.050</td>\n",
              "      <td>-0.003</td>\n",
              "      <td>-0.006</td>\n",
              "      <td>0.018</td>\n",
              "      <td>-0.005</td>\n",
              "      <td>-0.001</td>\n",
              "      <td>0.009</td>\n",
              "      <td>0.001</td>\n",
              "      <td>0.004</td>\n",
              "      <td>0.008</td>\n",
              "      <td>0.001</td>\n",
              "      <td>0.002</td>\n",
              "      <td>-0.007</td>\n",
              "      <td>0.007</td>\n",
              "      <td>-0.013</td>\n",
              "      <td>-0.007</td>\n",
              "      <td>0.009</td>\n",
              "      <td>0.009</td>\n",
              "      <td>0.022</td>\n",
              "      <td>0.004</td>\n",
              "    </tr>\n",
              "    <tr>\n",
              "      <th>0001046438</th>\n",
              "      <td>0.003</td>\n",
              "      <td>-0.001</td>\n",
              "      <td>-0.002</td>\n",
              "      <td>0.024</td>\n",
              "      <td>-0.001</td>\n",
              "      <td>0.008</td>\n",
              "      <td>0.016</td>\n",
              "      <td>0.007</td>\n",
              "      <td>-0.004</td>\n",
              "      <td>0.009</td>\n",
              "      <td>-0.000</td>\n",
              "      <td>0.006</td>\n",
              "      <td>-0.001</td>\n",
              "      <td>0.012</td>\n",
              "      <td>0.007</td>\n",
              "      <td>0.000</td>\n",
              "      <td>-0.003</td>\n",
              "      <td>-0.002</td>\n",
              "      <td>-0.001</td>\n",
              "      <td>-0.003</td>\n",
              "      <td>0.002</td>\n",
              "      <td>0.011</td>\n",
              "      <td>-0.003</td>\n",
              "      <td>0.008</td>\n",
              "      <td>0.004</td>\n",
              "      <td>0.004</td>\n",
              "      <td>0.011</td>\n",
              "      <td>-0.001</td>\n",
              "      <td>-0.005</td>\n",
              "      <td>-0.001</td>\n",
              "      <td>0.001</td>\n",
              "      <td>-0.002</td>\n",
              "      <td>0.010</td>\n",
              "      <td>-0.005</td>\n",
              "      <td>0.003</td>\n",
              "      <td>3.311</td>\n",
              "      <td>0.001</td>\n",
              "      <td>-0.001</td>\n",
              "      <td>-0.007</td>\n",
              "      <td>-0.001</td>\n",
              "      <td>...</td>\n",
              "      <td>-0.000</td>\n",
              "      <td>-0.000</td>\n",
              "      <td>0.002</td>\n",
              "      <td>0.004</td>\n",
              "      <td>0.019</td>\n",
              "      <td>-0.005</td>\n",
              "      <td>0.002</td>\n",
              "      <td>0.005</td>\n",
              "      <td>0.007</td>\n",
              "      <td>-0.002</td>\n",
              "      <td>0.003</td>\n",
              "      <td>-0.014</td>\n",
              "      <td>-0.001</td>\n",
              "      <td>-0.000</td>\n",
              "      <td>0.010</td>\n",
              "      <td>0.003</td>\n",
              "      <td>-0.000</td>\n",
              "      <td>-0.001</td>\n",
              "      <td>-0.000</td>\n",
              "      <td>-0.003</td>\n",
              "      <td>-0.001</td>\n",
              "      <td>0.003</td>\n",
              "      <td>-0.001</td>\n",
              "      <td>-0.003</td>\n",
              "      <td>-0.007</td>\n",
              "      <td>0.004</td>\n",
              "      <td>0.012</td>\n",
              "      <td>-0.000</td>\n",
              "      <td>-0.001</td>\n",
              "      <td>0.006</td>\n",
              "      <td>-0.003</td>\n",
              "      <td>0.015</td>\n",
              "      <td>-0.002</td>\n",
              "      <td>0.024</td>\n",
              "      <td>-0.007</td>\n",
              "      <td>-0.009</td>\n",
              "      <td>-0.000</td>\n",
              "      <td>0.002</td>\n",
              "      <td>-0.003</td>\n",
              "      <td>-0.001</td>\n",
              "    </tr>\n",
              "    <tr>\n",
              "      <th>000104687X</th>\n",
              "      <td>0.002</td>\n",
              "      <td>-0.001</td>\n",
              "      <td>-0.002</td>\n",
              "      <td>0.021</td>\n",
              "      <td>-0.001</td>\n",
              "      <td>0.007</td>\n",
              "      <td>0.013</td>\n",
              "      <td>0.006</td>\n",
              "      <td>-0.003</td>\n",
              "      <td>0.008</td>\n",
              "      <td>-0.000</td>\n",
              "      <td>0.005</td>\n",
              "      <td>-0.001</td>\n",
              "      <td>0.011</td>\n",
              "      <td>0.006</td>\n",
              "      <td>0.000</td>\n",
              "      <td>-0.003</td>\n",
              "      <td>-0.002</td>\n",
              "      <td>-0.001</td>\n",
              "      <td>-0.003</td>\n",
              "      <td>0.002</td>\n",
              "      <td>0.009</td>\n",
              "      <td>-0.002</td>\n",
              "      <td>0.007</td>\n",
              "      <td>0.004</td>\n",
              "      <td>0.003</td>\n",
              "      <td>0.009</td>\n",
              "      <td>-0.001</td>\n",
              "      <td>-0.004</td>\n",
              "      <td>-0.001</td>\n",
              "      <td>0.001</td>\n",
              "      <td>-0.002</td>\n",
              "      <td>0.009</td>\n",
              "      <td>-0.004</td>\n",
              "      <td>0.003</td>\n",
              "      <td>2.798</td>\n",
              "      <td>0.001</td>\n",
              "      <td>-0.001</td>\n",
              "      <td>-0.006</td>\n",
              "      <td>-0.001</td>\n",
              "      <td>...</td>\n",
              "      <td>-0.000</td>\n",
              "      <td>-0.000</td>\n",
              "      <td>0.002</td>\n",
              "      <td>0.003</td>\n",
              "      <td>0.016</td>\n",
              "      <td>-0.004</td>\n",
              "      <td>0.002</td>\n",
              "      <td>0.004</td>\n",
              "      <td>0.006</td>\n",
              "      <td>-0.001</td>\n",
              "      <td>0.003</td>\n",
              "      <td>-0.012</td>\n",
              "      <td>-0.001</td>\n",
              "      <td>-0.000</td>\n",
              "      <td>0.009</td>\n",
              "      <td>0.002</td>\n",
              "      <td>-0.000</td>\n",
              "      <td>-0.001</td>\n",
              "      <td>-0.000</td>\n",
              "      <td>-0.003</td>\n",
              "      <td>-0.000</td>\n",
              "      <td>0.002</td>\n",
              "      <td>-0.001</td>\n",
              "      <td>-0.002</td>\n",
              "      <td>-0.006</td>\n",
              "      <td>0.004</td>\n",
              "      <td>0.010</td>\n",
              "      <td>-0.000</td>\n",
              "      <td>-0.000</td>\n",
              "      <td>0.005</td>\n",
              "      <td>-0.003</td>\n",
              "      <td>0.013</td>\n",
              "      <td>-0.001</td>\n",
              "      <td>0.021</td>\n",
              "      <td>-0.006</td>\n",
              "      <td>-0.008</td>\n",
              "      <td>-0.000</td>\n",
              "      <td>0.002</td>\n",
              "      <td>-0.003</td>\n",
              "      <td>-0.001</td>\n",
              "    </tr>\n",
              "    <tr>\n",
              "      <th>0001047213</th>\n",
              "      <td>0.003</td>\n",
              "      <td>-0.001</td>\n",
              "      <td>-0.002</td>\n",
              "      <td>0.024</td>\n",
              "      <td>-0.001</td>\n",
              "      <td>0.008</td>\n",
              "      <td>0.016</td>\n",
              "      <td>0.007</td>\n",
              "      <td>-0.004</td>\n",
              "      <td>0.009</td>\n",
              "      <td>-0.000</td>\n",
              "      <td>0.006</td>\n",
              "      <td>-0.001</td>\n",
              "      <td>0.012</td>\n",
              "      <td>0.007</td>\n",
              "      <td>0.000</td>\n",
              "      <td>-0.003</td>\n",
              "      <td>-0.002</td>\n",
              "      <td>-0.001</td>\n",
              "      <td>-0.003</td>\n",
              "      <td>0.002</td>\n",
              "      <td>0.011</td>\n",
              "      <td>-0.003</td>\n",
              "      <td>0.008</td>\n",
              "      <td>0.004</td>\n",
              "      <td>0.004</td>\n",
              "      <td>0.011</td>\n",
              "      <td>-0.001</td>\n",
              "      <td>-0.005</td>\n",
              "      <td>-0.001</td>\n",
              "      <td>0.001</td>\n",
              "      <td>-0.002</td>\n",
              "      <td>0.010</td>\n",
              "      <td>-0.005</td>\n",
              "      <td>0.003</td>\n",
              "      <td>3.311</td>\n",
              "      <td>0.001</td>\n",
              "      <td>-0.001</td>\n",
              "      <td>-0.007</td>\n",
              "      <td>-0.001</td>\n",
              "      <td>...</td>\n",
              "      <td>-0.000</td>\n",
              "      <td>-0.000</td>\n",
              "      <td>0.002</td>\n",
              "      <td>0.004</td>\n",
              "      <td>0.019</td>\n",
              "      <td>-0.005</td>\n",
              "      <td>0.002</td>\n",
              "      <td>0.005</td>\n",
              "      <td>0.007</td>\n",
              "      <td>-0.002</td>\n",
              "      <td>0.003</td>\n",
              "      <td>-0.014</td>\n",
              "      <td>-0.001</td>\n",
              "      <td>-0.000</td>\n",
              "      <td>0.010</td>\n",
              "      <td>0.003</td>\n",
              "      <td>-0.000</td>\n",
              "      <td>-0.001</td>\n",
              "      <td>-0.000</td>\n",
              "      <td>-0.003</td>\n",
              "      <td>-0.001</td>\n",
              "      <td>0.003</td>\n",
              "      <td>-0.001</td>\n",
              "      <td>-0.003</td>\n",
              "      <td>-0.007</td>\n",
              "      <td>0.004</td>\n",
              "      <td>0.012</td>\n",
              "      <td>-0.000</td>\n",
              "      <td>-0.001</td>\n",
              "      <td>0.006</td>\n",
              "      <td>-0.003</td>\n",
              "      <td>0.015</td>\n",
              "      <td>-0.002</td>\n",
              "      <td>0.024</td>\n",
              "      <td>-0.007</td>\n",
              "      <td>-0.009</td>\n",
              "      <td>-0.000</td>\n",
              "      <td>0.002</td>\n",
              "      <td>-0.003</td>\n",
              "      <td>-0.001</td>\n",
              "    </tr>\n",
              "    <tr>\n",
              "      <th>000104799X</th>\n",
              "      <td>0.001</td>\n",
              "      <td>0.000</td>\n",
              "      <td>0.001</td>\n",
              "      <td>0.002</td>\n",
              "      <td>0.000</td>\n",
              "      <td>0.001</td>\n",
              "      <td>0.001</td>\n",
              "      <td>0.002</td>\n",
              "      <td>0.002</td>\n",
              "      <td>0.003</td>\n",
              "      <td>0.000</td>\n",
              "      <td>0.005</td>\n",
              "      <td>0.001</td>\n",
              "      <td>0.001</td>\n",
              "      <td>0.001</td>\n",
              "      <td>-0.000</td>\n",
              "      <td>0.001</td>\n",
              "      <td>0.001</td>\n",
              "      <td>0.001</td>\n",
              "      <td>0.001</td>\n",
              "      <td>0.001</td>\n",
              "      <td>0.001</td>\n",
              "      <td>0.003</td>\n",
              "      <td>0.001</td>\n",
              "      <td>0.001</td>\n",
              "      <td>0.000</td>\n",
              "      <td>0.001</td>\n",
              "      <td>0.002</td>\n",
              "      <td>0.010</td>\n",
              "      <td>0.000</td>\n",
              "      <td>0.001</td>\n",
              "      <td>0.001</td>\n",
              "      <td>0.004</td>\n",
              "      <td>0.002</td>\n",
              "      <td>0.003</td>\n",
              "      <td>-0.001</td>\n",
              "      <td>0.002</td>\n",
              "      <td>0.000</td>\n",
              "      <td>0.002</td>\n",
              "      <td>0.000</td>\n",
              "      <td>...</td>\n",
              "      <td>0.000</td>\n",
              "      <td>0.000</td>\n",
              "      <td>0.001</td>\n",
              "      <td>0.002</td>\n",
              "      <td>0.001</td>\n",
              "      <td>0.001</td>\n",
              "      <td>0.001</td>\n",
              "      <td>0.001</td>\n",
              "      <td>0.002</td>\n",
              "      <td>0.001</td>\n",
              "      <td>0.002</td>\n",
              "      <td>0.001</td>\n",
              "      <td>0.000</td>\n",
              "      <td>0.001</td>\n",
              "      <td>0.004</td>\n",
              "      <td>0.000</td>\n",
              "      <td>0.003</td>\n",
              "      <td>0.000</td>\n",
              "      <td>0.001</td>\n",
              "      <td>0.001</td>\n",
              "      <td>0.001</td>\n",
              "      <td>0.001</td>\n",
              "      <td>0.002</td>\n",
              "      <td>0.001</td>\n",
              "      <td>0.002</td>\n",
              "      <td>0.001</td>\n",
              "      <td>0.001</td>\n",
              "      <td>0.001</td>\n",
              "      <td>0.002</td>\n",
              "      <td>0.001</td>\n",
              "      <td>0.001</td>\n",
              "      <td>0.002</td>\n",
              "      <td>0.002</td>\n",
              "      <td>0.001</td>\n",
              "      <td>0.001</td>\n",
              "      <td>0.002</td>\n",
              "      <td>0.002</td>\n",
              "      <td>0.001</td>\n",
              "      <td>0.001</td>\n",
              "      <td>0.000</td>\n",
              "    </tr>\n",
              "  </tbody>\n",
              "</table>\n",
              "<p>5 rows × 449 columns</p>\n",
              "</div>"
            ],
            "text/plain": [
              "            2033    2110    2276    4017    ...  274301  275970  277427  278418\n",
              "ISBN                                        ...                                \n",
              "0000913154   0.022  -0.001   0.004  -0.000  ...   0.009   0.009   0.022   0.004\n",
              "0001046438   0.003  -0.001  -0.002   0.024  ...  -0.000   0.002  -0.003  -0.001\n",
              "000104687X   0.002  -0.001  -0.002   0.021  ...  -0.000   0.002  -0.003  -0.001\n",
              "0001047213   0.003  -0.001  -0.002   0.024  ...  -0.000   0.002  -0.003  -0.001\n",
              "000104799X   0.001   0.000   0.001   0.002  ...   0.002   0.001   0.001   0.000\n",
              "\n",
              "[5 rows x 449 columns]"
            ]
          },
          "metadata": {},
          "execution_count": 141
        }
      ]
    },
    {
      "cell_type": "markdown",
      "metadata": {
        "id": "pesmzKGtkSJk"
      },
      "source": [
        "### **Now it's time to make some recommendations.**"
      ]
    },
    {
      "cell_type": "code",
      "metadata": {
        "id": "VvPphLXNkI46"
      },
      "source": [
        "# Creating class for Collaborative Filtering Recommender\n",
        "\n",
        "class CFRecommender:\n",
        "    \n",
        "    MODEL_NAME = 'Collaborative Filtering'\n",
        "    \n",
        "    def __init__(self, cf_predictions_df):\n",
        "        self.cf_predictions_df = cf_predictions_df\n",
        "        \n",
        "    def get_model_name(self):\n",
        "        return self.MODEL_NAME\n",
        "        \n",
        "    def recommend_items(self, user_id, items_to_ignore=[], topn=10):\n",
        "        # Get and sort the user's predictions\n",
        "        sorted_user_predictions = self.cf_predictions_df[user_id].sort_values(ascending=False).reset_index().rename(columns={user_id: 'recStrength'})\n",
        "\n",
        "        # Recommend the highest predicted rating content that the user hasn't seen yet.\n",
        "        recommendations_df = sorted_user_predictions[~sorted_user_predictions['ISBN'].isin(items_to_ignore)].sort_values('recStrength', ascending = False).head(topn)\n",
        "        recommendations_df=recommendations_df.merge(books,on='ISBN',how='inner')\n",
        "        recommendations_df=recommendations_df[['ISBN','Book-Title','recStrength']]\n",
        "\n",
        "        return recommendations_df\n",
        "\n",
        "\n",
        "\n",
        "cf_recommender_model = CFRecommender(cf_preds_df)"
      ],
      "execution_count": 142,
      "outputs": []
    },
    {
      "cell_type": "code",
      "metadata": {
        "id": "otLG__KhkiPd"
      },
      "source": [
        "# Indexing by personId to speed up the searches during evaluation\n",
        "\n",
        "interactions_full_indexed_df = interactions_full_df.set_index('User-ID')\n",
        "interactions_train_indexed_df = interactions_train_df.set_index('User-ID')\n",
        "interactions_test_indexed_df = interactions_test_df.set_index('User-ID')"
      ],
      "execution_count": 143,
      "outputs": []
    },
    {
      "cell_type": "code",
      "metadata": {
        "id": "9MQOvIc0knW2"
      },
      "source": [
        "# Defining function to get interacted items by particular user\n",
        "\n",
        "def get_items_interacted(UserID, interactions_df):\n",
        "    interacted_items = interactions_df.loc[UserID]['ISBN']\n",
        "    return set(interacted_items if type(interacted_items) == pd.Series else [interacted_items])"
      ],
      "execution_count": 144,
      "outputs": []
    },
    {
      "cell_type": "code",
      "metadata": {
        "id": "vFpWmdNtIbHZ"
      },
      "source": [
        "# Creating ModelRecommender class to get recommendation for particular user\n",
        "\n",
        "class ModelRecommender:\n",
        "\n",
        "    # Function for getting the set of items which a user has not interacted with\n",
        "    def get_not_interacted_items_sample(self, UserID, sample_size, seed=42):\n",
        "        interacted_items = get_items_interacted(UserID, interactions_full_indexed_df)\n",
        "        all_items = set(ratings_explicit['ISBN'])\n",
        "        non_interacted_items = all_items - interacted_items\n",
        "\n",
        "        random.seed(seed)\n",
        "        non_interacted_items_sample = random.sample(non_interacted_items, sample_size)\n",
        "        return set(non_interacted_items_sample)\n",
        "\n",
        "    # Function to verify whether a particular item_id was present in the set of top N recommended items\n",
        "    def _verify_hit_top_n(self, item_id, recommended_items, topn):        \n",
        "            try:\n",
        "                index = next(i for i, c in enumerate(recommended_items) if c == item_id)\n",
        "            except:\n",
        "                index = -1\n",
        "            hit = int(index in range(0, topn))\n",
        "            return hit, index\n",
        "    \n",
        "    # Function to evaluate the performance of model for each user\n",
        "    def evaluate_model_for_user(self, model, person_id):\n",
        "        \n",
        "        # Getting the items in test set\n",
        "        interacted_values_testset = interactions_test_indexed_df.loc[person_id]\n",
        "        \n",
        "        if type(interacted_values_testset['ISBN']) == pd.Series:\n",
        "            person_interacted_items_testset = set(interacted_values_testset['ISBN'])\n",
        "        else:\n",
        "            person_interacted_items_testset = set([int(interacted_values_testset['ISBN'])])\n",
        "            \n",
        "        interacted_items_count_testset = len(person_interacted_items_testset) \n",
        "\n",
        "        # Getting a ranked recommendation list from the model for a given user\n",
        "        person_recs_df = model.recommend_items(person_id, items_to_ignore=get_items_interacted(person_id, interactions_train_indexed_df),topn=10000000000)\n",
        "        print('Recommendation for User-ID = ',person_id)\n",
        "        print(person_recs_df.head(10))\n",
        "\n",
        "        # Function to evaluate the performance of model at overall level\n",
        "    def recommend_book(self, model ,userid):\n",
        "        \n",
        "        person_metrics = self.evaluate_model_for_user(model, userid)  \n",
        "        return\n",
        "\n",
        "model_recommender = ModelRecommender()    "
      ],
      "execution_count": 145,
      "outputs": []
    },
    {
      "cell_type": "markdown",
      "metadata": {
        "id": "wJ9g5RnnJAvO"
      },
      "source": [
        "### **Let's recommend some books to User-ID 229329**"
      ]
    },
    {
      "cell_type": "code",
      "metadata": {
        "colab": {
          "base_uri": "https://localhost:8080/"
        },
        "id": "at5qNG0oJo-S",
        "outputId": "4153f1da-5f60-496e-9a38-c3d77196b960"
      },
      "source": [
        "# Recommending books to user-ID 229329\n",
        "\n",
        "model_recommender.recommend_book(cf_recommender_model,229329)"
      ],
      "execution_count": 146,
      "outputs": [
        {
          "output_type": "stream",
          "name": "stdout",
          "text": [
            "Recommendation for User-ID =  229329\n",
            "         ISBN                                         Book-Title  recStrength\n",
            "0  0312195516                The Red Tent (Bestselling Backlist)        0.090\n",
            "1  0345370775                                      Jurassic Park        0.085\n",
            "2  0312966970             Four To Score (A Stephanie Plum Novel)        0.076\n",
            "3  0446310786                              To Kill a Mockingbird        0.073\n",
            "4  0440214041                                  The Pelican Brief        0.072\n",
            "5  059035342X  Harry Potter and the Sorcerer's Stone (Harry P...        0.071\n",
            "6  0312924585                               Silence of the Lambs        0.070\n",
            "7  0345361792                            A Prayer for Owen Meany        0.069\n",
            "8  044021145X                                           The Firm        0.069\n",
            "9  043935806X  Harry Potter and the Order of the Phoenix (Boo...        0.067\n"
          ]
        }
      ]
    },
    {
      "cell_type": "markdown",
      "metadata": {
        "id": "ywckz4R2KKGO"
      },
      "source": [
        "* **So, books like; The Red Tent, Jurassic Park, Four To Score, etc. recommended to user 229329.**"
      ]
    },
    {
      "cell_type": "markdown",
      "metadata": {
        "id": "P5jwPecmKmrW"
      },
      "source": [
        "# **Evaluation**"
      ]
    },
    {
      "cell_type": "markdown",
      "metadata": {
        "id": "1z-HQXWMKqAy"
      },
      "source": [
        "### **Top-N accuracy metrics**"
      ]
    },
    {
      "cell_type": "code",
      "metadata": {
        "id": "PDX1bh4WKBUj"
      },
      "source": [
        "# Top-N accuracy metrics\n",
        "EVAL_RANDOM_SAMPLE_NON_INTERACTED_ITEMS = 100\n",
        "\n",
        "class ModelEvaluator:\n",
        "\n",
        "    # Function for getting the set of items which a user has not interacted with\n",
        "    def get_not_interacted_items_sample(self, UserID, sample_size, seed=42):\n",
        "        interacted_items = get_items_interacted(UserID, interactions_full_indexed_df)\n",
        "        all_items = set(ratings_explicit['ISBN'])\n",
        "        non_interacted_items = all_items - interacted_items\n",
        "\n",
        "        random.seed(seed)\n",
        "        non_interacted_items_sample = random.sample(non_interacted_items, sample_size)\n",
        "        return set(non_interacted_items_sample)\n",
        "\n",
        "    # Function to verify whether a particular item_id was present in the set of top N recommended items\n",
        "    def _verify_hit_top_n(self, item_id, recommended_items, topn):        \n",
        "            try:\n",
        "                index = next(i for i, c in enumerate(recommended_items) if c == item_id)\n",
        "            except:\n",
        "                index = -1\n",
        "            hit = int(index in range(0, topn))\n",
        "            return hit, index\n",
        "    \n",
        "    # Function to evaluate the performance of model for each user\n",
        "    def evaluate_model_for_user(self, model, person_id):\n",
        "        \n",
        "        # Getting the items in test set\n",
        "        interacted_values_testset = interactions_test_indexed_df.loc[person_id]\n",
        "        \n",
        "        if type(interacted_values_testset['ISBN']) == pd.Series:\n",
        "            person_interacted_items_testset = set(interacted_values_testset['ISBN'])\n",
        "        else:\n",
        "            person_interacted_items_testset = set([int(interacted_values_testset['ISBN'])])\n",
        "            \n",
        "        interacted_items_count_testset = len(person_interacted_items_testset) \n",
        "\n",
        "        # Getting a ranked recommendation list from the model for a given user\n",
        "        person_recs_df = model.recommend_items(person_id, items_to_ignore=get_items_interacted(person_id, interactions_train_indexed_df),topn=10000000000)\n",
        "\n",
        "        hits_at_5_count = 0\n",
        "        hits_at_10_count = 0\n",
        "        \n",
        "        # For each item the user has interacted in test set\n",
        "        for item_id in person_interacted_items_testset:\n",
        "            \n",
        "            # Getting a random sample of 100 items the user has not interacted with\n",
        "            non_interacted_items_sample = self.get_not_interacted_items_sample(person_id, sample_size=EVAL_RANDOM_SAMPLE_NON_INTERACTED_ITEMS, seed=item_id)    #%(2**32))\n",
        "\n",
        "            # Combining the current interacted item with the 100 random items\n",
        "            items_to_filter_recs = non_interacted_items_sample.union(set([item_id]))\n",
        "\n",
        "            # Filtering only recommendations that are either the interacted item or from a random sample of 100 non-interacted items\n",
        "            valid_recs_df = person_recs_df[person_recs_df['ISBN'].isin(items_to_filter_recs)]                    \n",
        "            valid_recs = valid_recs_df['ISBN'].values\n",
        "            \n",
        "            # Verifying if the current interacted item is among the Top-N recommended items\n",
        "            hit_at_5, index_at_5 = self._verify_hit_top_n(item_id, valid_recs, 5)\n",
        "            hits_at_5_count += hit_at_5\n",
        "            hit_at_10, index_at_10 = self._verify_hit_top_n(item_id, valid_recs, 10)\n",
        "            hits_at_10_count += hit_at_10\n",
        "\n",
        "        # Recall is the rate of the interacted items that are ranked among the Top-N recommended items\n",
        "        recall_at_5 = hits_at_5_count / float(interacted_items_count_testset)\n",
        "        recall_at_10 = hits_at_10_count / float(interacted_items_count_testset)\n",
        "\n",
        "        person_metrics = {'hits@5_count':hits_at_5_count, \n",
        "                          'hits@10_count':hits_at_10_count, \n",
        "                          'interacted_count': interacted_items_count_testset,\n",
        "                          'recall@5': recall_at_5,\n",
        "                          'recall@10': recall_at_10}\n",
        "        return person_metrics\n",
        "\n",
        "    \n",
        "    # Function to evaluate the performance of model at overall level\n",
        "    def evaluate_model(self, model):\n",
        "        \n",
        "        people_metrics = []\n",
        "        \n",
        "        for idx, person_id in enumerate(list(interactions_test_indexed_df.index.unique().values)):    \n",
        "            person_metrics = self.evaluate_model_for_user(model, person_id)  \n",
        "            person_metrics['User-ID'] = person_id\n",
        "            people_metrics.append(person_metrics)\n",
        "            \n",
        "        print('%d users processed' % idx)\n",
        "\n",
        "        detailed_results_df = pd.DataFrame(people_metrics).sort_values('interacted_count', ascending=False)\n",
        "        \n",
        "        global_recall_at_5 = detailed_results_df['hits@5_count'].sum() / float(detailed_results_df['interacted_count'].sum())\n",
        "        global_recall_at_10 = detailed_results_df['hits@10_count'].sum() / float(detailed_results_df['interacted_count'].sum())\n",
        "        \n",
        "        global_metrics = {'modelName': model.get_model_name(),\n",
        "                          'recall@5': global_recall_at_5,\n",
        "                          'recall@10': global_recall_at_10}    \n",
        "        return global_metrics, detailed_results_df\n",
        "    \n",
        "model_evaluator = ModelEvaluator()    "
      ],
      "execution_count": 147,
      "outputs": []
    },
    {
      "cell_type": "code",
      "metadata": {
        "colab": {
          "base_uri": "https://localhost:8080/",
          "height": 470
        },
        "id": "6lwZgZx0K8TZ",
        "outputId": "a93974b2-addd-4059-b59a-836ef5498151"
      },
      "source": [
        "# Printing recall@5 and recall@10 values\n",
        "\n",
        "print('Evaluating Collaborative Filtering (SVD Matrix Factorization) model...')\n",
        "cf_global_metrics, cf_detailed_results_df = model_evaluator.evaluate_model(cf_recommender_model)\n",
        "\n",
        "print('\\nGlobal metrics:\\n%s' % cf_global_metrics)\n",
        "cf_detailed_results_df.head(10)"
      ],
      "execution_count": 148,
      "outputs": [
        {
          "output_type": "stream",
          "name": "stdout",
          "text": [
            "Evaluating Collaborative Filtering (SVD Matrix Factorization) model...\n",
            "448 users processed\n",
            "\n",
            "Global metrics:\n",
            "{'modelName': 'Collaborative Filtering', 'recall@5': 0.23945775841200678, 'recall@10': 0.3103364802711208}\n"
          ]
        },
        {
          "output_type": "execute_result",
          "data": {
            "text/html": [
              "<div>\n",
              "<style scoped>\n",
              "    .dataframe tbody tr th:only-of-type {\n",
              "        vertical-align: middle;\n",
              "    }\n",
              "\n",
              "    .dataframe tbody tr th {\n",
              "        vertical-align: top;\n",
              "    }\n",
              "\n",
              "    .dataframe thead th {\n",
              "        text-align: right;\n",
              "    }\n",
              "</style>\n",
              "<table border=\"1\" class=\"dataframe\">\n",
              "  <thead>\n",
              "    <tr style=\"text-align: right;\">\n",
              "      <th></th>\n",
              "      <th>hits@5_count</th>\n",
              "      <th>hits@10_count</th>\n",
              "      <th>interacted_count</th>\n",
              "      <th>recall@5</th>\n",
              "      <th>recall@10</th>\n",
              "      <th>User-ID</th>\n",
              "    </tr>\n",
              "  </thead>\n",
              "  <tbody>\n",
              "    <tr>\n",
              "      <th>0</th>\n",
              "      <td>242</td>\n",
              "      <td>305</td>\n",
              "      <td>1389</td>\n",
              "      <td>0.174</td>\n",
              "      <td>0.220</td>\n",
              "      <td>11676</td>\n",
              "    </tr>\n",
              "    <tr>\n",
              "      <th>2</th>\n",
              "      <td>203</td>\n",
              "      <td>269</td>\n",
              "      <td>1138</td>\n",
              "      <td>0.178</td>\n",
              "      <td>0.236</td>\n",
              "      <td>98391</td>\n",
              "    </tr>\n",
              "    <tr>\n",
              "      <th>12</th>\n",
              "      <td>24</td>\n",
              "      <td>35</td>\n",
              "      <td>380</td>\n",
              "      <td>0.063</td>\n",
              "      <td>0.092</td>\n",
              "      <td>189835</td>\n",
              "    </tr>\n",
              "    <tr>\n",
              "      <th>150</th>\n",
              "      <td>81</td>\n",
              "      <td>96</td>\n",
              "      <td>369</td>\n",
              "      <td>0.220</td>\n",
              "      <td>0.260</td>\n",
              "      <td>153662</td>\n",
              "    </tr>\n",
              "    <tr>\n",
              "      <th>93</th>\n",
              "      <td>29</td>\n",
              "      <td>36</td>\n",
              "      <td>236</td>\n",
              "      <td>0.123</td>\n",
              "      <td>0.153</td>\n",
              "      <td>23902</td>\n",
              "    </tr>\n",
              "    <tr>\n",
              "      <th>139</th>\n",
              "      <td>24</td>\n",
              "      <td>49</td>\n",
              "      <td>204</td>\n",
              "      <td>0.118</td>\n",
              "      <td>0.240</td>\n",
              "      <td>235105</td>\n",
              "    </tr>\n",
              "    <tr>\n",
              "      <th>65</th>\n",
              "      <td>16</td>\n",
              "      <td>19</td>\n",
              "      <td>203</td>\n",
              "      <td>0.079</td>\n",
              "      <td>0.094</td>\n",
              "      <td>76499</td>\n",
              "    </tr>\n",
              "    <tr>\n",
              "      <th>89</th>\n",
              "      <td>30</td>\n",
              "      <td>36</td>\n",
              "      <td>193</td>\n",
              "      <td>0.155</td>\n",
              "      <td>0.187</td>\n",
              "      <td>171118</td>\n",
              "    </tr>\n",
              "    <tr>\n",
              "      <th>95</th>\n",
              "      <td>58</td>\n",
              "      <td>69</td>\n",
              "      <td>192</td>\n",
              "      <td>0.302</td>\n",
              "      <td>0.359</td>\n",
              "      <td>16795</td>\n",
              "    </tr>\n",
              "    <tr>\n",
              "      <th>27</th>\n",
              "      <td>18</td>\n",
              "      <td>30</td>\n",
              "      <td>188</td>\n",
              "      <td>0.096</td>\n",
              "      <td>0.160</td>\n",
              "      <td>248718</td>\n",
              "    </tr>\n",
              "  </tbody>\n",
              "</table>\n",
              "</div>"
            ],
            "text/plain": [
              "     hits@5_count  hits@10_count  ...  recall@10  User-ID\n",
              "0             242            305  ...      0.220    11676\n",
              "2             203            269  ...      0.236    98391\n",
              "12             24             35  ...      0.092   189835\n",
              "150            81             96  ...      0.260   153662\n",
              "93             29             36  ...      0.153    23902\n",
              "139            24             49  ...      0.240   235105\n",
              "65             16             19  ...      0.094    76499\n",
              "89             30             36  ...      0.187   171118\n",
              "95             58             69  ...      0.359    16795\n",
              "27             18             30  ...      0.160   248718\n",
              "\n",
              "[10 rows x 6 columns]"
            ]
          },
          "metadata": {},
          "execution_count": 148
        }
      ]
    },
    {
      "cell_type": "markdown",
      "metadata": {
        "id": "qYKZHpFbMeXy"
      },
      "source": [
        "# **Conclusion**"
      ]
    },
    {
      "cell_type": "markdown",
      "metadata": {
        "id": "tL165bOANgpB"
      },
      "source": [
        "### **1.** Majority of the readers were of the age bracket 20-30 years.\n",
        "------------------------------------------\n",
        "### **2.** Most of the books have high ratings with maximum books being rated 8. Ratings below 5 are few in number.\n",
        "------------------------------------------\n",
        "### **3.** Top-10 most rated booke were essentially Novels. For example; The Lovely Bone and Wild Animus were very well perceived.\n",
        "------------------------------------------\n",
        "### **4.** In Model Based Collaborative Filtering SVD technique worked way better than NMF with lower Mean Absolute Error (MAE).\n",
        "------------------------------------------\n",
        "### **5.** Out of Model Based and Memory Based, the performance decrease in case of Memory Based due to presence of sparse data.\n",
        "------------------------------------------\n",
        "### **6.** Given more information regarding the books dataset, namely features like Genre, Description etc, we could implement a content-filtering based recommendation system and compare the results with the existing collaborative-filtering based system."
      ]
    },
    {
      "cell_type": "code",
      "metadata": {
        "id": "lO-dIL3ALNi2"
      },
      "source": [
        ""
      ],
      "execution_count": null,
      "outputs": []
    }
  ]
}